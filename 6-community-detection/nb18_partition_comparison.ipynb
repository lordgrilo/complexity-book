{
 "cells": [
  {
   "cell_type": "markdown",
   "id": "0ef61478",
   "metadata": {},
   "source": [
    "# Comparing Partitions "
   ]
  },
  {
   "cell_type": "markdown",
   "id": "c5ae3159",
   "metadata": {},
   "source": [
    "## Build a library of partitions "
   ]
  },
  {
   "cell_type": "code",
   "execution_count": null,
   "id": "e420313b",
   "metadata": {},
   "outputs": [],
   "source": [
    "!pip install cdlib "
   ]
  },
  {
   "cell_type": "code",
   "execution_count": 71,
   "id": "53ccd594",
   "metadata": {},
   "outputs": [],
   "source": [
    "import networkx as nx\n",
    "import pandas as pd\n",
    "import matplotlib.pyplot as plt"
   ]
  },
  {
   "cell_type": "code",
   "execution_count": 75,
   "id": "adbae97d",
   "metadata": {},
   "outputs": [],
   "source": [
    "G = nx.karate_club_graph()\n",
    "G = nx.les_miserables_graph()"
   ]
  },
  {
   "cell_type": "code",
   "execution_count": 76,
   "id": "21d51bca",
   "metadata": {},
   "outputs": [],
   "source": [
    "from cdlib import algorithms"
   ]
  },
  {
   "cell_type": "code",
   "execution_count": 77,
   "id": "f764b116",
   "metadata": {},
   "outputs": [
    {
     "name": "stdout",
     "output_type": "stream",
     "text": [
      "Requirement already satisfied: wurlitzer in /Users/lordgrilo/.virtualenvs/stenv/lib/python3.9/site-packages (3.0.3)\r\n"
     ]
    }
   ],
   "source": [
    "!pip install wurlitzer"
   ]
  },
  {
   "cell_type": "code",
   "execution_count": 78,
   "id": "c7fce5af",
   "metadata": {},
   "outputs": [
    {
     "name": "stdout",
     "output_type": "stream",
     "text": [
      "Requirement already satisfied: infomap in /Users/lordgrilo/.virtualenvs/stenv/lib/python3.9/site-packages (2.7.1)\n",
      "Requirement already satisfied: leidenalg in /Users/lordgrilo/.virtualenvs/stenv/lib/python3.9/site-packages (0.9.1)\n",
      "Collecting igraph<0.11,>=0.10.0 (from leidenalg)\n",
      "  Using cached igraph-0.10.4-cp39-abi3-macosx_11_0_arm64.whl (1.7 MB)\n",
      "Requirement already satisfied: texttable>=1.6.2 in /Users/lordgrilo/.virtualenvs/stenv/lib/python3.9/site-packages (from igraph<0.11,>=0.10.0->leidenalg) (1.6.4)\n",
      "Installing collected packages: igraph\n",
      "  Attempting uninstall: igraph\n",
      "    Found existing installation: igraph 0.9.10\n",
      "    Uninstalling igraph-0.9.10:\n",
      "      Successfully uninstalled igraph-0.9.10\n",
      "\u001b[31mERROR: pip's dependency resolver does not currently take into account all the packages that are installed. This behaviour is the source of the following dependency conflicts.\n",
      "python-igraph 0.9.10 requires igraph==0.9.10, but you have igraph 0.10.4 which is incompatible.\u001b[0m\u001b[31m\n",
      "\u001b[0mSuccessfully installed igraph-0.10.4\n"
     ]
    }
   ],
   "source": [
    "!pip install infomap leidenalg"
   ]
  },
  {
   "cell_type": "code",
   "execution_count": 79,
   "id": "ceb349a1",
   "metadata": {},
   "outputs": [],
   "source": [
    "from cdlib import algorithms\n",
    "\n",
    "funcs = [\n",
    "    algorithms.label_propagation,\n",
    "    algorithms.louvain,\n",
    "    algorithms.walktrap,\n",
    "    algorithms.surprise_communities,\n",
    "    algorithms.label_propagation,\n",
    "    algorithms.rb_pots,\n",
    "    algorithms.spinglass,\n",
    "    algorithms.markov_clustering,\n",
    "    #     algorithms.lswl,\n",
    "    algorithms.infomap,\n",
    "    #     algorithms.async_fluid,\n",
    "    algorithms.significance_communities,\n",
    "    algorithms.eigenvector\n",
    "    #     algorithms.sbm_dl_nested\n",
    "]"
   ]
  },
  {
   "cell_type": "code",
   "execution_count": 80,
   "id": "28067e2c",
   "metadata": {},
   "outputs": [
    {
     "name": "stdout",
     "output_type": "stream",
     "text": [
      "label_propagation\n",
      "louvain\n",
      "walktrap\n",
      "surprise_communities\n",
      "label_propagation\n",
      "rb_pots\n",
      "spinglass\n",
      "markov_clustering\n",
      "infomap\n",
      "significance_communities\n",
      "eigenvector\n"
     ]
    }
   ],
   "source": [
    "partitions = {}\n",
    "\n",
    "for x in funcs:\n",
    "    print(x.__name__)\n",
    "    partitions[x.__name__] = x(G)"
   ]
  },
  {
   "cell_type": "code",
   "execution_count": 81,
   "id": "c33e56e1",
   "metadata": {},
   "outputs": [
    {
     "data": {
      "text/plain": [
       "[['Marguerite',\n",
       "  'Javert',\n",
       "  'Isabeau',\n",
       "  'Champmathieu',\n",
       "  'Judge',\n",
       "  'Woman1',\n",
       "  'Toussaint',\n",
       "  'MmeDeR',\n",
       "  'Perpetue',\n",
       "  'Fauchelevent',\n",
       "  'MlleBaptistine',\n",
       "  'MmeMagloire',\n",
       "  'Labarre',\n",
       "  'MotherInnocent',\n",
       "  'Gribier',\n",
       "  'Brevet',\n",
       "  'Gervais',\n",
       "  'Cochepaille',\n",
       "  'Bamatabois',\n",
       "  'Chenildieu',\n",
       "  'Valjean',\n",
       "  'Woman2',\n",
       "  'Scaufflaire',\n",
       "  'Simplice'],\n",
       " ['Dahlia',\n",
       "  'Pontmercy',\n",
       "  'Blacheville',\n",
       "  'Fameuil',\n",
       "  'Fantine',\n",
       "  'Gillenormand',\n",
       "  'Listolier',\n",
       "  'MlleVaubois',\n",
       "  'Favourite',\n",
       "  'MlleGillenormand',\n",
       "  'MmePontmercy',\n",
       "  'Zephine',\n",
       "  'LtGillenormand',\n",
       "  'Tholomyes',\n",
       "  'Cosette',\n",
       "  'BaronessT'],\n",
       " ['Gavroche',\n",
       "  'Grantaire',\n",
       "  'MotherPlutarch',\n",
       "  'Bossuet',\n",
       "  'Mabeuf',\n",
       "  'MmeHucheloup',\n",
       "  'Combeferre',\n",
       "  'Courfeyrac',\n",
       "  'Enjolras',\n",
       "  'Marius',\n",
       "  'Prouvaire',\n",
       "  'Joly',\n",
       "  'Feuilly',\n",
       "  'Bahorel'],\n",
       " ['Magnon',\n",
       "  'Babet',\n",
       "  'Boulatruelle',\n",
       "  'Eponine',\n",
       "  'Anzelma',\n",
       "  'Gueulemer',\n",
       "  'Montparnasse',\n",
       "  'Claquesous',\n",
       "  'MmeThenardier',\n",
       "  'Brujon',\n",
       "  'Thenardier'],\n",
       " ['Cravatte',\n",
       "  'Geborand',\n",
       "  'Count',\n",
       "  'Myriel',\n",
       "  'OldMan',\n",
       "  'CountessDeLo',\n",
       "  'Napoleon',\n",
       "  'Champtercier'],\n",
       " ['MmeBurgon', 'Jondrette'],\n",
       " ['Child2', 'Child1']]"
      ]
     },
     "execution_count": 81,
     "metadata": {},
     "output_type": "execute_result"
    }
   ],
   "source": [
    "partitions[\"label_propagation\"].communities"
   ]
  },
  {
   "cell_type": "markdown",
   "id": "25f51252",
   "metadata": {},
   "source": [
    "## comparison of partitions "
   ]
  },
  {
   "cell_type": "code",
   "execution_count": 82,
   "id": "0513c5f9",
   "metadata": {},
   "outputs": [
    {
     "name": "stdout",
     "output_type": "stream",
     "text": [
      "Requirement already satisfied: clusim in /Users/lordgrilo/.virtualenvs/stenv/lib/python3.9/site-packages (0.4)\n",
      "Requirement already satisfied: numpy in /Users/lordgrilo/.virtualenvs/stenv/lib/python3.9/site-packages (from clusim) (1.23.5)\n",
      "Requirement already satisfied: scipy in /Users/lordgrilo/.virtualenvs/stenv/lib/python3.9/site-packages (from clusim) (1.8.0)\n",
      "Requirement already satisfied: networkx in /Users/lordgrilo/.virtualenvs/stenv/lib/python3.9/site-packages (from clusim) (2.8)\n",
      "Requirement already satisfied: mpmath in /Users/lordgrilo/.virtualenvs/stenv/lib/python3.9/site-packages (from clusim) (1.3.0)\n",
      "Requirement already satisfied: python-igraph in /Users/lordgrilo/.virtualenvs/stenv/lib/python3.9/site-packages (from clusim) (0.9.10)\n",
      "Collecting igraph==0.9.10 (from python-igraph->clusim)\n",
      "  Using cached igraph-0.9.10-cp39-cp39-macosx_11_0_arm64.whl (1.5 MB)\n",
      "Requirement already satisfied: texttable>=1.6.2 in /Users/lordgrilo/.virtualenvs/stenv/lib/python3.9/site-packages (from igraph==0.9.10->python-igraph->clusim) (1.6.4)\n",
      "Installing collected packages: igraph\n",
      "  Attempting uninstall: igraph\n",
      "    Found existing installation: igraph 0.10.4\n",
      "    Uninstalling igraph-0.10.4:\n",
      "      Successfully uninstalled igraph-0.10.4\n",
      "\u001b[31mERROR: pip's dependency resolver does not currently take into account all the packages that are installed. This behaviour is the source of the following dependency conflicts.\n",
      "leidenalg 0.9.1 requires igraph<0.11,>=0.10.0, but you have igraph 0.9.10 which is incompatible.\u001b[0m\u001b[31m\n",
      "\u001b[0mSuccessfully installed igraph-0.9.10\n"
     ]
    }
   ],
   "source": [
    "!pip install clusim"
   ]
  },
  {
   "cell_type": "code",
   "execution_count": 83,
   "id": "88cbdaec",
   "metadata": {},
   "outputs": [],
   "source": [
    "from clusim.clustering import Clustering, print_clustering\n",
    "import clusim.sim as sim\n",
    "import clusim.clugen as clugen"
   ]
  },
  {
   "cell_type": "markdown",
   "id": "656f4e73",
   "metadata": {},
   "source": [
    "### Random partitions example"
   ]
  },
  {
   "cell_type": "code",
   "execution_count": 84,
   "id": "bb79e54e",
   "metadata": {},
   "outputs": [
    {
     "name": "stdout",
     "output_type": "stream",
     "text": [
      "097|12|346|85\n",
      "0|15|26|3|84|97\n",
      "            jaccard_index      0.09090909090909091\n",
      "               rand_index       0.7777777777777778\n",
      "            adjrand_index      0.05462184873949519\n",
      "    fowlkes_mallows_index      0.17677669529663687\n",
      "                 fmeasure      0.16666666666666666\n",
      "             purity_index                      0.5\n",
      "     classification_error                      0.5\n",
      "        czekanowski_index      0.16666666666666666\n",
      "               dice_index      0.16666666666666666\n",
      "           sorensen_index      0.16666666666666666\n",
      "    rogers_tanimoto_index       0.6363636363636364\n",
      "          southwood_index                      0.1\n",
      "      pearson_correlation   0.00026779828609096903\n",
      "         corrected_chance     0.023772442658020327\n",
      "      sample_expected_sim      0.09090909090909091\n",
      "                      nmi       0.6102771471247717\n",
      "                       mi       1.3709505944546692\n",
      "                   adj_mi      0.06190919318831636\n",
      "                      rmi    -0.007308980940285537\n",
      "                       vi       1.7509775004326937\n",
      "       geometric_accuracy       0.5916079783099616\n",
      "          overlap_quality                     -0.0\n",
      "                     onmi       0.3485540456517314\n",
      "              omega_index      0.05462184873949564\n"
     ]
    }
   ],
   "source": [
    "c1 = clugen.make_random_clustering(n_elements=10, n_clusters=2)\n",
    "c2 = clugen.make_random_clustering(n_elements=10, n_clusters=5)\n",
    "\n",
    "print_clustering(c1)\n",
    "print_clustering(c2)\n",
    "\n",
    "row_format2 = \"{:>25}\" * (2)\n",
    "for simfunc in sim.available_similarity_measures:\n",
    "    print(row_format2.format(simfunc, eval(\"sim.\" + simfunc + \"(c1, c2)\")))"
   ]
  },
  {
   "cell_type": "markdown",
   "id": "8a47e99a",
   "metadata": {},
   "source": [
    "## bulk comparison "
   ]
  },
  {
   "cell_type": "code",
   "execution_count": 85,
   "id": "587fbc1d",
   "metadata": {},
   "outputs": [],
   "source": [
    "sim_partitions = {}\n",
    "\n",
    "for x in partitions:\n",
    "    sim_partitions[x] = Clustering().from_cluster_list(partitions[x].communities)"
   ]
  },
  {
   "cell_type": "code",
   "execution_count": 86,
   "id": "fce6f7b1",
   "metadata": {},
   "outputs": [],
   "source": [
    "def comparison_matrix(parts, simfunc):\n",
    "    ks = list(parts.keys())\n",
    "    from itertools import combinations\n",
    "    from collections import defaultdict\n",
    "\n",
    "    mat = defaultdict(dict)\n",
    "    for k, kk in combinations(ks, 2):\n",
    "        mat[k][kk] = simfunc(parts[k], parts[kk])\n",
    "    return pd.DataFrame(mat)"
   ]
  },
  {
   "cell_type": "code",
   "execution_count": 87,
   "id": "bd52390c",
   "metadata": {},
   "outputs": [
    {
     "data": {
      "text/html": [
       "<div>\n",
       "<style scoped>\n",
       "    .dataframe tbody tr th:only-of-type {\n",
       "        vertical-align: middle;\n",
       "    }\n",
       "\n",
       "    .dataframe tbody tr th {\n",
       "        vertical-align: top;\n",
       "    }\n",
       "\n",
       "    .dataframe thead th {\n",
       "        text-align: right;\n",
       "    }\n",
       "</style>\n",
       "<table border=\"1\" class=\"dataframe\">\n",
       "  <thead>\n",
       "    <tr style=\"text-align: right;\">\n",
       "      <th></th>\n",
       "      <th>label_propagation</th>\n",
       "      <th>louvain</th>\n",
       "      <th>walktrap</th>\n",
       "      <th>surprise_communities</th>\n",
       "      <th>rb_pots</th>\n",
       "      <th>spinglass</th>\n",
       "      <th>markov_clustering</th>\n",
       "      <th>infomap</th>\n",
       "      <th>significance_communities</th>\n",
       "    </tr>\n",
       "  </thead>\n",
       "  <tbody>\n",
       "    <tr>\n",
       "      <th>louvain</th>\n",
       "      <td>0.699764</td>\n",
       "      <td>NaN</td>\n",
       "      <td>NaN</td>\n",
       "      <td>NaN</td>\n",
       "      <td>NaN</td>\n",
       "      <td>NaN</td>\n",
       "      <td>NaN</td>\n",
       "      <td>NaN</td>\n",
       "      <td>NaN</td>\n",
       "    </tr>\n",
       "    <tr>\n",
       "      <th>walktrap</th>\n",
       "      <td>0.693632</td>\n",
       "      <td>0.658128</td>\n",
       "      <td>NaN</td>\n",
       "      <td>NaN</td>\n",
       "      <td>NaN</td>\n",
       "      <td>NaN</td>\n",
       "      <td>NaN</td>\n",
       "      <td>NaN</td>\n",
       "      <td>NaN</td>\n",
       "    </tr>\n",
       "    <tr>\n",
       "      <th>surprise_communities</th>\n",
       "      <td>0.678990</td>\n",
       "      <td>0.638797</td>\n",
       "      <td>0.740572</td>\n",
       "      <td>NaN</td>\n",
       "      <td>NaN</td>\n",
       "      <td>NaN</td>\n",
       "      <td>NaN</td>\n",
       "      <td>NaN</td>\n",
       "      <td>NaN</td>\n",
       "    </tr>\n",
       "    <tr>\n",
       "      <th>rb_pots</th>\n",
       "      <td>0.691415</td>\n",
       "      <td>0.871015</td>\n",
       "      <td>0.728346</td>\n",
       "      <td>0.721737</td>\n",
       "      <td>NaN</td>\n",
       "      <td>NaN</td>\n",
       "      <td>NaN</td>\n",
       "      <td>NaN</td>\n",
       "      <td>NaN</td>\n",
       "    </tr>\n",
       "    <tr>\n",
       "      <th>spinglass</th>\n",
       "      <td>0.732612</td>\n",
       "      <td>0.822512</td>\n",
       "      <td>0.759390</td>\n",
       "      <td>0.741746</td>\n",
       "      <td>0.952185</td>\n",
       "      <td>NaN</td>\n",
       "      <td>NaN</td>\n",
       "      <td>NaN</td>\n",
       "      <td>NaN</td>\n",
       "    </tr>\n",
       "    <tr>\n",
       "      <th>markov_clustering</th>\n",
       "      <td>0.618237</td>\n",
       "      <td>0.708461</td>\n",
       "      <td>0.652796</td>\n",
       "      <td>0.474659</td>\n",
       "      <td>0.644010</td>\n",
       "      <td>0.684033</td>\n",
       "      <td>NaN</td>\n",
       "      <td>NaN</td>\n",
       "      <td>NaN</td>\n",
       "    </tr>\n",
       "    <tr>\n",
       "      <th>infomap</th>\n",
       "      <td>0.732466</td>\n",
       "      <td>0.848967</td>\n",
       "      <td>0.729392</td>\n",
       "      <td>0.735313</td>\n",
       "      <td>0.781273</td>\n",
       "      <td>0.742333</td>\n",
       "      <td>0.626293</td>\n",
       "      <td>NaN</td>\n",
       "      <td>NaN</td>\n",
       "    </tr>\n",
       "    <tr>\n",
       "      <th>significance_communities</th>\n",
       "      <td>0.691633</td>\n",
       "      <td>0.630627</td>\n",
       "      <td>0.709464</td>\n",
       "      <td>0.963308</td>\n",
       "      <td>0.718422</td>\n",
       "      <td>0.737896</td>\n",
       "      <td>0.457690</td>\n",
       "      <td>0.709643</td>\n",
       "      <td>NaN</td>\n",
       "    </tr>\n",
       "    <tr>\n",
       "      <th>eigenvector</th>\n",
       "      <td>0.668923</td>\n",
       "      <td>0.759628</td>\n",
       "      <td>0.711227</td>\n",
       "      <td>0.716290</td>\n",
       "      <td>0.808435</td>\n",
       "      <td>0.764878</td>\n",
       "      <td>0.516090</td>\n",
       "      <td>0.749298</td>\n",
       "      <td>0.706902</td>\n",
       "    </tr>\n",
       "  </tbody>\n",
       "</table>\n",
       "</div>"
      ],
      "text/plain": [
       "                          label_propagation   louvain  walktrap  \\\n",
       "louvain                            0.699764       NaN       NaN   \n",
       "walktrap                           0.693632  0.658128       NaN   \n",
       "surprise_communities               0.678990  0.638797  0.740572   \n",
       "rb_pots                            0.691415  0.871015  0.728346   \n",
       "spinglass                          0.732612  0.822512  0.759390   \n",
       "markov_clustering                  0.618237  0.708461  0.652796   \n",
       "infomap                            0.732466  0.848967  0.729392   \n",
       "significance_communities           0.691633  0.630627  0.709464   \n",
       "eigenvector                        0.668923  0.759628  0.711227   \n",
       "\n",
       "                          surprise_communities   rb_pots  spinglass  \\\n",
       "louvain                                    NaN       NaN        NaN   \n",
       "walktrap                                   NaN       NaN        NaN   \n",
       "surprise_communities                       NaN       NaN        NaN   \n",
       "rb_pots                               0.721737       NaN        NaN   \n",
       "spinglass                             0.741746  0.952185        NaN   \n",
       "markov_clustering                     0.474659  0.644010   0.684033   \n",
       "infomap                               0.735313  0.781273   0.742333   \n",
       "significance_communities              0.963308  0.718422   0.737896   \n",
       "eigenvector                           0.716290  0.808435   0.764878   \n",
       "\n",
       "                          markov_clustering   infomap  \\\n",
       "louvain                                 NaN       NaN   \n",
       "walktrap                                NaN       NaN   \n",
       "surprise_communities                    NaN       NaN   \n",
       "rb_pots                                 NaN       NaN   \n",
       "spinglass                               NaN       NaN   \n",
       "markov_clustering                       NaN       NaN   \n",
       "infomap                            0.626293       NaN   \n",
       "significance_communities           0.457690  0.709643   \n",
       "eigenvector                        0.516090  0.749298   \n",
       "\n",
       "                          significance_communities  \n",
       "louvain                                        NaN  \n",
       "walktrap                                       NaN  \n",
       "surprise_communities                           NaN  \n",
       "rb_pots                                        NaN  \n",
       "spinglass                                      NaN  \n",
       "markov_clustering                              NaN  \n",
       "infomap                                        NaN  \n",
       "significance_communities                       NaN  \n",
       "eigenvector                               0.706902  "
      ]
     },
     "execution_count": 87,
     "metadata": {},
     "output_type": "execute_result"
    }
   ],
   "source": [
    "comp_df = comparison_matrix(sim_partitions, sim.nmi)\n",
    "\n",
    "comp_df"
   ]
  },
  {
   "cell_type": "code",
   "execution_count": 88,
   "id": "f747fdbb",
   "metadata": {},
   "outputs": [
    {
     "data": {
      "text/plain": [
       "<AxesSubplot:>"
      ]
     },
     "execution_count": 88,
     "metadata": {},
     "output_type": "execute_result"
    },
    {
     "data": {
      "image/png": "[encoded data removed]",
      "text/plain": [
       "<Figure size 1008x720 with 2 Axes>"
      ]
     },
     "metadata": {
      "needs_background": "light"
     },
     "output_type": "display_data"
    }
   ],
   "source": [
    "from seaborn import heatmap\n",
    "\n",
    "fig = plt.figure(figsize=(14, 10))\n",
    "heatmap(comp_df)"
   ]
  },
  {
   "cell_type": "code",
   "execution_count": null,
   "id": "e54d1dbb",
   "metadata": {},
   "outputs": [],
   "source": []
  },
  {
   "cell_type": "code",
   "execution_count": null,
   "id": "1c61bc15",
   "metadata": {},
   "outputs": [],
   "source": []
  },
  {
   "cell_type": "code",
   "execution_count": null,
   "id": "f49e3c19",
   "metadata": {},
   "outputs": [],
   "source": []
  },
  {
   "cell_type": "code",
   "execution_count": null,
   "id": "cf9c7b02",
   "metadata": {},
   "outputs": [],
   "source": []
  }
 ],
 "metadata": {
  "kernelspec": {
   "display_name": "stenv",
   "language": "python",
   "name": "stenv"
  },
  "language_info": {
   "codemirror_mode": {
    "name": "ipython",
    "version": 3
   },
   "file_extension": ".py",
   "mimetype": "text/x-python",
   "name": "python",
   "nbconvert_exporter": "python",
   "pygments_lexer": "ipython3",
   "version": "3.9.16"
  },
  "toc": {
   "base_numbering": 1,
   "nav_menu": {},
   "number_sections": true,
   "sideBar": true,
   "skip_h1_title": false,
   "title_cell": "Table of Contents",
   "title_sidebar": "Contents",
   "toc_cell": false,
   "toc_position": {},
   "toc_section_display": true,
   "toc_window_display": true
  }
 },
 "nbformat": 4,
 "nbformat_minor": 5
}
