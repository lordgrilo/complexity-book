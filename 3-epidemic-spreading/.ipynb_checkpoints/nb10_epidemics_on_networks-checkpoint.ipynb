{
 "cells": [
  {
   "cell_type": "markdown",
   "metadata": {},
   "source": [
    "# Epidemics on networks "
   ]
  },
  {
   "cell_type": "markdown",
   "metadata": {},
   "source": [
    "We use the Python library [\"Epidemics on Networks\" developed by Kiss, Miller & Simon](https://github.com/springer-math/Mathematics-of-Epidemics-on-Networks).\n",
    "\n",
    "The library must be installed using pip:\n",
    "\n",
    "    pip install EoN\n",
    "  \n",
    "\n",
    "The library documentation is [available here](http://epidemicsonnetworks.readthedocs.io/en/latest/). "
   ]
  },
  {
   "cell_type": "code",
   "execution_count": 3,
   "metadata": {},
   "outputs": [],
   "source": [
    "import EoN\n",
    "import networkx as nx\n",
    "import numpy as np\n",
    "from collections import defaultdict\n",
    "import pandas as pd\n",
    "import seaborn as sns\n",
    "import matplotlib.ticker as ticker"
   ]
  },
  {
   "cell_type": "code",
   "execution_count": 4,
   "metadata": {},
   "outputs": [
    {
     "name": "stdout",
     "output_type": "stream",
     "text": [
      "Populating the interactive namespace from numpy and matplotlib\n"
     ]
    }
   ],
   "source": [
    "%pylab inline"
   ]
  },
  {
   "cell_type": "markdown",
   "metadata": {},
   "source": [
    "## Epidemic threshold for homogeneous networks"
   ]
  },
  {
   "cell_type": "markdown",
   "metadata": {},
   "source": [
    "We simulate the spread of an SIR on an Erdos-Renyi graph with constant recovery rate."
   ]
  },
  {
   "cell_type": "code",
   "execution_count": 7,
   "metadata": {},
   "outputs": [],
   "source": [
    "N=10000\n",
    "p=0.001\n",
    "G=nx.fast_gnp_random_graph(N, p)"
   ]
  },
  {
   "cell_type": "code",
   "execution_count": 8,
   "metadata": {},
   "outputs": [
    {
     "data": {
      "text/plain": [
       "True"
      ]
     },
     "execution_count": 8,
     "metadata": {},
     "output_type": "execute_result"
    }
   ],
   "source": [
    "nx.is_connected(G)"
   ]
  },
  {
   "cell_type": "code",
   "execution_count": 9,
   "metadata": {},
   "outputs": [
    {
     "name": "stdout",
     "output_type": "stream",
     "text": [
      "Name: \n",
      "Type: Graph\n",
      "Number of nodes: 10000\n",
      "Number of edges: 49949\n",
      "Average degree:   9.9898\n"
     ]
    }
   ],
   "source": [
    "print(nx.info(G))"
   ]
  },
  {
   "cell_type": "markdown",
   "metadata": {},
   "source": [
    "---\n",
    "**For this network the epidemic threshold can be approximated as $\\lambda_c = \\frac{\\mu}{\\langle k \\rangle}$**"
   ]
  },
  {
   "cell_type": "code",
   "execution_count": 10,
   "metadata": {},
   "outputs": [],
   "source": [
    "mu=0.2"
   ]
  },
  {
   "cell_type": "code",
   "execution_count": 11,
   "metadata": {},
   "outputs": [
    {
     "name": "stdout",
     "output_type": "stream",
     "text": [
      "0.02002042082924583\n"
     ]
    }
   ],
   "source": [
    "avg_deg1=2*len(G.edges)/N\n",
    "lc=mu/avg_deg1\n",
    "print(lc)"
   ]
  },
  {
   "cell_type": "markdown",
   "metadata": {},
   "source": [
    "**As expected for this network, we have $\\langle k^2 \\rangle \\sim \\langle k \\rangle^2 + \\langle k \\rangle$**"
   ]
  },
  {
   "cell_type": "code",
   "execution_count": 12,
   "metadata": {},
   "outputs": [
    {
     "name": "stdout",
     "output_type": "stream",
     "text": [
      "109.7682\n"
     ]
    }
   ],
   "source": [
    "sum_k2=0\n",
    "for i in G.nodes():\n",
    "    \n",
    "    k=G.degree(i)\n",
    "    sum_k2+=k*k\n",
    "\n",
    "avg_k2=sum_k2/N\n",
    "print(avg_k2)"
   ]
  },
  {
   "cell_type": "code",
   "execution_count": 13,
   "metadata": {},
   "outputs": [
    {
     "data": {
      "text/plain": [
       "109.78590404000002"
      ]
     },
     "execution_count": 13,
     "metadata": {},
     "output_type": "execute_result"
    }
   ],
   "source": [
    "avg_deg1**2 + avg_deg1"
   ]
  },
  {
   "cell_type": "markdown",
   "metadata": {},
   "source": [
    "### Simulations of an SIR process\n",
    "We simulate 20 realizations of a SIR model for increasing values of $\\lambda$ using the [fast_SIR function of EoN](https://epidemicsonnetworks.readthedocs.io/en/latest/functions/EoN.fast_SIR.html?highlight=fast_SIR)"
   ]
  },
  {
   "cell_type": "code",
   "execution_count": 14,
   "metadata": {},
   "outputs": [],
   "source": [
    "final_size=defaultdict(list)\n",
    "\n",
    "for lambd in np.geomspace(0.0001, 1.0, 20):\n",
    "    \n",
    "    for r in range(0, 20):\n",
    "        \n",
    "        t, S, I, R = EoN.fast_SIR(G, lambd, mu, rho=0.05)\n",
    "        \n",
    "        final_size[lambd].append(R[-1]/N)"
   ]
  },
  {
   "cell_type": "code",
   "execution_count": 15,
   "metadata": {},
   "outputs": [],
   "source": [
    "homo_net_size=pd.DataFrame.from_dict(final_size)"
   ]
  },
  {
   "cell_type": "code",
   "execution_count": 18,
   "metadata": {},
   "outputs": [
    {
     "data": {
      "text/html": [
       "<div>\n",
       "<style scoped>\n",
       "    .dataframe tbody tr th:only-of-type {\n",
       "        vertical-align: middle;\n",
       "    }\n",
       "\n",
       "    .dataframe tbody tr th {\n",
       "        vertical-align: top;\n",
       "    }\n",
       "\n",
       "    .dataframe thead th {\n",
       "        text-align: right;\n",
       "    }\n",
       "</style>\n",
       "<table border=\"1\" class=\"dataframe\">\n",
       "  <thead>\n",
       "    <tr style=\"text-align: right;\">\n",
       "      <th></th>\n",
       "      <th>0.000100</th>\n",
       "      <th>0.000162</th>\n",
       "      <th>0.000264</th>\n",
       "      <th>0.000428</th>\n",
       "      <th>0.000695</th>\n",
       "      <th>0.001129</th>\n",
       "      <th>0.001833</th>\n",
       "      <th>0.002976</th>\n",
       "      <th>0.004833</th>\n",
       "      <th>0.007848</th>\n",
       "      <th>0.012743</th>\n",
       "      <th>0.020691</th>\n",
       "      <th>0.033598</th>\n",
       "      <th>0.054556</th>\n",
       "      <th>0.088587</th>\n",
       "      <th>0.143845</th>\n",
       "      <th>0.233572</th>\n",
       "      <th>0.379269</th>\n",
       "      <th>0.615848</th>\n",
       "      <th>1.000000</th>\n",
       "    </tr>\n",
       "  </thead>\n",
       "  <tbody>\n",
       "    <tr>\n",
       "      <th>0</th>\n",
       "      <td>0.0504</td>\n",
       "      <td>0.0502</td>\n",
       "      <td>0.0503</td>\n",
       "      <td>0.0508</td>\n",
       "      <td>0.0515</td>\n",
       "      <td>0.0518</td>\n",
       "      <td>0.0547</td>\n",
       "      <td>0.0595</td>\n",
       "      <td>0.0613</td>\n",
       "      <td>0.0773</td>\n",
       "      <td>0.1068</td>\n",
       "      <td>0.2598</td>\n",
       "      <td>0.6004</td>\n",
       "      <td>0.8320</td>\n",
       "      <td>0.9466</td>\n",
       "      <td>0.9866</td>\n",
       "      <td>0.9952</td>\n",
       "      <td>0.9981</td>\n",
       "      <td>0.9998</td>\n",
       "      <td>0.9998</td>\n",
       "    </tr>\n",
       "    <tr>\n",
       "      <th>1</th>\n",
       "      <td>0.0501</td>\n",
       "      <td>0.0502</td>\n",
       "      <td>0.0511</td>\n",
       "      <td>0.0507</td>\n",
       "      <td>0.0525</td>\n",
       "      <td>0.0533</td>\n",
       "      <td>0.0543</td>\n",
       "      <td>0.0600</td>\n",
       "      <td>0.0623</td>\n",
       "      <td>0.0826</td>\n",
       "      <td>0.1070</td>\n",
       "      <td>0.2331</td>\n",
       "      <td>0.6024</td>\n",
       "      <td>0.8502</td>\n",
       "      <td>0.9465</td>\n",
       "      <td>0.9865</td>\n",
       "      <td>0.9952</td>\n",
       "      <td>0.9983</td>\n",
       "      <td>0.9993</td>\n",
       "      <td>0.9998</td>\n",
       "    </tr>\n",
       "    <tr>\n",
       "      <th>2</th>\n",
       "      <td>0.0504</td>\n",
       "      <td>0.0504</td>\n",
       "      <td>0.0512</td>\n",
       "      <td>0.0509</td>\n",
       "      <td>0.0518</td>\n",
       "      <td>0.0532</td>\n",
       "      <td>0.0542</td>\n",
       "      <td>0.0582</td>\n",
       "      <td>0.0611</td>\n",
       "      <td>0.0762</td>\n",
       "      <td>0.1049</td>\n",
       "      <td>0.2363</td>\n",
       "      <td>0.6144</td>\n",
       "      <td>0.8379</td>\n",
       "      <td>0.9489</td>\n",
       "      <td>0.9854</td>\n",
       "      <td>0.9950</td>\n",
       "      <td>0.9988</td>\n",
       "      <td>0.9992</td>\n",
       "      <td>0.9995</td>\n",
       "    </tr>\n",
       "    <tr>\n",
       "      <th>3</th>\n",
       "      <td>0.0501</td>\n",
       "      <td>0.0505</td>\n",
       "      <td>0.0509</td>\n",
       "      <td>0.0512</td>\n",
       "      <td>0.0520</td>\n",
       "      <td>0.0527</td>\n",
       "      <td>0.0553</td>\n",
       "      <td>0.0586</td>\n",
       "      <td>0.0651</td>\n",
       "      <td>0.0739</td>\n",
       "      <td>0.1126</td>\n",
       "      <td>0.2395</td>\n",
       "      <td>0.6008</td>\n",
       "      <td>0.8435</td>\n",
       "      <td>0.9486</td>\n",
       "      <td>0.9812</td>\n",
       "      <td>0.9951</td>\n",
       "      <td>0.9985</td>\n",
       "      <td>0.9994</td>\n",
       "      <td>0.9999</td>\n",
       "    </tr>\n",
       "    <tr>\n",
       "      <th>4</th>\n",
       "      <td>0.0502</td>\n",
       "      <td>0.0502</td>\n",
       "      <td>0.0503</td>\n",
       "      <td>0.0513</td>\n",
       "      <td>0.0513</td>\n",
       "      <td>0.0526</td>\n",
       "      <td>0.0548</td>\n",
       "      <td>0.0577</td>\n",
       "      <td>0.0618</td>\n",
       "      <td>0.0802</td>\n",
       "      <td>0.1049</td>\n",
       "      <td>0.2557</td>\n",
       "      <td>0.5968</td>\n",
       "      <td>0.8266</td>\n",
       "      <td>0.9500</td>\n",
       "      <td>0.9846</td>\n",
       "      <td>0.9956</td>\n",
       "      <td>0.9987</td>\n",
       "      <td>0.9995</td>\n",
       "      <td>0.9998</td>\n",
       "    </tr>\n",
       "    <tr>\n",
       "      <th>5</th>\n",
       "      <td>0.0501</td>\n",
       "      <td>0.0504</td>\n",
       "      <td>0.0501</td>\n",
       "      <td>0.0509</td>\n",
       "      <td>0.0514</td>\n",
       "      <td>0.0527</td>\n",
       "      <td>0.0549</td>\n",
       "      <td>0.0562</td>\n",
       "      <td>0.0622</td>\n",
       "      <td>0.0824</td>\n",
       "      <td>0.1198</td>\n",
       "      <td>0.2244</td>\n",
       "      <td>0.6049</td>\n",
       "      <td>0.8562</td>\n",
       "      <td>0.9455</td>\n",
       "      <td>0.9857</td>\n",
       "      <td>0.9958</td>\n",
       "      <td>0.9989</td>\n",
       "      <td>0.9989</td>\n",
       "      <td>0.9998</td>\n",
       "    </tr>\n",
       "    <tr>\n",
       "      <th>6</th>\n",
       "      <td>0.0503</td>\n",
       "      <td>0.0506</td>\n",
       "      <td>0.0507</td>\n",
       "      <td>0.0510</td>\n",
       "      <td>0.0512</td>\n",
       "      <td>0.0526</td>\n",
       "      <td>0.0550</td>\n",
       "      <td>0.0582</td>\n",
       "      <td>0.0665</td>\n",
       "      <td>0.0782</td>\n",
       "      <td>0.1068</td>\n",
       "      <td>0.2163</td>\n",
       "      <td>0.5699</td>\n",
       "      <td>0.8522</td>\n",
       "      <td>0.9449</td>\n",
       "      <td>0.9851</td>\n",
       "      <td>0.9953</td>\n",
       "      <td>0.9981</td>\n",
       "      <td>0.9995</td>\n",
       "      <td>0.9997</td>\n",
       "    </tr>\n",
       "    <tr>\n",
       "      <th>7</th>\n",
       "      <td>0.0502</td>\n",
       "      <td>0.0503</td>\n",
       "      <td>0.0503</td>\n",
       "      <td>0.0507</td>\n",
       "      <td>0.0510</td>\n",
       "      <td>0.0527</td>\n",
       "      <td>0.0536</td>\n",
       "      <td>0.0584</td>\n",
       "      <td>0.0619</td>\n",
       "      <td>0.0750</td>\n",
       "      <td>0.1088</td>\n",
       "      <td>0.2558</td>\n",
       "      <td>0.6262</td>\n",
       "      <td>0.8450</td>\n",
       "      <td>0.9502</td>\n",
       "      <td>0.9865</td>\n",
       "      <td>0.9953</td>\n",
       "      <td>0.9981</td>\n",
       "      <td>0.9996</td>\n",
       "      <td>0.9997</td>\n",
       "    </tr>\n",
       "    <tr>\n",
       "      <th>8</th>\n",
       "      <td>0.0503</td>\n",
       "      <td>0.0506</td>\n",
       "      <td>0.0505</td>\n",
       "      <td>0.0508</td>\n",
       "      <td>0.0523</td>\n",
       "      <td>0.0518</td>\n",
       "      <td>0.0548</td>\n",
       "      <td>0.0566</td>\n",
       "      <td>0.0659</td>\n",
       "      <td>0.0781</td>\n",
       "      <td>0.1045</td>\n",
       "      <td>0.2143</td>\n",
       "      <td>0.5917</td>\n",
       "      <td>0.8442</td>\n",
       "      <td>0.9442</td>\n",
       "      <td>0.9818</td>\n",
       "      <td>0.9946</td>\n",
       "      <td>0.9989</td>\n",
       "      <td>0.9989</td>\n",
       "      <td>0.9998</td>\n",
       "    </tr>\n",
       "    <tr>\n",
       "      <th>9</th>\n",
       "      <td>0.0504</td>\n",
       "      <td>0.0507</td>\n",
       "      <td>0.0502</td>\n",
       "      <td>0.0507</td>\n",
       "      <td>0.0524</td>\n",
       "      <td>0.0521</td>\n",
       "      <td>0.0551</td>\n",
       "      <td>0.0592</td>\n",
       "      <td>0.0648</td>\n",
       "      <td>0.0809</td>\n",
       "      <td>0.1032</td>\n",
       "      <td>0.2202</td>\n",
       "      <td>0.5941</td>\n",
       "      <td>0.8402</td>\n",
       "      <td>0.9408</td>\n",
       "      <td>0.9874</td>\n",
       "      <td>0.9953</td>\n",
       "      <td>0.9988</td>\n",
       "      <td>0.9999</td>\n",
       "      <td>0.9998</td>\n",
       "    </tr>\n",
       "    <tr>\n",
       "      <th>10</th>\n",
       "      <td>0.0504</td>\n",
       "      <td>0.0502</td>\n",
       "      <td>0.0508</td>\n",
       "      <td>0.0512</td>\n",
       "      <td>0.0519</td>\n",
       "      <td>0.0536</td>\n",
       "      <td>0.0560</td>\n",
       "      <td>0.0585</td>\n",
       "      <td>0.0634</td>\n",
       "      <td>0.0825</td>\n",
       "      <td>0.1126</td>\n",
       "      <td>0.2419</td>\n",
       "      <td>0.6179</td>\n",
       "      <td>0.8413</td>\n",
       "      <td>0.9503</td>\n",
       "      <td>0.9833</td>\n",
       "      <td>0.9955</td>\n",
       "      <td>0.9986</td>\n",
       "      <td>0.9994</td>\n",
       "      <td>0.9995</td>\n",
       "    </tr>\n",
       "    <tr>\n",
       "      <th>11</th>\n",
       "      <td>0.0501</td>\n",
       "      <td>0.0502</td>\n",
       "      <td>0.0510</td>\n",
       "      <td>0.0509</td>\n",
       "      <td>0.0522</td>\n",
       "      <td>0.0538</td>\n",
       "      <td>0.0548</td>\n",
       "      <td>0.0579</td>\n",
       "      <td>0.0636</td>\n",
       "      <td>0.0780</td>\n",
       "      <td>0.1131</td>\n",
       "      <td>0.2502</td>\n",
       "      <td>0.5890</td>\n",
       "      <td>0.8455</td>\n",
       "      <td>0.9472</td>\n",
       "      <td>0.9839</td>\n",
       "      <td>0.9961</td>\n",
       "      <td>0.9982</td>\n",
       "      <td>0.9995</td>\n",
       "      <td>0.9996</td>\n",
       "    </tr>\n",
       "    <tr>\n",
       "      <th>12</th>\n",
       "      <td>0.0501</td>\n",
       "      <td>0.0504</td>\n",
       "      <td>0.0508</td>\n",
       "      <td>0.0512</td>\n",
       "      <td>0.0518</td>\n",
       "      <td>0.0531</td>\n",
       "      <td>0.0551</td>\n",
       "      <td>0.0586</td>\n",
       "      <td>0.0637</td>\n",
       "      <td>0.0816</td>\n",
       "      <td>0.1153</td>\n",
       "      <td>0.2052</td>\n",
       "      <td>0.5770</td>\n",
       "      <td>0.8472</td>\n",
       "      <td>0.9474</td>\n",
       "      <td>0.9824</td>\n",
       "      <td>0.9952</td>\n",
       "      <td>0.9983</td>\n",
       "      <td>0.9994</td>\n",
       "      <td>0.9998</td>\n",
       "    </tr>\n",
       "    <tr>\n",
       "      <th>13</th>\n",
       "      <td>0.0500</td>\n",
       "      <td>0.0504</td>\n",
       "      <td>0.0507</td>\n",
       "      <td>0.0516</td>\n",
       "      <td>0.0515</td>\n",
       "      <td>0.0516</td>\n",
       "      <td>0.0540</td>\n",
       "      <td>0.0573</td>\n",
       "      <td>0.0645</td>\n",
       "      <td>0.0771</td>\n",
       "      <td>0.1162</td>\n",
       "      <td>0.2536</td>\n",
       "      <td>0.5798</td>\n",
       "      <td>0.8401</td>\n",
       "      <td>0.9508</td>\n",
       "      <td>0.9866</td>\n",
       "      <td>0.9951</td>\n",
       "      <td>0.9984</td>\n",
       "      <td>0.9997</td>\n",
       "      <td>0.9997</td>\n",
       "    </tr>\n",
       "    <tr>\n",
       "      <th>14</th>\n",
       "      <td>0.0504</td>\n",
       "      <td>0.0505</td>\n",
       "      <td>0.0504</td>\n",
       "      <td>0.0511</td>\n",
       "      <td>0.0525</td>\n",
       "      <td>0.0531</td>\n",
       "      <td>0.0563</td>\n",
       "      <td>0.0590</td>\n",
       "      <td>0.0630</td>\n",
       "      <td>0.0785</td>\n",
       "      <td>0.1143</td>\n",
       "      <td>0.2398</td>\n",
       "      <td>0.5996</td>\n",
       "      <td>0.8413</td>\n",
       "      <td>0.9517</td>\n",
       "      <td>0.9846</td>\n",
       "      <td>0.9946</td>\n",
       "      <td>0.9982</td>\n",
       "      <td>0.9995</td>\n",
       "      <td>0.9997</td>\n",
       "    </tr>\n",
       "    <tr>\n",
       "      <th>15</th>\n",
       "      <td>0.0502</td>\n",
       "      <td>0.0505</td>\n",
       "      <td>0.0504</td>\n",
       "      <td>0.0512</td>\n",
       "      <td>0.0516</td>\n",
       "      <td>0.0524</td>\n",
       "      <td>0.0543</td>\n",
       "      <td>0.0585</td>\n",
       "      <td>0.0676</td>\n",
       "      <td>0.0762</td>\n",
       "      <td>0.1058</td>\n",
       "      <td>0.2498</td>\n",
       "      <td>0.5682</td>\n",
       "      <td>0.8338</td>\n",
       "      <td>0.9489</td>\n",
       "      <td>0.9830</td>\n",
       "      <td>0.9957</td>\n",
       "      <td>0.9987</td>\n",
       "      <td>0.9994</td>\n",
       "      <td>0.9996</td>\n",
       "    </tr>\n",
       "    <tr>\n",
       "      <th>16</th>\n",
       "      <td>0.0502</td>\n",
       "      <td>0.0505</td>\n",
       "      <td>0.0510</td>\n",
       "      <td>0.0504</td>\n",
       "      <td>0.0518</td>\n",
       "      <td>0.0530</td>\n",
       "      <td>0.0556</td>\n",
       "      <td>0.0589</td>\n",
       "      <td>0.0670</td>\n",
       "      <td>0.0774</td>\n",
       "      <td>0.1169</td>\n",
       "      <td>0.2523</td>\n",
       "      <td>0.6070</td>\n",
       "      <td>0.8433</td>\n",
       "      <td>0.9459</td>\n",
       "      <td>0.9853</td>\n",
       "      <td>0.9964</td>\n",
       "      <td>0.9989</td>\n",
       "      <td>0.9994</td>\n",
       "      <td>0.9999</td>\n",
       "    </tr>\n",
       "    <tr>\n",
       "      <th>17</th>\n",
       "      <td>0.0502</td>\n",
       "      <td>0.0504</td>\n",
       "      <td>0.0511</td>\n",
       "      <td>0.0512</td>\n",
       "      <td>0.0511</td>\n",
       "      <td>0.0526</td>\n",
       "      <td>0.0539</td>\n",
       "      <td>0.0585</td>\n",
       "      <td>0.0625</td>\n",
       "      <td>0.0780</td>\n",
       "      <td>0.1108</td>\n",
       "      <td>0.2393</td>\n",
       "      <td>0.5866</td>\n",
       "      <td>0.8432</td>\n",
       "      <td>0.9445</td>\n",
       "      <td>0.9843</td>\n",
       "      <td>0.9961</td>\n",
       "      <td>0.9991</td>\n",
       "      <td>0.9996</td>\n",
       "      <td>0.9997</td>\n",
       "    </tr>\n",
       "    <tr>\n",
       "      <th>18</th>\n",
       "      <td>0.0502</td>\n",
       "      <td>0.0507</td>\n",
       "      <td>0.0507</td>\n",
       "      <td>0.0516</td>\n",
       "      <td>0.0515</td>\n",
       "      <td>0.0522</td>\n",
       "      <td>0.0557</td>\n",
       "      <td>0.0590</td>\n",
       "      <td>0.0635</td>\n",
       "      <td>0.0775</td>\n",
       "      <td>0.1270</td>\n",
       "      <td>0.2395</td>\n",
       "      <td>0.6052</td>\n",
       "      <td>0.8359</td>\n",
       "      <td>0.9473</td>\n",
       "      <td>0.9842</td>\n",
       "      <td>0.9947</td>\n",
       "      <td>0.9987</td>\n",
       "      <td>0.9997</td>\n",
       "      <td>0.9993</td>\n",
       "    </tr>\n",
       "    <tr>\n",
       "      <th>19</th>\n",
       "      <td>0.0502</td>\n",
       "      <td>0.0507</td>\n",
       "      <td>0.0508</td>\n",
       "      <td>0.0510</td>\n",
       "      <td>0.0526</td>\n",
       "      <td>0.0525</td>\n",
       "      <td>0.0550</td>\n",
       "      <td>0.0582</td>\n",
       "      <td>0.0679</td>\n",
       "      <td>0.0750</td>\n",
       "      <td>0.1101</td>\n",
       "      <td>0.2502</td>\n",
       "      <td>0.6150</td>\n",
       "      <td>0.8472</td>\n",
       "      <td>0.9499</td>\n",
       "      <td>0.9850</td>\n",
       "      <td>0.9954</td>\n",
       "      <td>0.9985</td>\n",
       "      <td>0.9997</td>\n",
       "      <td>0.9997</td>\n",
       "    </tr>\n",
       "  </tbody>\n",
       "</table>\n",
       "</div>"
      ],
      "text/plain": [
       "    0.000100  0.000162  0.000264  0.000428  0.000695  0.001129  0.001833  \\\n",
       "0     0.0504    0.0502    0.0503    0.0508    0.0515    0.0518    0.0547   \n",
       "1     0.0501    0.0502    0.0511    0.0507    0.0525    0.0533    0.0543   \n",
       "2     0.0504    0.0504    0.0512    0.0509    0.0518    0.0532    0.0542   \n",
       "3     0.0501    0.0505    0.0509    0.0512    0.0520    0.0527    0.0553   \n",
       "4     0.0502    0.0502    0.0503    0.0513    0.0513    0.0526    0.0548   \n",
       "5     0.0501    0.0504    0.0501    0.0509    0.0514    0.0527    0.0549   \n",
       "6     0.0503    0.0506    0.0507    0.0510    0.0512    0.0526    0.0550   \n",
       "7     0.0502    0.0503    0.0503    0.0507    0.0510    0.0527    0.0536   \n",
       "8     0.0503    0.0506    0.0505    0.0508    0.0523    0.0518    0.0548   \n",
       "9     0.0504    0.0507    0.0502    0.0507    0.0524    0.0521    0.0551   \n",
       "10    0.0504    0.0502    0.0508    0.0512    0.0519    0.0536    0.0560   \n",
       "11    0.0501    0.0502    0.0510    0.0509    0.0522    0.0538    0.0548   \n",
       "12    0.0501    0.0504    0.0508    0.0512    0.0518    0.0531    0.0551   \n",
       "13    0.0500    0.0504    0.0507    0.0516    0.0515    0.0516    0.0540   \n",
       "14    0.0504    0.0505    0.0504    0.0511    0.0525    0.0531    0.0563   \n",
       "15    0.0502    0.0505    0.0504    0.0512    0.0516    0.0524    0.0543   \n",
       "16    0.0502    0.0505    0.0510    0.0504    0.0518    0.0530    0.0556   \n",
       "17    0.0502    0.0504    0.0511    0.0512    0.0511    0.0526    0.0539   \n",
       "18    0.0502    0.0507    0.0507    0.0516    0.0515    0.0522    0.0557   \n",
       "19    0.0502    0.0507    0.0508    0.0510    0.0526    0.0525    0.0550   \n",
       "\n",
       "    0.002976  0.004833  0.007848  0.012743  0.020691  0.033598  0.054556  \\\n",
       "0     0.0595    0.0613    0.0773    0.1068    0.2598    0.6004    0.8320   \n",
       "1     0.0600    0.0623    0.0826    0.1070    0.2331    0.6024    0.8502   \n",
       "2     0.0582    0.0611    0.0762    0.1049    0.2363    0.6144    0.8379   \n",
       "3     0.0586    0.0651    0.0739    0.1126    0.2395    0.6008    0.8435   \n",
       "4     0.0577    0.0618    0.0802    0.1049    0.2557    0.5968    0.8266   \n",
       "5     0.0562    0.0622    0.0824    0.1198    0.2244    0.6049    0.8562   \n",
       "6     0.0582    0.0665    0.0782    0.1068    0.2163    0.5699    0.8522   \n",
       "7     0.0584    0.0619    0.0750    0.1088    0.2558    0.6262    0.8450   \n",
       "8     0.0566    0.0659    0.0781    0.1045    0.2143    0.5917    0.8442   \n",
       "9     0.0592    0.0648    0.0809    0.1032    0.2202    0.5941    0.8402   \n",
       "10    0.0585    0.0634    0.0825    0.1126    0.2419    0.6179    0.8413   \n",
       "11    0.0579    0.0636    0.0780    0.1131    0.2502    0.5890    0.8455   \n",
       "12    0.0586    0.0637    0.0816    0.1153    0.2052    0.5770    0.8472   \n",
       "13    0.0573    0.0645    0.0771    0.1162    0.2536    0.5798    0.8401   \n",
       "14    0.0590    0.0630    0.0785    0.1143    0.2398    0.5996    0.8413   \n",
       "15    0.0585    0.0676    0.0762    0.1058    0.2498    0.5682    0.8338   \n",
       "16    0.0589    0.0670    0.0774    0.1169    0.2523    0.6070    0.8433   \n",
       "17    0.0585    0.0625    0.0780    0.1108    0.2393    0.5866    0.8432   \n",
       "18    0.0590    0.0635    0.0775    0.1270    0.2395    0.6052    0.8359   \n",
       "19    0.0582    0.0679    0.0750    0.1101    0.2502    0.6150    0.8472   \n",
       "\n",
       "    0.088587  0.143845  0.233572  0.379269  0.615848  1.000000  \n",
       "0     0.9466    0.9866    0.9952    0.9981    0.9998    0.9998  \n",
       "1     0.9465    0.9865    0.9952    0.9983    0.9993    0.9998  \n",
       "2     0.9489    0.9854    0.9950    0.9988    0.9992    0.9995  \n",
       "3     0.9486    0.9812    0.9951    0.9985    0.9994    0.9999  \n",
       "4     0.9500    0.9846    0.9956    0.9987    0.9995    0.9998  \n",
       "5     0.9455    0.9857    0.9958    0.9989    0.9989    0.9998  \n",
       "6     0.9449    0.9851    0.9953    0.9981    0.9995    0.9997  \n",
       "7     0.9502    0.9865    0.9953    0.9981    0.9996    0.9997  \n",
       "8     0.9442    0.9818    0.9946    0.9989    0.9989    0.9998  \n",
       "9     0.9408    0.9874    0.9953    0.9988    0.9999    0.9998  \n",
       "10    0.9503    0.9833    0.9955    0.9986    0.9994    0.9995  \n",
       "11    0.9472    0.9839    0.9961    0.9982    0.9995    0.9996  \n",
       "12    0.9474    0.9824    0.9952    0.9983    0.9994    0.9998  \n",
       "13    0.9508    0.9866    0.9951    0.9984    0.9997    0.9997  \n",
       "14    0.9517    0.9846    0.9946    0.9982    0.9995    0.9997  \n",
       "15    0.9489    0.9830    0.9957    0.9987    0.9994    0.9996  \n",
       "16    0.9459    0.9853    0.9964    0.9989    0.9994    0.9999  \n",
       "17    0.9445    0.9843    0.9961    0.9991    0.9996    0.9997  \n",
       "18    0.9473    0.9842    0.9947    0.9987    0.9997    0.9993  \n",
       "19    0.9499    0.9850    0.9954    0.9985    0.9997    0.9997  "
      ]
     },
     "execution_count": 18,
     "metadata": {},
     "output_type": "execute_result"
    }
   ],
   "source": [
    "homo_net_size"
   ]
  },
  {
   "cell_type": "code",
   "execution_count": 19,
   "metadata": {},
   "outputs": [
    {
     "data": {
      "text/plain": [
       "Text(0.5, 0, '$\\\\lambda$')"
      ]
     },
     "execution_count": 19,
     "metadata": {},
     "output_type": "execute_result"
    },
    {
     "data": {
      "image/png": "[encoded data removed]",
      "text/plain": [
       "<Figure size 864x504 with 1 Axes>"
      ]
     },
     "metadata": {
      "needs_background": "light"
     },
     "output_type": "display_data"
    }
   ],
   "source": [
    "plt.figure(figsize=(12,7))\n",
    "\n",
    "homo_net_size.boxplot(positions=np.array(homo_net_size.columns), \n",
    "                      widths=np.array(homo_net_size.columns)/3)\n",
    "\n",
    "plt.vlines(x=lc, ymin=0.045, ymax=1.1)\n",
    "\n",
    "plt.xscale('log')\n",
    "plt.yscale('log')\n",
    "plt.xlim(0.0001, 1.0)\n",
    "plt.ylim(0.045, 1.1)\n",
    "plt.xticks(fontsize=18)\n",
    "plt.yticks(fontsize=18)\n",
    "plt.ylabel('final epidemic size', fontsize=18)\n",
    "plt.xlabel('$\\lambda$', fontsize=18)"
   ]
  },
  {
   "cell_type": "markdown",
   "metadata": {},
   "source": [
    "## Epidemic threshold for Barabàsi-Albert model networks"
   ]
  },
  {
   "cell_type": "code",
   "execution_count": 20,
   "metadata": {},
   "outputs": [],
   "source": [
    "N=10000\n",
    "AB=nx.barabasi_albert_graph(N, 5)"
   ]
  },
  {
   "cell_type": "code",
   "execution_count": 21,
   "metadata": {},
   "outputs": [
    {
     "data": {
      "text/plain": [
       "True"
      ]
     },
     "execution_count": 21,
     "metadata": {},
     "output_type": "execute_result"
    }
   ],
   "source": [
    "nx.is_connected(AB)"
   ]
  },
  {
   "cell_type": "code",
   "execution_count": 22,
   "metadata": {},
   "outputs": [
    {
     "name": "stdout",
     "output_type": "stream",
     "text": [
      "Name: \n",
      "Type: Graph\n",
      "Number of nodes: 10000\n",
      "Number of edges: 49975\n",
      "Average degree:   9.9950\n"
     ]
    }
   ],
   "source": [
    "print(nx.info(AB))"
   ]
  },
  {
   "cell_type": "code",
   "execution_count": 23,
   "metadata": {},
   "outputs": [
    {
     "name": "stdout",
     "output_type": "stream",
     "text": [
      "260.059\n"
     ]
    }
   ],
   "source": [
    "sum_k2=0\n",
    "for i in AB.nodes():\n",
    "    k=AB.degree(i)\n",
    "    sum_k2+=k*k\n",
    "avg_k2=sum_k2/N\n",
    "print(avg_k2)    "
   ]
  },
  {
   "cell_type": "code",
   "execution_count": 24,
   "metadata": {},
   "outputs": [
    {
     "name": "stdout",
     "output_type": "stream",
     "text": [
      "9.995\n"
     ]
    }
   ],
   "source": [
    "avg_deg=2*len(AB.edges)/N\n",
    "print(avg_deg)"
   ]
  },
  {
   "cell_type": "markdown",
   "metadata": {},
   "source": [
    "**The threshold can be approximated as $\\lambda_c \\sim \\mu \\frac{\\langle k \\rangle}{\\langle k^2 \\rangle - \\langle k \\rangle}$**"
   ]
  },
  {
   "cell_type": "code",
   "execution_count": 25,
   "metadata": {},
   "outputs": [
    {
     "name": "stdout",
     "output_type": "stream",
     "text": [
      "0.007993953547891739\n"
     ]
    }
   ],
   "source": [
    "lambda_c=mu*avg_deg/(avg_k2-avg_deg)\n",
    "print(lambda_c)"
   ]
  },
  {
   "cell_type": "code",
   "execution_count": 26,
   "metadata": {},
   "outputs": [
    {
     "data": {
      "text/plain": [
       "2.504445479862196"
      ]
     },
     "execution_count": 26,
     "metadata": {},
     "output_type": "execute_result"
    }
   ],
   "source": [
    "lc/lambda_c"
   ]
  },
  {
   "cell_type": "markdown",
   "metadata": {},
   "source": [
    "### Simulations of an SIR process\n",
    "We simulate 100 realizations of a SIR model for increasing values of $\\lambda$"
   ]
  },
  {
   "cell_type": "code",
   "execution_count": 27,
   "metadata": {},
   "outputs": [],
   "source": [
    "final_size_AB=defaultdict(list)\n",
    "\n",
    "for lambd in np.geomspace(0.0001, 1.0, 20):\n",
    "    for r in range(0, 20):\n",
    "        \n",
    "        t, S, I, R = EoN.fast_SIR(AB, lambd, mu, rho=0.05)\n",
    "        \n",
    "        final_size_AB[lambd].append(R[-1]/N)"
   ]
  },
  {
   "cell_type": "code",
   "execution_count": 28,
   "metadata": {},
   "outputs": [],
   "source": [
    "sf_net_size=pd.DataFrame.from_dict(final_size_AB)"
   ]
  },
  {
   "cell_type": "code",
   "execution_count": 29,
   "metadata": {},
   "outputs": [
    {
     "data": {
      "text/html": [
       "<div>\n",
       "<style scoped>\n",
       "    .dataframe tbody tr th:only-of-type {\n",
       "        vertical-align: middle;\n",
       "    }\n",
       "\n",
       "    .dataframe tbody tr th {\n",
       "        vertical-align: top;\n",
       "    }\n",
       "\n",
       "    .dataframe thead th {\n",
       "        text-align: right;\n",
       "    }\n",
       "</style>\n",
       "<table border=\"1\" class=\"dataframe\">\n",
       "  <thead>\n",
       "    <tr style=\"text-align: right;\">\n",
       "      <th></th>\n",
       "      <th>0.000100</th>\n",
       "      <th>0.000162</th>\n",
       "      <th>0.000264</th>\n",
       "      <th>0.000428</th>\n",
       "      <th>0.000695</th>\n",
       "      <th>0.001129</th>\n",
       "      <th>0.001833</th>\n",
       "      <th>0.002976</th>\n",
       "      <th>0.004833</th>\n",
       "      <th>0.007848</th>\n",
       "      <th>0.012743</th>\n",
       "      <th>0.020691</th>\n",
       "      <th>0.033598</th>\n",
       "      <th>0.054556</th>\n",
       "      <th>0.088587</th>\n",
       "      <th>0.143845</th>\n",
       "      <th>0.233572</th>\n",
       "      <th>0.379269</th>\n",
       "      <th>0.615848</th>\n",
       "      <th>1.000000</th>\n",
       "    </tr>\n",
       "  </thead>\n",
       "  <tbody>\n",
       "    <tr>\n",
       "      <th>15</th>\n",
       "      <td>0.0500</td>\n",
       "      <td>0.0504</td>\n",
       "      <td>0.0505</td>\n",
       "      <td>0.0507</td>\n",
       "      <td>0.0514</td>\n",
       "      <td>0.0528</td>\n",
       "      <td>0.0577</td>\n",
       "      <td>0.0604</td>\n",
       "      <td>0.0737</td>\n",
       "      <td>0.1022</td>\n",
       "      <td>0.1763</td>\n",
       "      <td>0.3674</td>\n",
       "      <td>0.5766</td>\n",
       "      <td>0.7929</td>\n",
       "      <td>0.9050</td>\n",
       "      <td>0.9676</td>\n",
       "      <td>0.9930</td>\n",
       "      <td>0.9989</td>\n",
       "      <td>0.9999</td>\n",
       "      <td>1.0000</td>\n",
       "    </tr>\n",
       "    <tr>\n",
       "      <th>16</th>\n",
       "      <td>0.0500</td>\n",
       "      <td>0.0503</td>\n",
       "      <td>0.0503</td>\n",
       "      <td>0.0506</td>\n",
       "      <td>0.0518</td>\n",
       "      <td>0.0531</td>\n",
       "      <td>0.0563</td>\n",
       "      <td>0.0589</td>\n",
       "      <td>0.0751</td>\n",
       "      <td>0.1079</td>\n",
       "      <td>0.1789</td>\n",
       "      <td>0.3627</td>\n",
       "      <td>0.5739</td>\n",
       "      <td>0.7877</td>\n",
       "      <td>0.9106</td>\n",
       "      <td>0.9672</td>\n",
       "      <td>0.9907</td>\n",
       "      <td>0.9984</td>\n",
       "      <td>0.9995</td>\n",
       "      <td>0.9999</td>\n",
       "    </tr>\n",
       "    <tr>\n",
       "      <th>17</th>\n",
       "      <td>0.0504</td>\n",
       "      <td>0.0501</td>\n",
       "      <td>0.0505</td>\n",
       "      <td>0.0509</td>\n",
       "      <td>0.0531</td>\n",
       "      <td>0.0528</td>\n",
       "      <td>0.0565</td>\n",
       "      <td>0.0591</td>\n",
       "      <td>0.0760</td>\n",
       "      <td>0.1137</td>\n",
       "      <td>0.1795</td>\n",
       "      <td>0.3713</td>\n",
       "      <td>0.5893</td>\n",
       "      <td>0.7965</td>\n",
       "      <td>0.9075</td>\n",
       "      <td>0.9684</td>\n",
       "      <td>0.9912</td>\n",
       "      <td>0.9978</td>\n",
       "      <td>0.9998</td>\n",
       "      <td>1.0000</td>\n",
       "    </tr>\n",
       "    <tr>\n",
       "      <th>18</th>\n",
       "      <td>0.0501</td>\n",
       "      <td>0.0502</td>\n",
       "      <td>0.0506</td>\n",
       "      <td>0.0515</td>\n",
       "      <td>0.0525</td>\n",
       "      <td>0.0532</td>\n",
       "      <td>0.0556</td>\n",
       "      <td>0.0583</td>\n",
       "      <td>0.0750</td>\n",
       "      <td>0.0898</td>\n",
       "      <td>0.1701</td>\n",
       "      <td>0.3518</td>\n",
       "      <td>0.5623</td>\n",
       "      <td>0.7889</td>\n",
       "      <td>0.9066</td>\n",
       "      <td>0.9699</td>\n",
       "      <td>0.9921</td>\n",
       "      <td>0.9981</td>\n",
       "      <td>0.9999</td>\n",
       "      <td>1.0000</td>\n",
       "    </tr>\n",
       "    <tr>\n",
       "      <th>19</th>\n",
       "      <td>0.0502</td>\n",
       "      <td>0.0505</td>\n",
       "      <td>0.0501</td>\n",
       "      <td>0.0514</td>\n",
       "      <td>0.0512</td>\n",
       "      <td>0.0524</td>\n",
       "      <td>0.0562</td>\n",
       "      <td>0.0622</td>\n",
       "      <td>0.0693</td>\n",
       "      <td>0.0984</td>\n",
       "      <td>0.1556</td>\n",
       "      <td>0.3317</td>\n",
       "      <td>0.5734</td>\n",
       "      <td>0.7814</td>\n",
       "      <td>0.9104</td>\n",
       "      <td>0.9657</td>\n",
       "      <td>0.9911</td>\n",
       "      <td>0.9979</td>\n",
       "      <td>0.9998</td>\n",
       "      <td>0.9999</td>\n",
       "    </tr>\n",
       "  </tbody>\n",
       "</table>\n",
       "</div>"
      ],
      "text/plain": [
       "    0.000100  0.000162  0.000264  0.000428  0.000695  0.001129  0.001833  \\\n",
       "15    0.0500    0.0504    0.0505    0.0507    0.0514    0.0528    0.0577   \n",
       "16    0.0500    0.0503    0.0503    0.0506    0.0518    0.0531    0.0563   \n",
       "17    0.0504    0.0501    0.0505    0.0509    0.0531    0.0528    0.0565   \n",
       "18    0.0501    0.0502    0.0506    0.0515    0.0525    0.0532    0.0556   \n",
       "19    0.0502    0.0505    0.0501    0.0514    0.0512    0.0524    0.0562   \n",
       "\n",
       "    0.002976  0.004833  0.007848  0.012743  0.020691  0.033598  0.054556  \\\n",
       "15    0.0604    0.0737    0.1022    0.1763    0.3674    0.5766    0.7929   \n",
       "16    0.0589    0.0751    0.1079    0.1789    0.3627    0.5739    0.7877   \n",
       "17    0.0591    0.0760    0.1137    0.1795    0.3713    0.5893    0.7965   \n",
       "18    0.0583    0.0750    0.0898    0.1701    0.3518    0.5623    0.7889   \n",
       "19    0.0622    0.0693    0.0984    0.1556    0.3317    0.5734    0.7814   \n",
       "\n",
       "    0.088587  0.143845  0.233572  0.379269  0.615848  1.000000  \n",
       "15    0.9050    0.9676    0.9930    0.9989    0.9999    1.0000  \n",
       "16    0.9106    0.9672    0.9907    0.9984    0.9995    0.9999  \n",
       "17    0.9075    0.9684    0.9912    0.9978    0.9998    1.0000  \n",
       "18    0.9066    0.9699    0.9921    0.9981    0.9999    1.0000  \n",
       "19    0.9104    0.9657    0.9911    0.9979    0.9998    0.9999  "
      ]
     },
     "execution_count": 29,
     "metadata": {},
     "output_type": "execute_result"
    }
   ],
   "source": [
    "sf_net_size.tail()"
   ]
  },
  {
   "cell_type": "code",
   "execution_count": 32,
   "metadata": {},
   "outputs": [
    {
     "data": {
      "text/plain": [
       "Text(0.5, 0, '$\\\\lambda$')"
      ]
     },
     "execution_count": 32,
     "metadata": {},
     "output_type": "execute_result"
    },
    {
     "data": {
      "image/png": "[encoded data removed]",
      "text/plain": [
       "<Figure size 864x504 with 1 Axes>"
      ]
     },
     "metadata": {
      "needs_background": "light"
     },
     "output_type": "display_data"
    }
   ],
   "source": [
    "plt.figure(figsize=(12,7))\n",
    "\n",
    "homo_net_size.boxplot(positions=np.array(homo_net_size.columns), widths=np.array(homo_net_size.columns)/3, color='r' )\n",
    "\n",
    "plt.vlines(x=lambda_c, ymin=0.04, ymax=1.1)\n",
    "sf_net_size.boxplot(positions=np.array(sf_net_size.columns), widths=np.array(sf_net_size.columns)/3)\n",
    "\n",
    "plt.yscale('log')\n",
    "plt.xscale('log')\n",
    "plt.xlim(0.0001, 1.0)\n",
    "plt.ylim(0.045, 1.1)\n",
    "plt.xticks(fontsize=18)\n",
    "plt.yticks(fontsize=18)\n",
    "plt.ylabel('final epidemic size', fontsize=18)\n",
    "plt.xlabel('$\\lambda$', fontsize=18)"
   ]
  },
  {
   "cell_type": "markdown",
   "metadata": {},
   "source": [
    "## Epidemic threshold for configuration model networks\n",
    "\n",
    "We can use the configuration model to generate a network with a given power-law degree distribution. By setting $\\gamma=2.1$, we expect to see more fluctuations in the degree distribution."
   ]
  },
  {
   "cell_type": "markdown",
   "metadata": {},
   "source": [
    "We create a function that samples from a power-law distribution between $k_{min}$ and $k_{max}$ with exponent $\\gamma$"
   ]
  },
  {
   "cell_type": "code",
   "execution_count": 34,
   "metadata": {},
   "outputs": [],
   "source": [
    "def get_activity(x0,x1,g):\n",
    "    \n",
    "    y=random.uniform(0,1)\n",
    "    \n",
    "    e=g+1.\n",
    "    \n",
    "    a=((x1**e-x0**e)*y+x0**e)**(1./e)\n",
    "    \n",
    "    return a"
   ]
  },
  {
   "cell_type": "code",
   "execution_count": 35,
   "metadata": {},
   "outputs": [],
   "source": [
    "N=10000\n",
    "kmin=2\n",
    "kmax=N-1\n",
    "a=[]\n",
    "for i in range(N):\n",
    "    act=get_activity(kmin,kmax,-2.1)\n",
    "    \n",
    "    a.append(int(round(act)))\n",
    "\n",
    "#we need the sum of the degree sequence to be even to properly run the configuration model\n",
    "if sum(a)%2==0:\n",
    "    G1=nx.configuration_model(a)\n",
    "else:\n",
    "    a[-1]+=1\n",
    "    G1=nx.configuration_model(a)"
   ]
  },
  {
   "cell_type": "code",
   "execution_count": 36,
   "metadata": {},
   "outputs": [
    {
     "data": {
      "text/plain": [
       "True"
      ]
     },
     "execution_count": 36,
     "metadata": {},
     "output_type": "execute_result"
    }
   ],
   "source": [
    "nx.is_connected(G1)"
   ]
  },
  {
   "cell_type": "code",
   "execution_count": 37,
   "metadata": {},
   "outputs": [
    {
     "name": "stdout",
     "output_type": "stream",
     "text": [
      "Name: \n",
      "Type: MultiGraph\n",
      "Number of nodes: 10000\n",
      "Number of edges: 62981\n",
      "Average degree:  12.5962\n"
     ]
    }
   ],
   "source": [
    "print(nx.info(G1))"
   ]
  },
  {
   "cell_type": "code",
   "execution_count": 38,
   "metadata": {},
   "outputs": [],
   "source": [
    "G1=nx.Graph(G1)"
   ]
  },
  {
   "cell_type": "code",
   "execution_count": 39,
   "metadata": {},
   "outputs": [],
   "source": [
    "G1.remove_edges_from(nx.selfloop_edges(G1))"
   ]
  },
  {
   "cell_type": "code",
   "execution_count": 40,
   "metadata": {},
   "outputs": [
    {
     "name": "stdout",
     "output_type": "stream",
     "text": [
      "Name: \n",
      "Type: Graph\n",
      "Number of nodes: 10000\n",
      "Number of edges: 51323\n",
      "Average degree:  10.2646\n"
     ]
    }
   ],
   "source": [
    "print(nx.info(G1))"
   ]
  },
  {
   "cell_type": "code",
   "execution_count": 41,
   "metadata": {},
   "outputs": [
    {
     "data": {
      "text/plain": [
       "True"
      ]
     },
     "execution_count": 41,
     "metadata": {},
     "output_type": "execute_result"
    }
   ],
   "source": [
    "nx.is_connected(G1)"
   ]
  },
  {
   "cell_type": "code",
   "execution_count": 42,
   "metadata": {},
   "outputs": [
    {
     "name": "stdout",
     "output_type": "stream",
     "text": [
      "2577.3854\n"
     ]
    }
   ],
   "source": [
    "sum_k2=0\n",
    "for i in G1.nodes():\n",
    "    k=G1.degree(i)\n",
    "    sum_k2+=k*k\n",
    "avg_k2=sum_k2/N\n",
    "print(avg_k2)"
   ]
  },
  {
   "cell_type": "code",
   "execution_count": 43,
   "metadata": {},
   "outputs": [
    {
     "name": "stdout",
     "output_type": "stream",
     "text": [
      "10.2646\n"
     ]
    }
   ],
   "source": [
    "avg_deg=2*len(G1.edges)/N\n",
    "print(avg_deg)"
   ]
  },
  {
   "cell_type": "code",
   "execution_count": 44,
   "metadata": {},
   "outputs": [
    {
     "name": "stdout",
     "output_type": "stream",
     "text": [
      "0.0007996974665157946\n"
     ]
    }
   ],
   "source": [
    "lambda_c1=mu*avg_deg/(avg_k2-avg_deg)\n",
    "print(lambda_c1)"
   ]
  },
  {
   "cell_type": "code",
   "execution_count": 45,
   "metadata": {},
   "outputs": [
    {
     "data": {
      "text/plain": [
       "25.034993441298358"
      ]
     },
     "execution_count": 45,
     "metadata": {},
     "output_type": "execute_result"
    }
   ],
   "source": [
    "lc/lambda_c1"
   ]
  },
  {
   "cell_type": "markdown",
   "metadata": {},
   "source": [
    "### Simulations of an SIR process\n",
    "We simulate 100 realizations of a SIR model for increasing values of $\\lambda$"
   ]
  },
  {
   "cell_type": "code",
   "execution_count": 46,
   "metadata": {},
   "outputs": [],
   "source": [
    "final_size_conf=defaultdict(list)\n",
    "\n",
    "for lambd in np.geomspace(0.0001, 1.0, 20):\n",
    "    for r in range(0, 20):\n",
    "        \n",
    "        t, S, I, R = EoN.fast_SIR(G1, lambd, mu, rho=0.05)\n",
    "        \n",
    "        final_size_conf[lambd].append(R[-1]/N)"
   ]
  },
  {
   "cell_type": "code",
   "execution_count": 47,
   "metadata": {},
   "outputs": [],
   "source": [
    "conf_net_size=pd.DataFrame.from_dict(final_size_conf)"
   ]
  },
  {
   "cell_type": "code",
   "execution_count": 48,
   "metadata": {},
   "outputs": [
    {
     "data": {
      "text/plain": [
       "Text(0.5, 0, '$\\\\lambda$')"
      ]
     },
     "execution_count": 48,
     "metadata": {},
     "output_type": "execute_result"
    },
    {
     "data": {
      "image/png": "[encoded data removed]",
      "text/plain": [
       "<Figure size 864x504 with 1 Axes>"
      ]
     },
     "metadata": {
      "needs_background": "light"
     },
     "output_type": "display_data"
    }
   ],
   "source": [
    "plt.figure(figsize=(12,7))\n",
    "\n",
    "boxprops1 = dict(linestyle='-', linewidth=4, color='b')\n",
    "\n",
    "homo_net_size.boxplot(positions=np.array(homo_net_size.columns), widths=np.array(homo_net_size.columns)/3)\n",
    "\n",
    "conf_net_size.boxplot(positions=np.array(conf_net_size.columns), widths=np.array(conf_net_size.columns)/3, boxprops=boxprops1)\n",
    "\n",
    "plt.vlines(x=lambda_c1, ymin=0.04, ymax=1.1)\n",
    "plt.legend(['ER','CM'])\n",
    "plt.yscale('log')\n",
    "plt.xscale('log')\n",
    "plt.xlim(0.0001, 1.0)\n",
    "plt.ylim(0.045, 1.1)\n",
    "plt.xticks(fontsize=18)\n",
    "plt.yticks(fontsize=18)\n",
    "plt.ylabel('final epidemic size', fontsize=18)\n",
    "plt.xlabel('$\\lambda$', fontsize=18)"
   ]
  },
  {
   "cell_type": "code",
   "execution_count": null,
   "metadata": {},
   "outputs": [],
   "source": []
  }
 ],
 "metadata": {
  "kernelspec": {
   "display_name": "Python 3",
   "language": "python",
   "name": "python3"
  },
  "language_info": {
   "codemirror_mode": {
    "name": "ipython",
    "version": 3
   },
   "file_extension": ".py",
   "mimetype": "text/x-python",
   "name": "python",
   "nbconvert_exporter": "python",
   "pygments_lexer": "ipython3",
   "version": "3.7.1"
  },
  "toc": {
   "base_numbering": 1,
   "nav_menu": {},
   "number_sections": true,
   "sideBar": true,
   "skip_h1_title": false,
   "title_cell": "Table of Contents",
   "title_sidebar": "Contents",
   "toc_cell": false,
   "toc_position": {},
   "toc_section_display": true,
   "toc_window_display": false
  }
 },
 "nbformat": 4,
 "nbformat_minor": 4
}
