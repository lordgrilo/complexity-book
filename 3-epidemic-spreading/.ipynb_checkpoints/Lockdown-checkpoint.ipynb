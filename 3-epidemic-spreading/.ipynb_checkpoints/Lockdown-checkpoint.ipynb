{
 "cells": [
  {
   "cell_type": "markdown",
   "metadata": {},
   "source": [
    "<center>\n",
    "<hr>\n",
    "<h1>Complessità nei sistemi sociali</h1>\n",
    "<h2>Laurea Magistrale in Fisica Dei Sistemi Complessi</h2>\n",
    "<h2>A.A. 2019/20</h2>\n",
    "<h2>Daniela Paolotti & Michele Tizzoni</h2>\n",
    "<h3>Notebook 6 - Epidemic modeling, deterministic and stochastic models.</h3>\n",
    "<hr>\n",
    "</center>"
   ]
  },
  {
   "cell_type": "code",
   "execution_count": 1,
   "metadata": {},
   "outputs": [
    {
     "name": "stderr",
     "output_type": "stream",
     "text": [
      "\n",
      "Bad key \"axes.titlelocation\" on line 298 in\n",
      "/Users/Michele/anaconda3/lib/python3.7/site-packages/matplotlib/mpl-data/matplotlibrc.\n",
      "You probably need to get an updated matplotlibrc file from\n",
      "https://github.com/matplotlib/matplotlib/blob/v3.1.3/matplotlibrc.template\n",
      "or from the matplotlib source distribution\n"
     ]
    }
   ],
   "source": [
    "import networkx as nx\n",
    "import numpy as np\n",
    "from operator import itemgetter\n",
    "from collections import defaultdict\n",
    "\n",
    "import seaborn as sns"
   ]
  },
  {
   "cell_type": "code",
   "execution_count": 2,
   "metadata": {},
   "outputs": [
    {
     "name": "stdout",
     "output_type": "stream",
     "text": [
      "Populating the interactive namespace from numpy and matplotlib\n"
     ]
    }
   ],
   "source": [
    "%pylab inline"
   ]
  },
  {
   "cell_type": "markdown",
   "metadata": {},
   "source": [
    "# The deterministic SIR model"
   ]
  },
  {
   "cell_type": "markdown",
   "metadata": {},
   "source": [
    "As a first step, we solve the differential equations of an SIR model with the Euler method. "
   ]
  },
  {
   "cell_type": "markdown",
   "metadata": {},
   "source": [
    "We set the parameters of the model"
   ]
  },
  {
   "cell_type": "code",
   "execution_count": 38,
   "metadata": {},
   "outputs": [],
   "source": [
    "mu=0.1\n",
    "R0=2.0\n",
    "beta1=R0*mu"
   ]
  },
  {
   "cell_type": "code",
   "execution_count": 39,
   "metadata": {},
   "outputs": [
    {
     "data": {
      "text/plain": [
       "0.2"
      ]
     },
     "execution_count": 39,
     "metadata": {},
     "output_type": "execute_result"
    }
   ],
   "source": [
    "beta1"
   ]
  },
  {
   "cell_type": "code",
   "execution_count": 40,
   "metadata": {},
   "outputs": [
    {
     "name": "stdout",
     "output_type": "stream",
     "text": [
      "The average infectious period is  10.0  days\n"
     ]
    }
   ],
   "source": [
    "print(\"The average infectious period is \", 1./mu, \" days\")"
   ]
  },
  {
   "cell_type": "markdown",
   "metadata": {},
   "source": [
    "The time step of integration is 1."
   ]
  },
  {
   "cell_type": "code",
   "execution_count": 44,
   "metadata": {},
   "outputs": [],
   "source": [
    "N=60000000\n",
    "I=100\n",
    "S=N-I\n",
    "R=0\n",
    "    \n",
    "St=[]\n",
    "It=[]\n",
    "Rt=[]\n",
    "\n",
    "deltaSt=[]\n",
    "deltaIt=[]\n",
    "St.append(S)\n",
    "It.append(I)\n",
    "Rt.append(R)\n",
    "\n",
    "t=0\n",
    "while t<200:\n",
    "    \n",
    "    if t<30:\n",
    "        R0=3.0\n",
    "        beta1=R0*mu\n",
    "        \n",
    "    if t>=30 and t<90:\n",
    "        R0=0.4\n",
    "        beta1=R0*mu\n",
    "    \n",
    "    if t>=90:\n",
    "        R0=0.8\n",
    "        beta1=R0*mu\n",
    "    \n",
    "    deltaSI=beta1*float(I)*S/N\n",
    "    \n",
    "    deltaIR=mu*I\n",
    "    \n",
    "    S=S-deltaSI\n",
    "    I=I+deltaSI-deltaIR\n",
    "    R=R+deltaIR\n",
    "    \n",
    "    deltaSt.append(deltaSI)\n",
    "    deltaIt.append(deltaIR)\n",
    "    St.append(S)\n",
    "    It.append(I)\n",
    "    Rt.append(R)\n",
    "    \n",
    "    t+=1\n",
    "    \n",
    "    \n",
    "    \n",
    "    "
   ]
  },
  {
   "cell_type": "code",
   "execution_count": 45,
   "metadata": {},
   "outputs": [
    {
     "name": "stdout",
     "output_type": "stream",
     "text": [
      "The final attack rate is  0.0008822879422995441\n"
     ]
    }
   ],
   "source": [
    "print(\"The final attack rate is \", Rt[-1]/N)"
   ]
  },
  {
   "cell_type": "markdown",
   "metadata": {},
   "source": [
    "We plot the time varying curves of S, I and R"
   ]
  },
  {
   "cell_type": "code",
   "execution_count": 48,
   "metadata": {},
   "outputs": [
    {
     "data": {
      "text/plain": [
       "<matplotlib.legend.Legend at 0x1a22e561d0>"
      ]
     },
     "execution_count": 48,
     "metadata": {},
     "output_type": "execute_result"
    },
    {
     "data": {
      "image/png": "[encoded data removed]",
      "text/plain": [
       "<Figure size 720x504 with 1 Axes>"
      ]
     },
     "metadata": {
      "needs_background": "light"
     },
     "output_type": "display_data"
    }
   ],
   "source": [
    "plt.figure(figsize=(10,7))\n",
    "#plt.plot(range(0, len(St)),np.array(St), label='S', color='g')\n",
    "plt.plot(range(0, len(deltaSt)), np.array(deltaSt), label='nI', color='b')\n",
    "\n",
    "#plt.plot(range(0, len(deltaIt)),np.array(deltaIt), label='I', color='r')\n",
    "#plt.plot(range(0, len(Rt)),np.array(Rt), label='R', color='b')\n",
    "\n",
    "plt.yscale('log')\n",
    "plt.xlim([0,len(It)])\n",
    "\n",
    "plt.xticks(fontsize=20)\n",
    "plt.yticks(fontsize=20)\n",
    "plt.xlabel('time', fontsize=22)\n",
    "plt.ylabel('individuals', fontsize=22)\n",
    "\n",
    "plt.legend(loc='upper right', fontsize=22)"
   ]
  },
  {
   "cell_type": "code",
   "execution_count": 52,
   "metadata": {},
   "outputs": [
    {
     "data": {
      "text/plain": [
       "38081.7900512736"
      ]
     },
     "execution_count": 52,
     "metadata": {},
     "output_type": "execute_result"
    }
   ],
   "source": [
    "It[397]"
   ]
  },
  {
   "cell_type": "code",
   "execution_count": 70,
   "metadata": {},
   "outputs": [
    {
     "data": {
      "text/plain": [
       "1987.5346745050033"
      ]
     },
     "execution_count": 70,
     "metadata": {},
     "output_type": "execute_result"
    }
   ],
   "source": [
    "deltaSt[379]"
   ]
  },
  {
   "cell_type": "markdown",
   "metadata": {},
   "source": [
    "# The stochastic SIR"
   ]
  },
  {
   "cell_type": "markdown",
   "metadata": {},
   "source": [
    "We simulate a discrete and stochastic SIR model by randomly extracting the transition elements at each time step.\n",
    "Since the simulations are stochastic, we need to run several realizations of the model and then extract their statistical averages."
   ]
  },
  {
   "cell_type": "markdown",
   "metadata": {},
   "source": [
    "We use the same model's parameters: $R_0=2.0$"
   ]
  },
  {
   "cell_type": "code",
   "execution_count": 55,
   "metadata": {},
   "outputs": [],
   "source": [
    "mu=0.1\n",
    "R0=2.0\n",
    "beta1=R0*mu"
   ]
  },
  {
   "cell_type": "code",
   "execution_count": 56,
   "metadata": {},
   "outputs": [],
   "source": [
    "dict_I=defaultdict(list) #here we store the number of I at each time step, for each run"
   ]
  },
  {
   "cell_type": "code",
   "execution_count": 57,
   "metadata": {},
   "outputs": [
    {
     "name": "stdout",
     "output_type": "stream",
     "text": [
      "The average final attack rate is  0.00088107645\n"
     ]
    }
   ],
   "source": [
    "final_R=[]\n",
    "\n",
    "nrun=1000\n",
    "Irun=[]\n",
    "for r in range(0,nrun):\n",
    "\n",
    "    #for each run r, we set the initial conditions  \n",
    "    N=60000000\n",
    "    I=100\n",
    "    S=N-I\n",
    "    R=0\n",
    "   \n",
    "    \n",
    "    list_I=[]\n",
    "    list_I.append(I)\n",
    "\n",
    "    t=0\n",
    "    dict_I[t].append(I)\n",
    "    \n",
    "    while t<200:\n",
    "        \n",
    "        if t<30:\n",
    "            R0=3.0\n",
    "            beta1=R0*mu\n",
    "            \n",
    "        if t>=30 and t<90:\n",
    "            R0=0.4\n",
    "            beta1=R0*mu\n",
    "            \n",
    "        if t>=90:\n",
    "            R0=0.8\n",
    "            beta1=R0*mu\n",
    "        \n",
    "        p=beta1*(float(I)/N)\n",
    "        deltaSI=np.random.binomial(S,p)\n",
    "        \n",
    "        deltaIR=np.random.binomial(I,mu)\n",
    "        \n",
    "        S=S-deltaSI\n",
    "        I=I+deltaSI-deltaIR\n",
    "        R=R+deltaIR\n",
    "        \n",
    "        t+=1\n",
    "        list_I.append(deltaSI)\n",
    "        \n",
    "        dict_I[t].append(deltaSI)\n",
    "    \n",
    "    final_R.append(float(R)/N)\n",
    "    Irun.append(list_I)\n",
    "\n",
    "print(\"The average final attack rate is \", np.average(np.array(final_R)))"
   ]
  },
  {
   "cell_type": "code",
   "execution_count": 58,
   "metadata": {},
   "outputs": [
    {
     "data": {
      "image/png": "[encoded data removed]",
      "text/plain": [
       "<Figure size 432x288 with 1 Axes>"
      ]
     },
     "metadata": {
      "needs_background": "light"
     },
     "output_type": "display_data"
    }
   ],
   "source": [
    "a=plt.hist(final_R, bins=100)"
   ]
  },
  {
   "cell_type": "code",
   "execution_count": 59,
   "metadata": {},
   "outputs": [
    {
     "data": {
      "image/png": "[encoded data removed]",
      "text/plain": [
       "<Figure size 720x504 with 1 Axes>"
      ]
     },
     "metadata": {
      "needs_background": "light"
     },
     "output_type": "display_data"
    }
   ],
   "source": [
    "plt.figure(figsize=(10,7))\n",
    "\n",
    "plt.xticks(fontsize=14)\n",
    "plt.yticks(fontsize=14)\n",
    "\n",
    "plt.xlabel('time', fontsize=18)\n",
    "plt.ylabel('prevalence', fontsize=18)\n",
    "\n",
    "for r in Irun: \n",
    "\n",
    "    plt.plot(range(0,len(r)),r)\n",
    "    "
   ]
  },
  {
   "cell_type": "markdown",
   "metadata": {},
   "source": [
    "Too many lines are messy... let's draw a boxplot"
   ]
  },
  {
   "cell_type": "code",
   "execution_count": 60,
   "metadata": {},
   "outputs": [],
   "source": [
    "import matplotlib.ticker as ticker"
   ]
  },
  {
   "cell_type": "code",
   "execution_count": 64,
   "metadata": {},
   "outputs": [
    {
     "data": {
      "image/png": "[encoded data removed]",
      "text/plain": [
       "<Figure size 720x504 with 1 Axes>"
      ]
     },
     "metadata": {
      "needs_background": "light"
     },
     "output_type": "display_data"
    }
   ],
   "source": [
    "full_array=[np.array(dict_I[t]) for t in dict_I]\n",
    "\n",
    "plt.figure(figsize=(10,7))\n",
    "\n",
    "plt.xlabel('time', fontsize=18)\n",
    "plt.ylabel('prevalence', fontsize=18)\n",
    "\n",
    "plt.xticks(fontsize=14)\n",
    "plt.yticks(fontsize=14)\n",
    "\n",
    "ax=sns.boxplot(data=full_array, color='skyblue')\n",
    "ax.xaxis.set_major_locator(ticker.MultipleLocator(20))\n",
    "ax.xaxis.set_major_formatter(ticker.ScalarFormatter())\n",
    "\n",
    "plt.ylim([0,500])\n",
    "plt.xlim([80, 120])\n",
    "plt.show()"
   ]
  }
 ],
 "metadata": {
  "kernelspec": {
   "display_name": "Python 3",
   "language": "python",
   "name": "python3"
  },
  "language_info": {
   "codemirror_mode": {
    "name": "ipython",
    "version": 3
   },
   "file_extension": ".py",
   "mimetype": "text/x-python",
   "name": "python",
   "nbconvert_exporter": "python",
   "pygments_lexer": "ipython3",
   "version": "3.7.1"
  }
 },
 "nbformat": 4,
 "nbformat_minor": 4
}
