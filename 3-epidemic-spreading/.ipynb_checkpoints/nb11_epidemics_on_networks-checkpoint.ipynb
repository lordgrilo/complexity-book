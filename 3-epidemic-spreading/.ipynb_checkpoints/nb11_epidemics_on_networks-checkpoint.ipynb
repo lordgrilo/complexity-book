{
 "cells": [
  {
   "cell_type": "markdown",
   "metadata": {},
   "source": [
    "# Epidemics on networks "
   ]
  },
  {
   "cell_type": "markdown",
   "metadata": {},
   "source": [
    "We use the Python library [\"Epidemics on Networks\" developed by Kiss, Miller & Simon](https://github.com/springer-math/Mathematics-of-Epidemics-on-Networks).\n",
    "\n",
    "The library must be installed using pip:\n",
    "\n",
    "    pip install EoN\n",
    "  \n",
    "\n",
    "The library documentation is [available here](http://epidemicsonnetworks.readthedocs.io/en/latest/). "
   ]
  },
  {
   "cell_type": "code",
   "execution_count": 1,
   "metadata": {},
   "outputs": [
    {
     "name": "stderr",
     "output_type": "stream",
     "text": [
      "Matplotlib is building the font cache; this may take a moment.\n"
     ]
    }
   ],
   "source": [
    "import EoN\n",
    "import networkx as nx\n",
    "import numpy as np\n",
    "from collections import defaultdict\n",
    "import pandas as pd\n",
    "import seaborn as sns\n",
    "import matplotlib.ticker as ticker"
   ]
  },
  {
   "cell_type": "code",
   "execution_count": 2,
   "metadata": {},
   "outputs": [
    {
     "name": "stdout",
     "output_type": "stream",
     "text": [
      "Populating the interactive namespace from numpy and matplotlib\n"
     ]
    }
   ],
   "source": [
    "%pylab inline"
   ]
  },
  {
   "cell_type": "markdown",
   "metadata": {},
   "source": [
    "## Epidemic threshold for homogeneous networks"
   ]
  },
  {
   "cell_type": "markdown",
   "metadata": {},
   "source": [
    "We simulate the spread of an SIR on an Erdos-Renyi graph with constant recovery rate."
   ]
  },
  {
   "cell_type": "code",
   "execution_count": 7,
   "metadata": {},
   "outputs": [],
   "source": [
    "N = 10000\n",
    "p = 0.002\n",
    "G = nx.fast_gnp_random_graph(N, p)"
   ]
  },
  {
   "cell_type": "code",
   "execution_count": 8,
   "metadata": {},
   "outputs": [
    {
     "data": {
      "text/plain": [
       "True"
      ]
     },
     "execution_count": 8,
     "metadata": {},
     "output_type": "execute_result"
    }
   ],
   "source": [
    "nx.is_connected(G)"
   ]
  },
  {
   "cell_type": "code",
   "execution_count": 9,
   "metadata": {},
   "outputs": [
    {
     "name": "stdout",
     "output_type": "stream",
     "text": [
      "Name: \n",
      "Type: Graph\n",
      "Number of nodes: 10000\n",
      "Number of edges: 99584\n",
      "Average degree:  19.9168\n"
     ]
    }
   ],
   "source": [
    "print(nx.info(G))"
   ]
  },
  {
   "cell_type": "markdown",
   "metadata": {},
   "source": [
    "---\n",
    "**For this network the epidemic threshold can be approximated as $\\lambda_c = \\frac{\\mu}{\\langle k \\rangle}$**"
   ]
  },
  {
   "cell_type": "code",
   "execution_count": 10,
   "metadata": {},
   "outputs": [],
   "source": [
    "mu = 0.2"
   ]
  },
  {
   "cell_type": "code",
   "execution_count": 11,
   "metadata": {},
   "outputs": [
    {
     "name": "stdout",
     "output_type": "stream",
     "text": [
      "0.01004177377892031\n"
     ]
    }
   ],
   "source": [
    "avg_deg1 = 2 * len(G.edges) / N\n",
    "lc = mu / avg_deg1\n",
    "print(lc)"
   ]
  },
  {
   "cell_type": "markdown",
   "metadata": {},
   "source": [
    "**As expected for this network, we have $\\langle k^2 \\rangle \\sim \\langle k \\rangle^2 + \\langle k \\rangle$**"
   ]
  },
  {
   "cell_type": "code",
   "execution_count": 12,
   "metadata": {},
   "outputs": [
    {
     "name": "stdout",
     "output_type": "stream",
     "text": [
      "416.0806\n"
     ]
    }
   ],
   "source": [
    "sum_k2 = 0\n",
    "for i in G.nodes():\n",
    "\n",
    "    k = G.degree(i)\n",
    "    sum_k2 += k * k\n",
    "\n",
    "avg_k2 = sum_k2 / N\n",
    "print(avg_k2)"
   ]
  },
  {
   "cell_type": "code",
   "execution_count": 13,
   "metadata": {},
   "outputs": [
    {
     "data": {
      "text/plain": [
       "416.59572224"
      ]
     },
     "execution_count": 13,
     "metadata": {},
     "output_type": "execute_result"
    }
   ],
   "source": [
    "avg_deg1**2 + avg_deg1"
   ]
  },
  {
   "cell_type": "markdown",
   "metadata": {},
   "source": [
    "### Simulations of an SIR process\n",
    "We simulate 20 realizations of a SIR model for increasing values of $\\lambda$ using the [fast_SIR function of EoN](https://epidemicsonnetworks.readthedocs.io/en/latest/functions/EoN.fast_SIR.html?highlight=fast_SIR)"
   ]
  },
  {
   "cell_type": "code",
   "execution_count": 14,
   "metadata": {},
   "outputs": [],
   "source": [
    "final_size = defaultdict(list)\n",
    "\n",
    "for lambd in np.geomspace(0.0001, 1.0, 20):\n",
    "\n",
    "    for r in range(0, 20):\n",
    "\n",
    "        t, S, I, R = EoN.fast_SIR(G, lambd, mu, rho=0.05)\n",
    "\n",
    "        final_size[lambd].append(R[-1] / N)"
   ]
  },
  {
   "cell_type": "code",
   "execution_count": 15,
   "metadata": {},
   "outputs": [],
   "source": [
    "homo_net_size = pd.DataFrame.from_dict(final_size)"
   ]
  },
  {
   "cell_type": "code",
   "execution_count": 16,
   "metadata": {},
   "outputs": [
    {
     "data": {
      "text/html": [
       "<div>\n",
       "<style scoped>\n",
       "    .dataframe tbody tr th:only-of-type {\n",
       "        vertical-align: middle;\n",
       "    }\n",
       "\n",
       "    .dataframe tbody tr th {\n",
       "        vertical-align: top;\n",
       "    }\n",
       "\n",
       "    .dataframe thead th {\n",
       "        text-align: right;\n",
       "    }\n",
       "</style>\n",
       "<table border=\"1\" class=\"dataframe\">\n",
       "  <thead>\n",
       "    <tr style=\"text-align: right;\">\n",
       "      <th></th>\n",
       "      <th>0.000100</th>\n",
       "      <th>0.000162</th>\n",
       "      <th>0.000264</th>\n",
       "      <th>0.000428</th>\n",
       "      <th>0.000695</th>\n",
       "      <th>0.001129</th>\n",
       "      <th>0.001833</th>\n",
       "      <th>0.002976</th>\n",
       "      <th>0.004833</th>\n",
       "      <th>0.007848</th>\n",
       "      <th>0.012743</th>\n",
       "      <th>0.020691</th>\n",
       "      <th>0.033598</th>\n",
       "      <th>0.054556</th>\n",
       "      <th>0.088587</th>\n",
       "      <th>0.143845</th>\n",
       "      <th>0.233572</th>\n",
       "      <th>0.379269</th>\n",
       "      <th>0.615848</th>\n",
       "      <th>1.000000</th>\n",
       "    </tr>\n",
       "  </thead>\n",
       "  <tbody>\n",
       "    <tr>\n",
       "      <th>0</th>\n",
       "      <td>0.0506</td>\n",
       "      <td>0.0514</td>\n",
       "      <td>0.0516</td>\n",
       "      <td>0.0515</td>\n",
       "      <td>0.0524</td>\n",
       "      <td>0.0572</td>\n",
       "      <td>0.0608</td>\n",
       "      <td>0.0700</td>\n",
       "      <td>0.0835</td>\n",
       "      <td>0.1400</td>\n",
       "      <td>0.4589</td>\n",
       "      <td>0.7949</td>\n",
       "      <td>0.9320</td>\n",
       "      <td>0.9829</td>\n",
       "      <td>0.9971</td>\n",
       "      <td>0.9997</td>\n",
       "      <td>1.0000</td>\n",
       "      <td>1.0</td>\n",
       "      <td>1.0</td>\n",
       "      <td>1.0</td>\n",
       "    </tr>\n",
       "    <tr>\n",
       "      <th>1</th>\n",
       "      <td>0.0501</td>\n",
       "      <td>0.0506</td>\n",
       "      <td>0.0514</td>\n",
       "      <td>0.0523</td>\n",
       "      <td>0.0541</td>\n",
       "      <td>0.0548</td>\n",
       "      <td>0.0602</td>\n",
       "      <td>0.0684</td>\n",
       "      <td>0.0938</td>\n",
       "      <td>0.1752</td>\n",
       "      <td>0.4232</td>\n",
       "      <td>0.7858</td>\n",
       "      <td>0.9344</td>\n",
       "      <td>0.9848</td>\n",
       "      <td>0.9981</td>\n",
       "      <td>0.9996</td>\n",
       "      <td>0.9998</td>\n",
       "      <td>1.0</td>\n",
       "      <td>1.0</td>\n",
       "      <td>1.0</td>\n",
       "    </tr>\n",
       "    <tr>\n",
       "      <th>2</th>\n",
       "      <td>0.0506</td>\n",
       "      <td>0.0506</td>\n",
       "      <td>0.0514</td>\n",
       "      <td>0.0521</td>\n",
       "      <td>0.0548</td>\n",
       "      <td>0.0552</td>\n",
       "      <td>0.0614</td>\n",
       "      <td>0.0706</td>\n",
       "      <td>0.0855</td>\n",
       "      <td>0.1488</td>\n",
       "      <td>0.3979</td>\n",
       "      <td>0.7824</td>\n",
       "      <td>0.9336</td>\n",
       "      <td>0.9858</td>\n",
       "      <td>0.9986</td>\n",
       "      <td>0.9999</td>\n",
       "      <td>1.0000</td>\n",
       "      <td>1.0</td>\n",
       "      <td>1.0</td>\n",
       "      <td>1.0</td>\n",
       "    </tr>\n",
       "    <tr>\n",
       "      <th>3</th>\n",
       "      <td>0.0506</td>\n",
       "      <td>0.0507</td>\n",
       "      <td>0.0506</td>\n",
       "      <td>0.0523</td>\n",
       "      <td>0.0537</td>\n",
       "      <td>0.0569</td>\n",
       "      <td>0.0601</td>\n",
       "      <td>0.0684</td>\n",
       "      <td>0.0861</td>\n",
       "      <td>0.1429</td>\n",
       "      <td>0.4395</td>\n",
       "      <td>0.7813</td>\n",
       "      <td>0.9360</td>\n",
       "      <td>0.9852</td>\n",
       "      <td>0.9982</td>\n",
       "      <td>0.9999</td>\n",
       "      <td>1.0000</td>\n",
       "      <td>1.0</td>\n",
       "      <td>1.0</td>\n",
       "      <td>1.0</td>\n",
       "    </tr>\n",
       "    <tr>\n",
       "      <th>4</th>\n",
       "      <td>0.0502</td>\n",
       "      <td>0.0510</td>\n",
       "      <td>0.0518</td>\n",
       "      <td>0.0526</td>\n",
       "      <td>0.0536</td>\n",
       "      <td>0.0557</td>\n",
       "      <td>0.0609</td>\n",
       "      <td>0.0654</td>\n",
       "      <td>0.0922</td>\n",
       "      <td>0.1438</td>\n",
       "      <td>0.4822</td>\n",
       "      <td>0.7811</td>\n",
       "      <td>0.9369</td>\n",
       "      <td>0.9870</td>\n",
       "      <td>0.9981</td>\n",
       "      <td>0.9997</td>\n",
       "      <td>1.0000</td>\n",
       "      <td>1.0</td>\n",
       "      <td>1.0</td>\n",
       "      <td>1.0</td>\n",
       "    </tr>\n",
       "    <tr>\n",
       "      <th>5</th>\n",
       "      <td>0.0507</td>\n",
       "      <td>0.0512</td>\n",
       "      <td>0.0508</td>\n",
       "      <td>0.0516</td>\n",
       "      <td>0.0532</td>\n",
       "      <td>0.0562</td>\n",
       "      <td>0.0593</td>\n",
       "      <td>0.0718</td>\n",
       "      <td>0.0867</td>\n",
       "      <td>0.1415</td>\n",
       "      <td>0.4270</td>\n",
       "      <td>0.7792</td>\n",
       "      <td>0.9354</td>\n",
       "      <td>0.9873</td>\n",
       "      <td>0.9978</td>\n",
       "      <td>0.9999</td>\n",
       "      <td>1.0000</td>\n",
       "      <td>1.0</td>\n",
       "      <td>1.0</td>\n",
       "      <td>1.0</td>\n",
       "    </tr>\n",
       "    <tr>\n",
       "      <th>6</th>\n",
       "      <td>0.0505</td>\n",
       "      <td>0.0507</td>\n",
       "      <td>0.0514</td>\n",
       "      <td>0.0522</td>\n",
       "      <td>0.0538</td>\n",
       "      <td>0.0563</td>\n",
       "      <td>0.0604</td>\n",
       "      <td>0.0672</td>\n",
       "      <td>0.0921</td>\n",
       "      <td>0.1496</td>\n",
       "      <td>0.3933</td>\n",
       "      <td>0.7787</td>\n",
       "      <td>0.9303</td>\n",
       "      <td>0.9867</td>\n",
       "      <td>0.9977</td>\n",
       "      <td>0.9998</td>\n",
       "      <td>0.9999</td>\n",
       "      <td>1.0</td>\n",
       "      <td>1.0</td>\n",
       "      <td>1.0</td>\n",
       "    </tr>\n",
       "    <tr>\n",
       "      <th>7</th>\n",
       "      <td>0.0508</td>\n",
       "      <td>0.0507</td>\n",
       "      <td>0.0513</td>\n",
       "      <td>0.0523</td>\n",
       "      <td>0.0535</td>\n",
       "      <td>0.0561</td>\n",
       "      <td>0.0593</td>\n",
       "      <td>0.0700</td>\n",
       "      <td>0.0932</td>\n",
       "      <td>0.1549</td>\n",
       "      <td>0.4483</td>\n",
       "      <td>0.7800</td>\n",
       "      <td>0.9315</td>\n",
       "      <td>0.9858</td>\n",
       "      <td>0.9982</td>\n",
       "      <td>0.9998</td>\n",
       "      <td>1.0000</td>\n",
       "      <td>1.0</td>\n",
       "      <td>1.0</td>\n",
       "      <td>1.0</td>\n",
       "    </tr>\n",
       "    <tr>\n",
       "      <th>8</th>\n",
       "      <td>0.0506</td>\n",
       "      <td>0.0506</td>\n",
       "      <td>0.0516</td>\n",
       "      <td>0.0516</td>\n",
       "      <td>0.0542</td>\n",
       "      <td>0.0554</td>\n",
       "      <td>0.0613</td>\n",
       "      <td>0.0690</td>\n",
       "      <td>0.0890</td>\n",
       "      <td>0.1517</td>\n",
       "      <td>0.4168</td>\n",
       "      <td>0.7916</td>\n",
       "      <td>0.9378</td>\n",
       "      <td>0.9857</td>\n",
       "      <td>0.9983</td>\n",
       "      <td>1.0000</td>\n",
       "      <td>1.0000</td>\n",
       "      <td>1.0</td>\n",
       "      <td>1.0</td>\n",
       "      <td>1.0</td>\n",
       "    </tr>\n",
       "    <tr>\n",
       "      <th>9</th>\n",
       "      <td>0.0501</td>\n",
       "      <td>0.0504</td>\n",
       "      <td>0.0508</td>\n",
       "      <td>0.0519</td>\n",
       "      <td>0.0537</td>\n",
       "      <td>0.0551</td>\n",
       "      <td>0.0608</td>\n",
       "      <td>0.0674</td>\n",
       "      <td>0.1011</td>\n",
       "      <td>0.1304</td>\n",
       "      <td>0.4228</td>\n",
       "      <td>0.7800</td>\n",
       "      <td>0.9312</td>\n",
       "      <td>0.9867</td>\n",
       "      <td>0.9980</td>\n",
       "      <td>0.9999</td>\n",
       "      <td>0.9999</td>\n",
       "      <td>1.0</td>\n",
       "      <td>1.0</td>\n",
       "      <td>1.0</td>\n",
       "    </tr>\n",
       "    <tr>\n",
       "      <th>10</th>\n",
       "      <td>0.0506</td>\n",
       "      <td>0.0508</td>\n",
       "      <td>0.0511</td>\n",
       "      <td>0.0511</td>\n",
       "      <td>0.0538</td>\n",
       "      <td>0.0568</td>\n",
       "      <td>0.0608</td>\n",
       "      <td>0.0692</td>\n",
       "      <td>0.0893</td>\n",
       "      <td>0.1460</td>\n",
       "      <td>0.4395</td>\n",
       "      <td>0.7839</td>\n",
       "      <td>0.9300</td>\n",
       "      <td>0.9846</td>\n",
       "      <td>0.9976</td>\n",
       "      <td>0.9998</td>\n",
       "      <td>1.0000</td>\n",
       "      <td>1.0</td>\n",
       "      <td>1.0</td>\n",
       "      <td>1.0</td>\n",
       "    </tr>\n",
       "    <tr>\n",
       "      <th>11</th>\n",
       "      <td>0.0510</td>\n",
       "      <td>0.0506</td>\n",
       "      <td>0.0514</td>\n",
       "      <td>0.0515</td>\n",
       "      <td>0.0537</td>\n",
       "      <td>0.0558</td>\n",
       "      <td>0.0593</td>\n",
       "      <td>0.0673</td>\n",
       "      <td>0.0869</td>\n",
       "      <td>0.1531</td>\n",
       "      <td>0.4438</td>\n",
       "      <td>0.7776</td>\n",
       "      <td>0.9413</td>\n",
       "      <td>0.9843</td>\n",
       "      <td>0.9977</td>\n",
       "      <td>0.9996</td>\n",
       "      <td>1.0000</td>\n",
       "      <td>1.0</td>\n",
       "      <td>1.0</td>\n",
       "      <td>1.0</td>\n",
       "    </tr>\n",
       "    <tr>\n",
       "      <th>12</th>\n",
       "      <td>0.0503</td>\n",
       "      <td>0.0503</td>\n",
       "      <td>0.0511</td>\n",
       "      <td>0.0522</td>\n",
       "      <td>0.0541</td>\n",
       "      <td>0.0562</td>\n",
       "      <td>0.0616</td>\n",
       "      <td>0.0685</td>\n",
       "      <td>0.0913</td>\n",
       "      <td>0.1496</td>\n",
       "      <td>0.4670</td>\n",
       "      <td>0.7850</td>\n",
       "      <td>0.9379</td>\n",
       "      <td>0.9842</td>\n",
       "      <td>0.9972</td>\n",
       "      <td>0.9998</td>\n",
       "      <td>1.0000</td>\n",
       "      <td>1.0</td>\n",
       "      <td>1.0</td>\n",
       "      <td>1.0</td>\n",
       "    </tr>\n",
       "    <tr>\n",
       "      <th>13</th>\n",
       "      <td>0.0501</td>\n",
       "      <td>0.0508</td>\n",
       "      <td>0.0511</td>\n",
       "      <td>0.0517</td>\n",
       "      <td>0.0537</td>\n",
       "      <td>0.0544</td>\n",
       "      <td>0.0612</td>\n",
       "      <td>0.0688</td>\n",
       "      <td>0.0858</td>\n",
       "      <td>0.1660</td>\n",
       "      <td>0.4371</td>\n",
       "      <td>0.7954</td>\n",
       "      <td>0.9359</td>\n",
       "      <td>0.9874</td>\n",
       "      <td>0.9981</td>\n",
       "      <td>0.9995</td>\n",
       "      <td>0.9999</td>\n",
       "      <td>1.0</td>\n",
       "      <td>1.0</td>\n",
       "      <td>1.0</td>\n",
       "    </tr>\n",
       "    <tr>\n",
       "      <th>14</th>\n",
       "      <td>0.0503</td>\n",
       "      <td>0.0507</td>\n",
       "      <td>0.0509</td>\n",
       "      <td>0.0523</td>\n",
       "      <td>0.0549</td>\n",
       "      <td>0.0560</td>\n",
       "      <td>0.0587</td>\n",
       "      <td>0.0712</td>\n",
       "      <td>0.0856</td>\n",
       "      <td>0.1583</td>\n",
       "      <td>0.4135</td>\n",
       "      <td>0.7881</td>\n",
       "      <td>0.9309</td>\n",
       "      <td>0.9842</td>\n",
       "      <td>0.9983</td>\n",
       "      <td>0.9996</td>\n",
       "      <td>1.0000</td>\n",
       "      <td>1.0</td>\n",
       "      <td>1.0</td>\n",
       "      <td>1.0</td>\n",
       "    </tr>\n",
       "    <tr>\n",
       "      <th>15</th>\n",
       "      <td>0.0505</td>\n",
       "      <td>0.0505</td>\n",
       "      <td>0.0517</td>\n",
       "      <td>0.0517</td>\n",
       "      <td>0.0544</td>\n",
       "      <td>0.0567</td>\n",
       "      <td>0.0619</td>\n",
       "      <td>0.0701</td>\n",
       "      <td>0.0880</td>\n",
       "      <td>0.1548</td>\n",
       "      <td>0.4127</td>\n",
       "      <td>0.7682</td>\n",
       "      <td>0.9292</td>\n",
       "      <td>0.9872</td>\n",
       "      <td>0.9977</td>\n",
       "      <td>0.9999</td>\n",
       "      <td>0.9999</td>\n",
       "      <td>1.0</td>\n",
       "      <td>1.0</td>\n",
       "      <td>1.0</td>\n",
       "    </tr>\n",
       "    <tr>\n",
       "      <th>16</th>\n",
       "      <td>0.0506</td>\n",
       "      <td>0.0506</td>\n",
       "      <td>0.0509</td>\n",
       "      <td>0.0519</td>\n",
       "      <td>0.0539</td>\n",
       "      <td>0.0569</td>\n",
       "      <td>0.0589</td>\n",
       "      <td>0.0660</td>\n",
       "      <td>0.0886</td>\n",
       "      <td>0.1670</td>\n",
       "      <td>0.4257</td>\n",
       "      <td>0.7781</td>\n",
       "      <td>0.9356</td>\n",
       "      <td>0.9859</td>\n",
       "      <td>0.9981</td>\n",
       "      <td>0.9998</td>\n",
       "      <td>1.0000</td>\n",
       "      <td>1.0</td>\n",
       "      <td>1.0</td>\n",
       "      <td>1.0</td>\n",
       "    </tr>\n",
       "    <tr>\n",
       "      <th>17</th>\n",
       "      <td>0.0500</td>\n",
       "      <td>0.0507</td>\n",
       "      <td>0.0514</td>\n",
       "      <td>0.0525</td>\n",
       "      <td>0.0519</td>\n",
       "      <td>0.0572</td>\n",
       "      <td>0.0613</td>\n",
       "      <td>0.0689</td>\n",
       "      <td>0.0939</td>\n",
       "      <td>0.1540</td>\n",
       "      <td>0.4175</td>\n",
       "      <td>0.7905</td>\n",
       "      <td>0.9329</td>\n",
       "      <td>0.9841</td>\n",
       "      <td>0.9975</td>\n",
       "      <td>0.9995</td>\n",
       "      <td>1.0000</td>\n",
       "      <td>1.0</td>\n",
       "      <td>1.0</td>\n",
       "      <td>1.0</td>\n",
       "    </tr>\n",
       "    <tr>\n",
       "      <th>18</th>\n",
       "      <td>0.0503</td>\n",
       "      <td>0.0506</td>\n",
       "      <td>0.0507</td>\n",
       "      <td>0.0525</td>\n",
       "      <td>0.0525</td>\n",
       "      <td>0.0572</td>\n",
       "      <td>0.0597</td>\n",
       "      <td>0.0689</td>\n",
       "      <td>0.0831</td>\n",
       "      <td>0.1522</td>\n",
       "      <td>0.4397</td>\n",
       "      <td>0.7770</td>\n",
       "      <td>0.9420</td>\n",
       "      <td>0.9841</td>\n",
       "      <td>0.9971</td>\n",
       "      <td>0.9997</td>\n",
       "      <td>1.0000</td>\n",
       "      <td>1.0</td>\n",
       "      <td>1.0</td>\n",
       "      <td>1.0</td>\n",
       "    </tr>\n",
       "    <tr>\n",
       "      <th>19</th>\n",
       "      <td>0.0506</td>\n",
       "      <td>0.0516</td>\n",
       "      <td>0.0508</td>\n",
       "      <td>0.0518</td>\n",
       "      <td>0.0529</td>\n",
       "      <td>0.0564</td>\n",
       "      <td>0.0604</td>\n",
       "      <td>0.0703</td>\n",
       "      <td>0.0853</td>\n",
       "      <td>0.1463</td>\n",
       "      <td>0.4229</td>\n",
       "      <td>0.7737</td>\n",
       "      <td>0.9395</td>\n",
       "      <td>0.9861</td>\n",
       "      <td>0.9986</td>\n",
       "      <td>0.9998</td>\n",
       "      <td>1.0000</td>\n",
       "      <td>1.0</td>\n",
       "      <td>1.0</td>\n",
       "      <td>1.0</td>\n",
       "    </tr>\n",
       "  </tbody>\n",
       "</table>\n",
       "</div>"
      ],
      "text/plain": [
       "    0.000100  0.000162  0.000264  0.000428  0.000695  0.001129  0.001833  \\\n",
       "0     0.0506    0.0514    0.0516    0.0515    0.0524    0.0572    0.0608   \n",
       "1     0.0501    0.0506    0.0514    0.0523    0.0541    0.0548    0.0602   \n",
       "2     0.0506    0.0506    0.0514    0.0521    0.0548    0.0552    0.0614   \n",
       "3     0.0506    0.0507    0.0506    0.0523    0.0537    0.0569    0.0601   \n",
       "4     0.0502    0.0510    0.0518    0.0526    0.0536    0.0557    0.0609   \n",
       "5     0.0507    0.0512    0.0508    0.0516    0.0532    0.0562    0.0593   \n",
       "6     0.0505    0.0507    0.0514    0.0522    0.0538    0.0563    0.0604   \n",
       "7     0.0508    0.0507    0.0513    0.0523    0.0535    0.0561    0.0593   \n",
       "8     0.0506    0.0506    0.0516    0.0516    0.0542    0.0554    0.0613   \n",
       "9     0.0501    0.0504    0.0508    0.0519    0.0537    0.0551    0.0608   \n",
       "10    0.0506    0.0508    0.0511    0.0511    0.0538    0.0568    0.0608   \n",
       "11    0.0510    0.0506    0.0514    0.0515    0.0537    0.0558    0.0593   \n",
       "12    0.0503    0.0503    0.0511    0.0522    0.0541    0.0562    0.0616   \n",
       "13    0.0501    0.0508    0.0511    0.0517    0.0537    0.0544    0.0612   \n",
       "14    0.0503    0.0507    0.0509    0.0523    0.0549    0.0560    0.0587   \n",
       "15    0.0505    0.0505    0.0517    0.0517    0.0544    0.0567    0.0619   \n",
       "16    0.0506    0.0506    0.0509    0.0519    0.0539    0.0569    0.0589   \n",
       "17    0.0500    0.0507    0.0514    0.0525    0.0519    0.0572    0.0613   \n",
       "18    0.0503    0.0506    0.0507    0.0525    0.0525    0.0572    0.0597   \n",
       "19    0.0506    0.0516    0.0508    0.0518    0.0529    0.0564    0.0604   \n",
       "\n",
       "    0.002976  0.004833  0.007848  0.012743  0.020691  0.033598  0.054556  \\\n",
       "0     0.0700    0.0835    0.1400    0.4589    0.7949    0.9320    0.9829   \n",
       "1     0.0684    0.0938    0.1752    0.4232    0.7858    0.9344    0.9848   \n",
       "2     0.0706    0.0855    0.1488    0.3979    0.7824    0.9336    0.9858   \n",
       "3     0.0684    0.0861    0.1429    0.4395    0.7813    0.9360    0.9852   \n",
       "4     0.0654    0.0922    0.1438    0.4822    0.7811    0.9369    0.9870   \n",
       "5     0.0718    0.0867    0.1415    0.4270    0.7792    0.9354    0.9873   \n",
       "6     0.0672    0.0921    0.1496    0.3933    0.7787    0.9303    0.9867   \n",
       "7     0.0700    0.0932    0.1549    0.4483    0.7800    0.9315    0.9858   \n",
       "8     0.0690    0.0890    0.1517    0.4168    0.7916    0.9378    0.9857   \n",
       "9     0.0674    0.1011    0.1304    0.4228    0.7800    0.9312    0.9867   \n",
       "10    0.0692    0.0893    0.1460    0.4395    0.7839    0.9300    0.9846   \n",
       "11    0.0673    0.0869    0.1531    0.4438    0.7776    0.9413    0.9843   \n",
       "12    0.0685    0.0913    0.1496    0.4670    0.7850    0.9379    0.9842   \n",
       "13    0.0688    0.0858    0.1660    0.4371    0.7954    0.9359    0.9874   \n",
       "14    0.0712    0.0856    0.1583    0.4135    0.7881    0.9309    0.9842   \n",
       "15    0.0701    0.0880    0.1548    0.4127    0.7682    0.9292    0.9872   \n",
       "16    0.0660    0.0886    0.1670    0.4257    0.7781    0.9356    0.9859   \n",
       "17    0.0689    0.0939    0.1540    0.4175    0.7905    0.9329    0.9841   \n",
       "18    0.0689    0.0831    0.1522    0.4397    0.7770    0.9420    0.9841   \n",
       "19    0.0703    0.0853    0.1463    0.4229    0.7737    0.9395    0.9861   \n",
       "\n",
       "    0.088587  0.143845  0.233572  0.379269  0.615848  1.000000  \n",
       "0     0.9971    0.9997    1.0000       1.0       1.0       1.0  \n",
       "1     0.9981    0.9996    0.9998       1.0       1.0       1.0  \n",
       "2     0.9986    0.9999    1.0000       1.0       1.0       1.0  \n",
       "3     0.9982    0.9999    1.0000       1.0       1.0       1.0  \n",
       "4     0.9981    0.9997    1.0000       1.0       1.0       1.0  \n",
       "5     0.9978    0.9999    1.0000       1.0       1.0       1.0  \n",
       "6     0.9977    0.9998    0.9999       1.0       1.0       1.0  \n",
       "7     0.9982    0.9998    1.0000       1.0       1.0       1.0  \n",
       "8     0.9983    1.0000    1.0000       1.0       1.0       1.0  \n",
       "9     0.9980    0.9999    0.9999       1.0       1.0       1.0  \n",
       "10    0.9976    0.9998    1.0000       1.0       1.0       1.0  \n",
       "11    0.9977    0.9996    1.0000       1.0       1.0       1.0  \n",
       "12    0.9972    0.9998    1.0000       1.0       1.0       1.0  \n",
       "13    0.9981    0.9995    0.9999       1.0       1.0       1.0  \n",
       "14    0.9983    0.9996    1.0000       1.0       1.0       1.0  \n",
       "15    0.9977    0.9999    0.9999       1.0       1.0       1.0  \n",
       "16    0.9981    0.9998    1.0000       1.0       1.0       1.0  \n",
       "17    0.9975    0.9995    1.0000       1.0       1.0       1.0  \n",
       "18    0.9971    0.9997    1.0000       1.0       1.0       1.0  \n",
       "19    0.9986    0.9998    1.0000       1.0       1.0       1.0  "
      ]
     },
     "execution_count": 16,
     "metadata": {},
     "output_type": "execute_result"
    }
   ],
   "source": [
    "homo_net_size"
   ]
  },
  {
   "cell_type": "code",
   "execution_count": 17,
   "metadata": {},
   "outputs": [
    {
     "data": {
      "text/plain": [
       "Text(0.5, 0, '$\\\\lambda$')"
      ]
     },
     "execution_count": 17,
     "metadata": {},
     "output_type": "execute_result"
    },
    {
     "data": {
      "image/png": "[encoded data removed]",
      "text/plain": [
       "<Figure size 864x504 with 1 Axes>"
      ]
     },
     "metadata": {
      "needs_background": "light"
     },
     "output_type": "display_data"
    }
   ],
   "source": [
    "plt.figure(figsize=(12, 7))\n",
    "\n",
    "homo_net_size.boxplot(\n",
    "    positions=np.array(homo_net_size.columns),\n",
    "    widths=np.array(homo_net_size.columns) / 3,\n",
    ")\n",
    "\n",
    "plt.vlines(x=lc, ymin=0.045, ymax=1.1)\n",
    "\n",
    "plt.xscale(\"log\")\n",
    "plt.yscale(\"log\")\n",
    "plt.xlim(0.0001, 1.0)\n",
    "plt.ylim(0.045, 1.1)\n",
    "plt.xticks(fontsize=18)\n",
    "plt.yticks(fontsize=18)\n",
    "plt.ylabel(\"final epidemic size\", fontsize=18)\n",
    "plt.xlabel(\"$\\lambda$\", fontsize=18)"
   ]
  },
  {
   "cell_type": "markdown",
   "metadata": {},
   "source": [
    "## Epidemic threshold for Barabàsi-Albert model networks"
   ]
  },
  {
   "cell_type": "code",
   "execution_count": 20,
   "metadata": {},
   "outputs": [],
   "source": [
    "N = 10000\n",
    "AB = nx.barabasi_albert_graph(N, 10)"
   ]
  },
  {
   "cell_type": "code",
   "execution_count": 21,
   "metadata": {},
   "outputs": [
    {
     "data": {
      "text/plain": [
       "True"
      ]
     },
     "execution_count": 21,
     "metadata": {},
     "output_type": "execute_result"
    }
   ],
   "source": [
    "nx.is_connected(AB)"
   ]
  },
  {
   "cell_type": "code",
   "execution_count": 22,
   "metadata": {},
   "outputs": [
    {
     "name": "stdout",
     "output_type": "stream",
     "text": [
      "Name: \n",
      "Type: Graph\n",
      "Number of nodes: 10000\n",
      "Number of edges: 99900\n",
      "Average degree:  19.9800\n"
     ]
    }
   ],
   "source": [
    "print(nx.info(AB))"
   ]
  },
  {
   "cell_type": "code",
   "execution_count": 23,
   "metadata": {},
   "outputs": [
    {
     "name": "stdout",
     "output_type": "stream",
     "text": [
      "940.6206\n"
     ]
    }
   ],
   "source": [
    "sum_k2 = 0\n",
    "for i in AB.nodes():\n",
    "    k = AB.degree(i)\n",
    "    sum_k2 += k * k\n",
    "avg_k2 = sum_k2 / N\n",
    "print(avg_k2)"
   ]
  },
  {
   "cell_type": "code",
   "execution_count": 24,
   "metadata": {},
   "outputs": [
    {
     "name": "stdout",
     "output_type": "stream",
     "text": [
      "19.98\n"
     ]
    }
   ],
   "source": [
    "avg_deg = 2 * len(AB.edges) / N\n",
    "print(avg_deg)"
   ]
  },
  {
   "cell_type": "markdown",
   "metadata": {},
   "source": [
    "**The threshold can be approximated as $\\lambda_c \\sim \\mu \\frac{\\langle k \\rangle}{\\langle k^2 \\rangle - \\langle k \\rangle}$**"
   ]
  },
  {
   "cell_type": "code",
   "execution_count": 25,
   "metadata": {},
   "outputs": [
    {
     "name": "stdout",
     "output_type": "stream",
     "text": [
      "0.0043404559824974055\n"
     ]
    }
   ],
   "source": [
    "lambda_c = mu * avg_deg / (avg_k2 - avg_deg)\n",
    "print(lambda_c)"
   ]
  },
  {
   "cell_type": "code",
   "execution_count": 27,
   "metadata": {},
   "outputs": [
    {
     "data": {
      "text/plain": [
       "0.43223996856102154"
      ]
     },
     "execution_count": 27,
     "metadata": {},
     "output_type": "execute_result"
    }
   ],
   "source": [
    "lambda_c / lc"
   ]
  },
  {
   "cell_type": "markdown",
   "metadata": {},
   "source": [
    "### Simulations of an SIR process\n",
    "We simulate 20 realizations of a SIR model for increasing values of $\\lambda$"
   ]
  },
  {
   "cell_type": "code",
   "execution_count": 28,
   "metadata": {},
   "outputs": [],
   "source": [
    "final_size_AB = defaultdict(list)\n",
    "\n",
    "for lambd in np.geomspace(0.0001, 1.0, 20):\n",
    "    for r in range(0, 20):\n",
    "\n",
    "        t, S, I, R = EoN.fast_SIR(AB, lambd, mu, rho=0.05)\n",
    "\n",
    "        final_size_AB[lambd].append(R[-1] / N)"
   ]
  },
  {
   "cell_type": "code",
   "execution_count": 29,
   "metadata": {},
   "outputs": [],
   "source": [
    "sf_net_size = pd.DataFrame.from_dict(final_size_AB)"
   ]
  },
  {
   "cell_type": "code",
   "execution_count": 30,
   "metadata": {},
   "outputs": [
    {
     "data": {
      "text/html": [
       "<div>\n",
       "<style scoped>\n",
       "    .dataframe tbody tr th:only-of-type {\n",
       "        vertical-align: middle;\n",
       "    }\n",
       "\n",
       "    .dataframe tbody tr th {\n",
       "        vertical-align: top;\n",
       "    }\n",
       "\n",
       "    .dataframe thead th {\n",
       "        text-align: right;\n",
       "    }\n",
       "</style>\n",
       "<table border=\"1\" class=\"dataframe\">\n",
       "  <thead>\n",
       "    <tr style=\"text-align: right;\">\n",
       "      <th></th>\n",
       "      <th>0.000100</th>\n",
       "      <th>0.000162</th>\n",
       "      <th>0.000264</th>\n",
       "      <th>0.000428</th>\n",
       "      <th>0.000695</th>\n",
       "      <th>0.001129</th>\n",
       "      <th>0.001833</th>\n",
       "      <th>0.002976</th>\n",
       "      <th>0.004833</th>\n",
       "      <th>0.007848</th>\n",
       "      <th>0.012743</th>\n",
       "      <th>0.020691</th>\n",
       "      <th>0.033598</th>\n",
       "      <th>0.054556</th>\n",
       "      <th>0.088587</th>\n",
       "      <th>0.143845</th>\n",
       "      <th>0.233572</th>\n",
       "      <th>0.379269</th>\n",
       "      <th>0.615848</th>\n",
       "      <th>1.000000</th>\n",
       "    </tr>\n",
       "  </thead>\n",
       "  <tbody>\n",
       "    <tr>\n",
       "      <th>15</th>\n",
       "      <td>0.0505</td>\n",
       "      <td>0.0507</td>\n",
       "      <td>0.0515</td>\n",
       "      <td>0.0528</td>\n",
       "      <td>0.0533</td>\n",
       "      <td>0.0570</td>\n",
       "      <td>0.0596</td>\n",
       "      <td>0.0824</td>\n",
       "      <td>0.1225</td>\n",
       "      <td>0.2423</td>\n",
       "      <td>0.4803</td>\n",
       "      <td>0.7067</td>\n",
       "      <td>0.8738</td>\n",
       "      <td>0.9585</td>\n",
       "      <td>0.9909</td>\n",
       "      <td>0.9986</td>\n",
       "      <td>0.9999</td>\n",
       "      <td>1.0</td>\n",
       "      <td>1.0</td>\n",
       "      <td>1.0</td>\n",
       "    </tr>\n",
       "    <tr>\n",
       "      <th>16</th>\n",
       "      <td>0.0507</td>\n",
       "      <td>0.0507</td>\n",
       "      <td>0.0514</td>\n",
       "      <td>0.0526</td>\n",
       "      <td>0.0539</td>\n",
       "      <td>0.0585</td>\n",
       "      <td>0.0647</td>\n",
       "      <td>0.0796</td>\n",
       "      <td>0.1165</td>\n",
       "      <td>0.2618</td>\n",
       "      <td>0.4837</td>\n",
       "      <td>0.7169</td>\n",
       "      <td>0.8759</td>\n",
       "      <td>0.9585</td>\n",
       "      <td>0.9923</td>\n",
       "      <td>0.9988</td>\n",
       "      <td>0.9998</td>\n",
       "      <td>1.0</td>\n",
       "      <td>1.0</td>\n",
       "      <td>1.0</td>\n",
       "    </tr>\n",
       "    <tr>\n",
       "      <th>17</th>\n",
       "      <td>0.0507</td>\n",
       "      <td>0.0506</td>\n",
       "      <td>0.0511</td>\n",
       "      <td>0.0519</td>\n",
       "      <td>0.0541</td>\n",
       "      <td>0.0572</td>\n",
       "      <td>0.0654</td>\n",
       "      <td>0.0877</td>\n",
       "      <td>0.1462</td>\n",
       "      <td>0.2727</td>\n",
       "      <td>0.4790</td>\n",
       "      <td>0.7197</td>\n",
       "      <td>0.8774</td>\n",
       "      <td>0.9599</td>\n",
       "      <td>0.9919</td>\n",
       "      <td>0.9987</td>\n",
       "      <td>0.9996</td>\n",
       "      <td>1.0</td>\n",
       "      <td>1.0</td>\n",
       "      <td>1.0</td>\n",
       "    </tr>\n",
       "    <tr>\n",
       "      <th>18</th>\n",
       "      <td>0.0508</td>\n",
       "      <td>0.0505</td>\n",
       "      <td>0.0510</td>\n",
       "      <td>0.0519</td>\n",
       "      <td>0.0539</td>\n",
       "      <td>0.0552</td>\n",
       "      <td>0.0641</td>\n",
       "      <td>0.0813</td>\n",
       "      <td>0.1444</td>\n",
       "      <td>0.2636</td>\n",
       "      <td>0.5012</td>\n",
       "      <td>0.7044</td>\n",
       "      <td>0.8731</td>\n",
       "      <td>0.9540</td>\n",
       "      <td>0.9919</td>\n",
       "      <td>0.9991</td>\n",
       "      <td>1.0000</td>\n",
       "      <td>1.0</td>\n",
       "      <td>1.0</td>\n",
       "      <td>1.0</td>\n",
       "    </tr>\n",
       "    <tr>\n",
       "      <th>19</th>\n",
       "      <td>0.0502</td>\n",
       "      <td>0.0510</td>\n",
       "      <td>0.0508</td>\n",
       "      <td>0.0525</td>\n",
       "      <td>0.0537</td>\n",
       "      <td>0.0555</td>\n",
       "      <td>0.0579</td>\n",
       "      <td>0.0779</td>\n",
       "      <td>0.1541</td>\n",
       "      <td>0.2538</td>\n",
       "      <td>0.5092</td>\n",
       "      <td>0.7004</td>\n",
       "      <td>0.8743</td>\n",
       "      <td>0.9579</td>\n",
       "      <td>0.9923</td>\n",
       "      <td>0.9991</td>\n",
       "      <td>0.9996</td>\n",
       "      <td>1.0</td>\n",
       "      <td>1.0</td>\n",
       "      <td>1.0</td>\n",
       "    </tr>\n",
       "  </tbody>\n",
       "</table>\n",
       "</div>"
      ],
      "text/plain": [
       "    0.000100  0.000162  0.000264  0.000428  0.000695  0.001129  0.001833  \\\n",
       "15    0.0505    0.0507    0.0515    0.0528    0.0533    0.0570    0.0596   \n",
       "16    0.0507    0.0507    0.0514    0.0526    0.0539    0.0585    0.0647   \n",
       "17    0.0507    0.0506    0.0511    0.0519    0.0541    0.0572    0.0654   \n",
       "18    0.0508    0.0505    0.0510    0.0519    0.0539    0.0552    0.0641   \n",
       "19    0.0502    0.0510    0.0508    0.0525    0.0537    0.0555    0.0579   \n",
       "\n",
       "    0.002976  0.004833  0.007848  0.012743  0.020691  0.033598  0.054556  \\\n",
       "15    0.0824    0.1225    0.2423    0.4803    0.7067    0.8738    0.9585   \n",
       "16    0.0796    0.1165    0.2618    0.4837    0.7169    0.8759    0.9585   \n",
       "17    0.0877    0.1462    0.2727    0.4790    0.7197    0.8774    0.9599   \n",
       "18    0.0813    0.1444    0.2636    0.5012    0.7044    0.8731    0.9540   \n",
       "19    0.0779    0.1541    0.2538    0.5092    0.7004    0.8743    0.9579   \n",
       "\n",
       "    0.088587  0.143845  0.233572  0.379269  0.615848  1.000000  \n",
       "15    0.9909    0.9986    0.9999       1.0       1.0       1.0  \n",
       "16    0.9923    0.9988    0.9998       1.0       1.0       1.0  \n",
       "17    0.9919    0.9987    0.9996       1.0       1.0       1.0  \n",
       "18    0.9919    0.9991    1.0000       1.0       1.0       1.0  \n",
       "19    0.9923    0.9991    0.9996       1.0       1.0       1.0  "
      ]
     },
     "execution_count": 30,
     "metadata": {},
     "output_type": "execute_result"
    }
   ],
   "source": [
    "sf_net_size.tail()"
   ]
  },
  {
   "cell_type": "code",
   "execution_count": 31,
   "metadata": {},
   "outputs": [
    {
     "data": {
      "text/plain": [
       "Text(0.5, 0, '$\\\\lambda$')"
      ]
     },
     "execution_count": 31,
     "metadata": {},
     "output_type": "execute_result"
    },
    {
     "data": {
      "image/png": "[encoded data removed]",
      "text/plain": [
       "<Figure size 864x504 with 1 Axes>"
      ]
     },
     "metadata": {
      "needs_background": "light"
     },
     "output_type": "display_data"
    }
   ],
   "source": [
    "plt.figure(figsize=(12, 7))\n",
    "\n",
    "homo_net_size.boxplot(\n",
    "    positions=np.array(homo_net_size.columns),\n",
    "    widths=np.array(homo_net_size.columns) / 3,\n",
    "    color=\"r\",\n",
    ")\n",
    "\n",
    "plt.vlines(x=lambda_c, ymin=0.04, ymax=1.1)\n",
    "sf_net_size.boxplot(\n",
    "    positions=np.array(sf_net_size.columns), widths=np.array(sf_net_size.columns) / 3\n",
    ")\n",
    "\n",
    "plt.yscale(\"log\")\n",
    "plt.xscale(\"log\")\n",
    "plt.xlim(0.0001, 1.0)\n",
    "plt.ylim(0.045, 1.1)\n",
    "plt.xticks(fontsize=18)\n",
    "plt.yticks(fontsize=18)\n",
    "plt.ylabel(\"final epidemic size\", fontsize=18)\n",
    "plt.xlabel(\"$\\lambda$\", fontsize=18)"
   ]
  },
  {
   "cell_type": "markdown",
   "metadata": {},
   "source": [
    "## Epidemic threshold for configuration model networks\n",
    "\n",
    "We can use the configuration model to generate a network with a given power-law degree distribution. By setting $\\gamma=2.1$, we expect to see more fluctuations in the degree distribution."
   ]
  },
  {
   "cell_type": "markdown",
   "metadata": {},
   "source": [
    "We create a function that samples from a power-law distribution between $k_{min}$ and $k_{max}$ with exponent $\\gamma$"
   ]
  },
  {
   "cell_type": "code",
   "execution_count": 33,
   "metadata": {},
   "outputs": [],
   "source": [
    "def get_activity(x0, x1, g):\n",
    "\n",
    "    y = random.uniform(0, 1)\n",
    "\n",
    "    e = g + 1.0\n",
    "\n",
    "    a = ((x1**e - x0**e) * y + x0**e) ** (1.0 / e)\n",
    "\n",
    "    return a"
   ]
  },
  {
   "cell_type": "code",
   "execution_count": 34,
   "metadata": {},
   "outputs": [],
   "source": [
    "N = 10000\n",
    "kmin = 2\n",
    "kmax = N - 1\n",
    "a = []\n",
    "for i in range(N):\n",
    "    act = get_activity(kmin, kmax, -2.1)\n",
    "\n",
    "    a.append(int(round(act)))\n",
    "\n",
    "# we need the sum of the degree sequence to be even to properly run the configuration model\n",
    "if sum(a) % 2 == 0:\n",
    "    G1 = nx.configuration_model(a)\n",
    "else:\n",
    "    a[-1] += 1\n",
    "    G1 = nx.configuration_model(a)"
   ]
  },
  {
   "cell_type": "code",
   "execution_count": 35,
   "metadata": {},
   "outputs": [
    {
     "data": {
      "text/plain": [
       "True"
      ]
     },
     "execution_count": 35,
     "metadata": {},
     "output_type": "execute_result"
    }
   ],
   "source": [
    "nx.is_connected(G1)"
   ]
  },
  {
   "cell_type": "code",
   "execution_count": 36,
   "metadata": {},
   "outputs": [
    {
     "name": "stdout",
     "output_type": "stream",
     "text": [
      "Name: \n",
      "Type: MultiGraph\n",
      "Number of nodes: 10000\n",
      "Number of edges: 65624\n",
      "Average degree:  13.1248\n"
     ]
    }
   ],
   "source": [
    "print(nx.info(G1))"
   ]
  },
  {
   "cell_type": "code",
   "execution_count": 37,
   "metadata": {},
   "outputs": [],
   "source": [
    "G1 = nx.Graph(G1)"
   ]
  },
  {
   "cell_type": "code",
   "execution_count": 38,
   "metadata": {},
   "outputs": [],
   "source": [
    "G1.remove_edges_from(nx.selfloop_edges(G1))"
   ]
  },
  {
   "cell_type": "code",
   "execution_count": 39,
   "metadata": {},
   "outputs": [
    {
     "name": "stdout",
     "output_type": "stream",
     "text": [
      "Name: \n",
      "Type: Graph\n",
      "Number of nodes: 10000\n",
      "Number of edges: 54022\n",
      "Average degree:  10.8044\n"
     ]
    }
   ],
   "source": [
    "print(nx.info(G1))"
   ]
  },
  {
   "cell_type": "code",
   "execution_count": 40,
   "metadata": {},
   "outputs": [
    {
     "data": {
      "text/plain": [
       "True"
      ]
     },
     "execution_count": 40,
     "metadata": {},
     "output_type": "execute_result"
    }
   ],
   "source": [
    "nx.is_connected(G1)"
   ]
  },
  {
   "cell_type": "code",
   "execution_count": 41,
   "metadata": {},
   "outputs": [
    {
     "name": "stdout",
     "output_type": "stream",
     "text": [
      "2428.7296\n"
     ]
    }
   ],
   "source": [
    "sum_k2 = 0\n",
    "for i in G1.nodes():\n",
    "    k = G1.degree(i)\n",
    "    sum_k2 += k * k\n",
    "avg_k2 = sum_k2 / N\n",
    "print(avg_k2)"
   ]
  },
  {
   "cell_type": "code",
   "execution_count": 42,
   "metadata": {},
   "outputs": [
    {
     "name": "stdout",
     "output_type": "stream",
     "text": [
      "10.8044\n"
     ]
    }
   ],
   "source": [
    "avg_deg = 2 * len(G1.edges) / N\n",
    "print(avg_deg)"
   ]
  },
  {
   "cell_type": "code",
   "execution_count": 43,
   "metadata": {},
   "outputs": [
    {
     "name": "stdout",
     "output_type": "stream",
     "text": [
      "0.000893691831327123\n"
     ]
    }
   ],
   "source": [
    "lambda_c1 = mu * avg_deg / (avg_k2 - avg_deg)\n",
    "print(lambda_c1)"
   ]
  },
  {
   "cell_type": "code",
   "execution_count": 44,
   "metadata": {},
   "outputs": [
    {
     "data": {
      "text/plain": [
       "11.236282381599462"
      ]
     },
     "execution_count": 44,
     "metadata": {},
     "output_type": "execute_result"
    }
   ],
   "source": [
    "lc / lambda_c1"
   ]
  },
  {
   "cell_type": "markdown",
   "metadata": {},
   "source": [
    "### Simulations of an SIR process\n",
    "We simulate 100 realizations of a SIR model for increasing values of $\\lambda$"
   ]
  },
  {
   "cell_type": "code",
   "execution_count": 46,
   "metadata": {},
   "outputs": [],
   "source": [
    "final_size_conf = defaultdict(list)\n",
    "\n",
    "for lambd in np.geomspace(0.0001, 1.0, 20):\n",
    "    for r in range(0, 20):\n",
    "\n",
    "        t, S, I, R = EoN.fast_SIR(G1, lambd, mu, rho=0.05)\n",
    "\n",
    "        final_size_conf[lambd].append(R[-1] / N)"
   ]
  },
  {
   "cell_type": "code",
   "execution_count": 47,
   "metadata": {},
   "outputs": [],
   "source": [
    "conf_net_size = pd.DataFrame.from_dict(final_size_conf)"
   ]
  },
  {
   "cell_type": "code",
   "execution_count": 48,
   "metadata": {},
   "outputs": [
    {
     "data": {
      "text/plain": [
       "Text(0.5, 0, '$\\\\lambda$')"
      ]
     },
     "execution_count": 48,
     "metadata": {},
     "output_type": "execute_result"
    },
    {
     "data": {
      "image/png": "[encoded data removed]",
      "text/plain": [
       "<Figure size 864x504 with 1 Axes>"
      ]
     },
     "metadata": {
      "needs_background": "light"
     },
     "output_type": "display_data"
    }
   ],
   "source": [
    "plt.figure(figsize=(12, 7))\n",
    "\n",
    "boxprops1 = dict(linestyle=\"-\", linewidth=4, color=\"b\")\n",
    "\n",
    "homo_net_size.boxplot(\n",
    "    positions=np.array(homo_net_size.columns),\n",
    "    widths=np.array(homo_net_size.columns) / 3,\n",
    ")\n",
    "\n",
    "conf_net_size.boxplot(\n",
    "    positions=np.array(conf_net_size.columns),\n",
    "    widths=np.array(conf_net_size.columns) / 3,\n",
    "    boxprops=boxprops1,\n",
    ")\n",
    "\n",
    "plt.vlines(x=lambda_c1, ymin=0.04, ymax=1.1)\n",
    "plt.legend([\"ER\", \"CM\"])\n",
    "plt.yscale(\"log\")\n",
    "plt.xscale(\"log\")\n",
    "plt.xlim(0.0001, 1.0)\n",
    "plt.ylim(0.045, 1.1)\n",
    "plt.xticks(fontsize=18)\n",
    "plt.yticks(fontsize=18)\n",
    "plt.ylabel(\"final epidemic size\", fontsize=18)\n",
    "plt.xlabel(\"$\\lambda$\", fontsize=18)"
   ]
  },
  {
   "cell_type": "code",
   "execution_count": null,
   "metadata": {},
   "outputs": [],
   "source": []
  }
 ],
 "metadata": {
  "kernelspec": {
   "display_name": "venv_xgi",
   "language": "python",
   "name": "venv_xgi"
  },
  "language_info": {
   "codemirror_mode": {
    "name": "ipython",
    "version": 3
   },
   "file_extension": ".py",
   "mimetype": "text/x-python",
   "name": "python",
   "nbconvert_exporter": "python",
   "pygments_lexer": "ipython3",
   "version": "3.9.13"
  },
  "toc": {
   "base_numbering": 1,
   "nav_menu": {},
   "number_sections": true,
   "sideBar": true,
   "skip_h1_title": false,
   "title_cell": "Table of Contents",
   "title_sidebar": "Contents",
   "toc_cell": false,
   "toc_position": {},
   "toc_section_display": true,
   "toc_window_display": false
  }
 },
 "nbformat": 4,
 "nbformat_minor": 4
}
