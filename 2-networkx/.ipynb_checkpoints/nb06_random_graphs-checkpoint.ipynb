{
 "cells": [
  {
   "cell_type": "markdown",
   "id": "94eae75c",
   "metadata": {},
   "source": [
    "# Erdos-Renyi random networks"
   ]
  },
  {
   "cell_type": "code",
   "execution_count": null,
   "id": "1483d5c1",
   "metadata": {},
   "outputs": [],
   "source": [
    "import random\n",
    "\n",
    "import networkx as nx\n",
    "import numpy as np\n",
    "import seaborn as sb\n",
    "import matplotlib.pyplot as plt\n",
    "\n",
    "sb.set_theme(style=\"ticks\", context=\"notebook\")"
   ]
  },
  {
   "cell_type": "markdown",
   "id": "8d095865",
   "metadata": {},
   "source": [
    "## Write a random graph generator"
   ]
  },
  {
   "cell_type": "code",
   "execution_count": null,
   "id": "c85cc800",
   "metadata": {},
   "outputs": [],
   "source": [
    "def random_graph(N, p):\n",
    "    \n",
    "    G = nx.Graph()\n",
    "    \n",
    "    nodes = range(N)\n",
    "    edges = []\n",
    "    \n",
    "    for i in nodes:\n",
    "        for j in nodes[:i]:\n",
    "            if random.random() < p:\n",
    "                edges.append([i,j])\n",
    "                \n",
    "    G.add_nodes_from(nodes)\n",
    "    G.add_edges_from(edges)\n",
    "    \n",
    "    return G"
   ]
  },
  {
   "cell_type": "code",
   "execution_count": null,
   "id": "3c91ea74",
   "metadata": {},
   "outputs": [],
   "source": [
    "N = 100\n",
    "p = 1 / N\n",
    "G = random_graph(N, p)"
   ]
  },
  {
   "cell_type": "code",
   "execution_count": null,
   "id": "db1a2636",
   "metadata": {},
   "outputs": [],
   "source": [
    "params = {\n",
    "    \"node_size\": 10,\n",
    "    \"with_labels\": False,\n",
    "    \"edge_color\": \"silver\",\n",
    "    \"node_color\": \"b\",\n",
    "}\n",
    "\n",
    "nx.draw_networkx(G, **params)\n",
    "\n",
    "sb.despine(bottom=True, left=True)"
   ]
  },
  {
   "cell_type": "markdown",
   "id": "373bacfe",
   "metadata": {},
   "source": [
    "## Analyse characteristics"
   ]
  },
  {
   "cell_type": "code",
   "execution_count": null,
   "id": "bf26cdc7",
   "metadata": {},
   "outputs": [],
   "source": [
    "N = 200\n",
    "p = 0.2/N\n",
    "\n",
    "G = nx.erdos_renyi_graph(N, p, seed=1)"
   ]
  },
  {
   "cell_type": "code",
   "execution_count": null,
   "id": "fa8fe847",
   "metadata": {},
   "outputs": [],
   "source": [
    "params = {\n",
    "    \"node_size\": 10,\n",
    "    \"with_labels\": False,\n",
    "    \"edge_color\": \"silver\",\n",
    "    \"node_color\": \"b\",\n",
    "}\n",
    "\n",
    "pos = nx.spring_layout(G)\n",
    "\n",
    "nx.draw_networkx(G, pos=pos, **params)\n",
    "\n",
    "# identify largest connected component\n",
    "Gcc = sorted(nx.connected_components(G), key=len, reverse=True)\n",
    "G0 = G.subgraph(Gcc[0])\n",
    "# highlight largest connected component\n",
    "nx.draw_networkx_edges(G0, pos=pos, width=3.0, edge_color=\"r\")\n",
    "\n",
    "# draw other connected components\n",
    "for Gi in Gcc[1:]:\n",
    "    if len(Gi) > 1:\n",
    "        nx.draw_networkx_edges(G.subgraph(Gi), pos, alpha=0.4, width=3.0, edge_color=\"r\")\n",
    "\n",
    "\n",
    "sb.despine(bottom=True, left=True)"
   ]
  },
  {
   "cell_type": "code",
   "execution_count": null,
   "id": "a78f2319",
   "metadata": {},
   "outputs": [],
   "source": [
    "print(f\"Connected: {nx.is_connected(G)}\")\n",
    "print(f\"# connected components: {len(list(nx.connected_components(G)))}\")\n",
    "\n",
    "print()\n",
    "print(f\"Size of largest connected component: {len(G0)}\")\n",
    "print(f\"Prop. of nodes in it: {len(G0) / N:.2f}\")\n",
    "\n",
    "print()\n",
    "degree_sequence = sorted((d for n, d in G.degree()), reverse=True)\n",
    "print(f\"Average degree: {np.average(degree_sequence)}\")\n",
    "print(f\"Clustering coefficient: {nx.average_clustering(G)}\")"
   ]
  },
  {
   "cell_type": "code",
   "execution_count": null,
   "id": "097e3a16",
   "metadata": {},
   "outputs": [],
   "source": [
    "deg, counts = np.unique(degree_sequence, return_counts=True)\n",
    "\n",
    "fig, ax = plt.subplots()\n",
    "\n",
    "ax.plot(deg, counts)\n",
    "\n",
    "ax.axvline(np.average(degree_sequence), ls=\"--\", c=\"grey\", zorder=-1)\n",
    "\n",
    "ax.set_xlabel(\"$k$\")\n",
    "ax.set_ylabel(\"$P(k)$\")\n",
    "plt.yscale(\"log\")\n",
    "plt.xscale(\"log\")\n",
    "\n",
    "sb.despine()"
   ]
  },
  {
   "cell_type": "markdown",
   "id": "d1310afa",
   "metadata": {},
   "source": [
    "## Vary the degree k "
   ]
  },
  {
   "cell_type": "code",
   "execution_count": null,
   "id": "ca93bd90",
   "metadata": {},
   "outputs": [],
   "source": [
    "N = 500  # number of nodes\n",
    "\n",
    "ks = np.arange(0, 5.1, 0.1)  # avg degrees\n",
    "ps = ks / (N - 1)  # corresponding wiring probabilities\n",
    "\n",
    "n_reps = 10\n",
    "\n",
    "# props = []\n",
    "props_arr = np.zeros((len(ps), n_reps))\n",
    "\n",
    "for i, p in enumerate(ps):\n",
    "    for rep in range(n_reps):\n",
    "\n",
    "        G = nx.erdos_renyi_graph(n=N, p=p)\n",
    "\n",
    "        # identify largest connected component\n",
    "        Gcc = sorted(nx.connected_components(G), key=len, reverse=True)\n",
    "        G0 = G.subgraph(Gcc[0])\n",
    "\n",
    "        prop = len(G0) / N\n",
    "        props_arr[i, rep] = prop"
   ]
  },
  {
   "cell_type": "code",
   "execution_count": null,
   "id": "745416b5",
   "metadata": {},
   "outputs": [],
   "source": [
    "fig, ax = plt.subplots()\n",
    "\n",
    "ax.plot(ks, props_arr, \"-o\", alpha=0.3)\n",
    "\n",
    "ax.plot(ks, np.average(props_arr, axis=1), \"k-\", lw=3)\n",
    "\n",
    "ax.set_ylabel(\"Proportion of nodes in G0\")\n",
    "ax.set_xlabel(r\"$< k >$\")\n",
    "\n",
    "sb.despine()"
   ]
  },
  {
   "cell_type": "markdown",
   "id": "0392fdb3",
   "metadata": {},
   "source": [
    "## Configuration model"
   ]
  },
  {
   "cell_type": "code",
   "execution_count": null,
   "id": "1f728b48",
   "metadata": {},
   "outputs": [],
   "source": [
    "N = 20\n",
    "p = 6 / N\n",
    "G = random_graph(N, p)\n",
    "\n",
    "degree_sequence = [d for n, d in G.degree()]"
   ]
  },
  {
   "cell_type": "code",
   "execution_count": null,
   "id": "43083575",
   "metadata": {},
   "outputs": [],
   "source": [
    "deg, counts = np.unique(degree_sequence, return_counts=True)\n",
    "\n",
    "fig, ax = plt.subplots()\n",
    "ax.plot(deg, counts / N)\n",
    "ax.axvline(np.average(degree_sequence), ls=\"--\", c=\"grey\", zorder=-1)\n",
    "\n",
    "ax.set_xlabel(\"$k$\")\n",
    "ax.set_ylabel(\"$P(k)$\")\n",
    "plt.yscale(\"log\")\n",
    "plt.xscale(\"log\")\n",
    "\n",
    "sb.despine()"
   ]
  },
  {
   "cell_type": "code",
   "execution_count": null,
   "id": "6c692d40",
   "metadata": {},
   "outputs": [],
   "source": [
    "G_conf = nx.configuration_model(degree_sequence)\n",
    "G_conf = nx.Graph(G_conf)\n",
    "\n",
    "degree_sequence_conf = [d for n, d in G.degree()]"
   ]
  },
  {
   "cell_type": "code",
   "execution_count": null,
   "id": "ceed83aa",
   "metadata": {},
   "outputs": [],
   "source": [
    "deg_conf, counts_conf = np.unique(degree_sequence_conf, return_counts=True)\n",
    "\n",
    "fig, ax = plt.subplots()\n",
    "ax.plot(degree_sequence, \"o-\", ms=10, label=\"original\")\n",
    "ax.plot(degree_sequence_conf, \"o-\", label=\"config\")\n",
    "\n",
    "ax.set_xlabel(\"Node index\")\n",
    "ax.set_ylabel(\"Degree\")\n",
    "#plt.yscale(\"log\")\n",
    "#plt.xscale(\"log\")\n",
    "\n",
    "ax.legend()\n",
    "\n",
    "sb.despine()"
   ]
  },
  {
   "cell_type": "code",
   "execution_count": null,
   "id": "941a37c1",
   "metadata": {},
   "outputs": [],
   "source": [
    "print(G)\n",
    "print(G_conf)"
   ]
  },
  {
   "cell_type": "code",
   "execution_count": null,
   "id": "3ad30b7c",
   "metadata": {},
   "outputs": [],
   "source": [
    "pos = nx.spring_layout(G)"
   ]
  },
  {
   "cell_type": "code",
   "execution_count": null,
   "id": "b6b72392",
   "metadata": {},
   "outputs": [],
   "source": [
    "pos = nx.spring_layout(G, seed=1)\n",
    "nx.draw_networkx(G, pos=pos, node_color=\"lightgrey\")"
   ]
  },
  {
   "cell_type": "code",
   "execution_count": null,
   "id": "7498c352",
   "metadata": {},
   "outputs": [],
   "source": [
    "nx.draw_networkx(G_conf, pos=pos, node_color=\"lightgrey\")"
   ]
  },
  {
   "cell_type": "code",
   "execution_count": null,
   "id": "abe50e8e",
   "metadata": {},
   "outputs": [],
   "source": [
    "#G_conf = G_conf.remove_edges_from(nx.selfloop_edges(G_conf))"
   ]
  },
  {
   "cell_type": "code",
   "execution_count": null,
   "id": "1e398a31",
   "metadata": {},
   "outputs": [],
   "source": []
  }
 ],
 "metadata": {
  "kernelspec": {
   "display_name": "venv_xgi",
   "language": "python",
   "name": "venv_xgi"
  },
  "language_info": {
   "codemirror_mode": {
    "name": "ipython",
    "version": 3
   },
   "file_extension": ".py",
   "mimetype": "text/x-python",
   "name": "python",
   "nbconvert_exporter": "python",
   "pygments_lexer": "ipython3",
   "version": "3.9.13"
  },
  "toc": {
   "base_numbering": 1,
   "nav_menu": {},
   "number_sections": true,
   "sideBar": true,
   "skip_h1_title": false,
   "title_cell": "Table of Contents",
   "title_sidebar": "Contents",
   "toc_cell": false,
   "toc_position": {},
   "toc_section_display": true,
   "toc_window_display": true
  }
 },
 "nbformat": 4,
 "nbformat_minor": 5
}
