{
 "cells": [
  {
   "cell_type": "markdown",
   "metadata": {},
   "source": [
    "# How to fit a power law distribution"
   ]
  },
  {
   "cell_type": "code",
   "execution_count": 1,
   "metadata": {},
   "outputs": [],
   "source": [
    "import networkx as nx\n",
    "import seaborn as sns"
   ]
  },
  {
   "cell_type": "code",
   "execution_count": 2,
   "metadata": {},
   "outputs": [],
   "source": [
    "import numpy as np\n",
    "from operator import itemgetter"
   ]
  },
  {
   "cell_type": "code",
   "execution_count": 3,
   "metadata": {},
   "outputs": [
    {
     "name": "stdout",
     "output_type": "stream",
     "text": [
      "%pylab is deprecated, use %matplotlib inline and import the required libraries.\n",
      "Populating the interactive namespace from numpy and matplotlib\n"
     ]
    }
   ],
   "source": [
    "%pylab inline"
   ]
  },
  {
   "cell_type": "markdown",
   "metadata": {},
   "source": [
    "## The Powerlaw package\n",
    "We use the Python toolbox [powerlaw](https://github.com/jeffalstott/powerlaw) that implements a method proposed by Aaron Clauset and collaborators in [this paper](https://arxiv.org/abs/0706.1062).\n",
    "The paper explains why fitting a power law distribution using a linear regression of logarthim is not correct. \n",
    "A more sound approach is based on a Maximum Likelihood Estimator."
   ]
  },
  {
   "cell_type": "markdown",
   "metadata": {},
   "source": [
    "The package can be installed using `pip` as `pip install powerlaw`.\n",
    "Full documentation is available [here](http://pythonhosted.org/powerlaw/).\n",
    "Several examples and a detailed description of the library has been published in a paper on [PLOS ONE\n",
    "](http://journals.plos.org/plosone/article?id=10.1371/journal.pone.0085777)."
   ]
  },
  {
   "cell_type": "markdown",
   "metadata": {},
   "source": [
    "As stated by Clauset, Shalizi and Newman: \n",
    ">In practice, we can rarely, if ever, be certain that an observed quantity is drawn from a power-law distribution. The most we can say is that our observations are consistent with the hypothesis that $x$ is drawn from a distribution of the form of $p(x) \\propto x^{-\\alpha}$. In some cases we may also be able to rule out some other competing hypotheses."
   ]
  },
  {
   "cell_type": "code",
   "execution_count": 5,
   "metadata": {},
   "outputs": [
    {
     "name": "stdout",
     "output_type": "stream",
     "text": [
      "Collecting powerlaw\n",
      "  Downloading powerlaw-1.5-py3-none-any.whl (24 kB)\n",
      "Requirement already satisfied: scipy in /Users/lordgrilo/.virtualenvs/stenv/lib/python3.9/site-packages (from powerlaw) (1.8.0)\n",
      "Requirement already satisfied: numpy in /Users/lordgrilo/.virtualenvs/stenv/lib/python3.9/site-packages (from powerlaw) (1.23.5)\n",
      "Requirement already satisfied: matplotlib in /Users/lordgrilo/.virtualenvs/stenv/lib/python3.9/site-packages (from powerlaw) (3.5.2)\n",
      "Collecting mpmath\n",
      "  Downloading mpmath-1.3.0-py3-none-any.whl (536 kB)\n",
      "\u001b[2K     \u001b[90m━━━━━━━━━━━━━━━━━━━━━━━━━━━━━━━━━━━━━━\u001b[0m \u001b[32m536.2/536.2 kB\u001b[0m \u001b[31m10.7 MB/s\u001b[0m eta \u001b[36m0:00:00\u001b[0m00:01\u001b[0m\n",
      "\u001b[?25hRequirement already satisfied: cycler>=0.10 in /Users/lordgrilo/.virtualenvs/stenv/lib/python3.9/site-packages (from matplotlib->powerlaw) (0.11.0)\n",
      "Requirement already satisfied: pyparsing>=2.2.1 in /Users/lordgrilo/.virtualenvs/stenv/lib/python3.9/site-packages (from matplotlib->powerlaw) (3.0.8)\n",
      "Requirement already satisfied: pillow>=6.2.0 in /Users/lordgrilo/.virtualenvs/stenv/lib/python3.9/site-packages (from matplotlib->powerlaw) (9.1.0)\n",
      "Requirement already satisfied: kiwisolver>=1.0.1 in /Users/lordgrilo/.virtualenvs/stenv/lib/python3.9/site-packages (from matplotlib->powerlaw) (1.4.2)\n",
      "Requirement already satisfied: python-dateutil>=2.7 in /Users/lordgrilo/.virtualenvs/stenv/lib/python3.9/site-packages (from matplotlib->powerlaw) (2.8.2)\n",
      "Requirement already satisfied: packaging>=20.0 in /Users/lordgrilo/.virtualenvs/stenv/lib/python3.9/site-packages (from matplotlib->powerlaw) (23.0)\n",
      "Requirement already satisfied: fonttools>=4.22.0 in /Users/lordgrilo/.virtualenvs/stenv/lib/python3.9/site-packages (from matplotlib->powerlaw) (4.33.3)\n",
      "Requirement already satisfied: six>=1.5 in /Users/lordgrilo/.virtualenvs/stenv/lib/python3.9/site-packages (from python-dateutil>=2.7->matplotlib->powerlaw) (1.16.0)\n",
      "Installing collected packages: mpmath, powerlaw\n",
      "Successfully installed mpmath-1.3.0 powerlaw-1.5\n"
     ]
    }
   ],
   "source": [
    "!pip install powerlaw"
   ]
  },
  {
   "cell_type": "code",
   "execution_count": 6,
   "metadata": {},
   "outputs": [],
   "source": [
    "import powerlaw as pwl"
   ]
  },
  {
   "cell_type": "markdown",
   "metadata": {},
   "source": [
    "## Analysis of ca-AstroPh"
   ]
  },
  {
   "cell_type": "markdown",
   "metadata": {},
   "source": [
    "We analyze the network file 'ca-AstroPh' from the SNAP repository. \n",
    "This is a co-authorhip network, thus, it is undirected."
   ]
  },
  {
   "cell_type": "code",
   "execution_count": 7,
   "metadata": {},
   "outputs": [],
   "source": [
    "filepath='./../datasets/ca-AstroPh.txt'"
   ]
  },
  {
   "cell_type": "code",
   "execution_count": 8,
   "metadata": {},
   "outputs": [],
   "source": [
    "G=nx.Graph()\n",
    "\n",
    "fh=open(filepath,'r')\n",
    "for line in fh.readlines():\n",
    "    s=line.strip().split()\n",
    "    if s[0]!='#':\n",
    "        origin=int(s[0])\n",
    "        dest=int(s[1])\n",
    "        G.add_edge(origin,dest)\n",
    "fh.close()"
   ]
  },
  {
   "cell_type": "code",
   "execution_count": 9,
   "metadata": {},
   "outputs": [
    {
     "name": "stdout",
     "output_type": "stream",
     "text": [
      "The network has 18772 nodes and 198110 links.\n"
     ]
    }
   ],
   "source": [
    "print('The network has', len(G), 'nodes and', len(G.edges()), 'links.')"
   ]
  },
  {
   "cell_type": "markdown",
   "metadata": {},
   "source": [
    "### Degree distribution\n",
    "Let's plot the degree distribution of the network."
   ]
  },
  {
   "cell_type": "markdown",
   "metadata": {},
   "source": [
    "It's important to keep in mind the difference between [probability density function](https://en.wikipedia.org/wiki/Probability_density_function) and [probablity mass function](https://en.wikipedia.org/wiki/Probability_mass_function)."
   ]
  },
  {
   "cell_type": "code",
   "execution_count": 10,
   "metadata": {},
   "outputs": [],
   "source": [
    "from collections import Counter \n",
    "deg=dict(G.degree()).values()\n",
    "deg_distri=Counter(deg)"
   ]
  },
  {
   "cell_type": "markdown",
   "metadata": {},
   "source": [
    "We plot the degree probability mass function."
   ]
  },
  {
   "cell_type": "code",
   "execution_count": 11,
   "metadata": {},
   "outputs": [
    {
     "data": {
      "image/png": "[encoded data removed]",
      "text/plain": [
       "<Figure size 720x504 with 1 Axes>"
      ]
     },
     "metadata": {
      "needs_background": "light"
     },
     "output_type": "display_data"
    }
   ],
   "source": [
    "x=[]\n",
    "y=[]\n",
    "for i in sorted(deg_distri):   \n",
    "    x.append(i)\n",
    "    y.append(deg_distri[i]/len(G))\n",
    "\n",
    "plt.figure(figsize=(10,7))    \n",
    "plt.plot(x,y)\n",
    "\n",
    "plt.xlabel('degree $k$', fontsize=18)\n",
    "plt.ylabel('$P(k)$', fontsize=18)\n",
    "\n",
    "plt.xticks(fontsize=14)\n",
    "plt.yticks(fontsize=14)\n",
    "\n",
    "plt.yscale('log')\n",
    "plt.xscale('log')\n",
    "plt.axis([1,1000,0.00001,0.2])\n",
    "plt.show()"
   ]
  },
  {
   "cell_type": "markdown",
   "metadata": {},
   "source": [
    "Using the 'hist()' function of matplotlib we can plot the probability density distribution, choosing the number of bins."
   ]
  },
  {
   "cell_type": "code",
   "execution_count": 12,
   "metadata": {},
   "outputs": [
    {
     "data": {
      "text/plain": [
       "Text(0, 0.5, '$P(k)$')"
      ]
     },
     "execution_count": 12,
     "metadata": {},
     "output_type": "execute_result"
    },
    {
     "data": {
      "image/png": "[encoded data removed]",
      "text/plain": [
       "<Figure size 720x504 with 1 Axes>"
      ]
     },
     "metadata": {
      "needs_background": "light"
     },
     "output_type": "display_data"
    }
   ],
   "source": [
    "plt.figure(figsize=(10,7))\n",
    "\n",
    "plt.hist(deg, bins=90, density=True, log=True, histtype='stepfilled')\n",
    "\n",
    "plt.plot(x,y,'black','o')\n",
    "plt.xscale('log')\n",
    "plt.yscale('log')\n",
    "plt.xticks(fontsize=20)\n",
    "plt.yticks(fontsize=22)\n",
    "plt.xlabel('degree $k$', fontsize=22)\n",
    "plt.ylabel('$P(k)$', fontsize=22)"
   ]
  },
  {
   "cell_type": "markdown",
   "metadata": {},
   "source": [
    "The *powerlaw* package provides direct access to the probability density function."
   ]
  },
  {
   "cell_type": "code",
   "execution_count": 13,
   "metadata": {},
   "outputs": [],
   "source": [
    "degree=list(deg)"
   ]
  },
  {
   "cell_type": "code",
   "execution_count": 14,
   "metadata": {},
   "outputs": [],
   "source": [
    "pwl_distri=pwl.pdf(degree, bins=90)"
   ]
  },
  {
   "cell_type": "code",
   "execution_count": 15,
   "metadata": {},
   "outputs": [
    {
     "data": {
      "text/plain": [
       "(array([  1.        ,   6.58888889,  12.17777778,  17.76666667,\n",
       "         23.35555556,  28.94444444,  34.53333333,  40.12222222,\n",
       "         45.71111111,  51.3       ,  56.88888889,  62.47777778,\n",
       "         68.06666667,  73.65555556,  79.24444444,  84.83333333,\n",
       "         90.42222222,  96.01111111, 101.6       , 107.18888889,\n",
       "        112.77777778, 118.36666667, 123.95555556, 129.54444444,\n",
       "        135.13333333, 140.72222222, 146.31111111, 151.9       ,\n",
       "        157.48888889, 163.07777778, 168.66666667, 174.25555556,\n",
       "        179.84444444, 185.43333333, 191.02222222, 196.61111111,\n",
       "        202.2       , 207.78888889, 213.37777778, 218.96666667,\n",
       "        224.55555556, 230.14444444, 235.73333333, 241.32222222,\n",
       "        246.91111111, 252.5       , 258.08888889, 263.67777778,\n",
       "        269.26666667, 274.85555556, 280.44444444, 286.03333333,\n",
       "        291.62222222, 297.21111111, 302.8       , 308.38888889,\n",
       "        313.97777778, 319.56666667, 325.15555556, 330.74444444,\n",
       "        336.33333333, 341.92222222, 347.51111111, 353.1       ,\n",
       "        358.68888889, 364.27777778, 369.86666667, 375.45555556,\n",
       "        381.04444444, 386.63333333, 392.22222222, 397.81111111,\n",
       "        403.4       , 408.98888889, 414.57777778, 420.16666667,\n",
       "        425.75555556, 431.34444444, 436.93333333, 442.52222222,\n",
       "        448.11111111, 453.7       , 459.28888889, 464.87777778,\n",
       "        470.46666667, 476.05555556, 481.64444444, 487.23333333,\n",
       "        492.82222222, 498.41111111, 504.        ]),\n",
       " array([7.30022168e-02, 2.97289351e-02, 1.38874827e-02, 1.29915161e-02,\n",
       "        7.35836420e-03, 7.44414824e-03, 6.11926142e-03, 4.47983313e-03,\n",
       "        4.63233808e-03, 2.83087327e-03, 2.41148464e-03, 2.14460096e-03,\n",
       "        1.61083361e-03, 1.57270737e-03, 1.25816590e-03, 1.07706626e-03,\n",
       "        9.91282224e-04, 4.76577992e-04, 6.38614509e-04, 5.43298911e-04,\n",
       "        4.76577992e-04, 3.33604594e-04, 4.00325513e-04, 3.62199274e-04,\n",
       "        2.76415235e-04, 2.66883676e-04, 1.90631197e-04, 2.09694317e-04,\n",
       "        1.52504957e-04, 7.62524787e-05, 1.62036517e-04, 6.67209189e-05,\n",
       "        5.71893591e-05, 3.81262394e-05, 8.57840386e-05, 2.85946795e-05,\n",
       "        0.00000000e+00, 8.57840386e-05, 3.81262394e-05, 6.67209189e-05,\n",
       "        1.90631197e-05, 2.85946795e-05, 9.53155984e-06, 0.00000000e+00,\n",
       "        1.90631197e-05, 3.81262394e-05, 0.00000000e+00, 9.53155984e-06,\n",
       "        3.81262394e-05, 0.00000000e+00, 9.53155984e-06, 0.00000000e+00,\n",
       "        1.90631197e-05, 0.00000000e+00, 0.00000000e+00, 9.53155984e-06,\n",
       "        0.00000000e+00, 1.90631197e-05, 1.90631197e-05, 1.90631197e-05,\n",
       "        0.00000000e+00, 0.00000000e+00, 1.90631197e-05, 0.00000000e+00,\n",
       "        9.53155984e-06, 9.53155984e-06, 0.00000000e+00, 0.00000000e+00,\n",
       "        9.53155984e-06, 9.53155984e-06, 0.00000000e+00, 0.00000000e+00,\n",
       "        0.00000000e+00, 0.00000000e+00, 1.90631197e-05, 0.00000000e+00,\n",
       "        9.53155984e-06, 0.00000000e+00, 0.00000000e+00, 0.00000000e+00,\n",
       "        0.00000000e+00, 0.00000000e+00, 0.00000000e+00, 0.00000000e+00,\n",
       "        0.00000000e+00, 0.00000000e+00, 0.00000000e+00, 0.00000000e+00,\n",
       "        0.00000000e+00, 9.53155984e-06]))"
      ]
     },
     "execution_count": 15,
     "metadata": {},
     "output_type": "execute_result"
    }
   ],
   "source": [
    "pwl_distri"
   ]
  },
  {
   "cell_type": "code",
   "execution_count": 16,
   "metadata": {},
   "outputs": [
    {
     "data": {
      "text/plain": [
       "Text(0, 0.5, '$P(k)$')"
      ]
     },
     "execution_count": 16,
     "metadata": {},
     "output_type": "execute_result"
    },
    {
     "data": {
      "image/png": "[encoded data removed]",
      "text/plain": [
       "<Figure size 720x504 with 1 Axes>"
      ]
     },
     "metadata": {
      "needs_background": "light"
     },
     "output_type": "display_data"
    }
   ],
   "source": [
    "plt.figure(figsize=(10,7))\n",
    "plt.yscale('log')\n",
    "plt.xscale('log')\n",
    "\n",
    "plt.plot(x,y,'ro')\n",
    "\n",
    "pwl.plot_pdf(degree, color='black', linewidth=2)\n",
    "\n",
    "plt.xticks(fontsize=20)\n",
    "plt.yticks(fontsize=22)\n",
    "\n",
    "plt.xlabel('degree $k$', fontsize=22)\n",
    "plt.ylabel('$P(k)$', fontsize=22)"
   ]
  },
  {
   "cell_type": "markdown",
   "metadata": {},
   "source": [
    "### Linear binning"
   ]
  },
  {
   "cell_type": "code",
   "execution_count": 17,
   "metadata": {},
   "outputs": [
    {
     "data": {
      "text/plain": [
       "Text(0, 0.5, '$P(k)$')"
      ]
     },
     "execution_count": 17,
     "metadata": {},
     "output_type": "execute_result"
    },
    {
     "data": {
      "image/png": "[encoded data removed]",
      "text/plain": [
       "<Figure size 720x504 with 1 Axes>"
      ]
     },
     "metadata": {
      "needs_background": "light"
     },
     "output_type": "display_data"
    }
   ],
   "source": [
    "plt.figure(figsize=(10,7))\n",
    "plt.yscale('log')\n",
    "plt.xscale('log')\n",
    "plt.plot(x,y,'ro')\n",
    "\n",
    "pwl.plot_pdf(degree, linear_bins=True, color='black', linewidth=2)\n",
    "\n",
    "plt.xticks(fontsize=20)\n",
    "plt.yticks(fontsize=22)\n",
    "\n",
    "plt.xlabel('degree $k$', fontsize=22)\n",
    "plt.ylabel('$P(k)$', fontsize=22)"
   ]
  },
  {
   "cell_type": "markdown",
   "metadata": {},
   "source": [
    "## Parameter estimation"
   ]
  },
  {
   "cell_type": "markdown",
   "metadata": {},
   "source": [
    "The library powerlaw allows to estimate the exponent $\\alpha$ and the minimum value for the scaling $x_{min}$"
   ]
  },
  {
   "cell_type": "code",
   "execution_count": 18,
   "metadata": {
    "jupyter": {
     "outputs_hidden": true
    }
   },
   "outputs": [
    {
     "data": {
      "text/plain": [
       "[75,\n",
       " 31,\n",
       " 43,\n",
       " 2,\n",
       " 90,\n",
       " 42,\n",
       " 118,\n",
       " 30,\n",
       " 113,\n",
       " 3,\n",
       " 28,\n",
       " 8,\n",
       " 158,\n",
       " 3,\n",
       " 13,\n",
       " 77,\n",
       " 36,\n",
       " 257,\n",
       " 12,\n",
       " 134,\n",
       " 55,\n",
       " 171,\n",
       " 28,\n",
       " 86,\n",
       " 15,\n",
       " 274,\n",
       " 47,\n",
       " 91,\n",
       " 22,\n",
       " 150,\n",
       " 2,\n",
       " 12,\n",
       " 14,\n",
       " 6,\n",
       " 52,\n",
       " 67,\n",
       " 108,\n",
       " 27,\n",
       " 142,\n",
       " 30,\n",
       " 62,\n",
       " 7,\n",
       " 86,\n",
       " 47,\n",
       " 61,\n",
       " 8,\n",
       " 49,\n",
       " 132,\n",
       " 41,\n",
       " 12,\n",
       " 5,\n",
       " 32,\n",
       " 20,\n",
       " 50,\n",
       " 56,\n",
       " 18,\n",
       " 44,\n",
       " 81,\n",
       " 28,\n",
       " 9,\n",
       " 61,\n",
       " 27,\n",
       " 22,\n",
       " 84,\n",
       " 123,\n",
       " 120,\n",
       " 82,\n",
       " 59,\n",
       " 10,\n",
       " 109,\n",
       " 21,\n",
       " 32,\n",
       " 30,\n",
       " 2,\n",
       " 28,\n",
       " 132,\n",
       " 6,\n",
       " 15,\n",
       " 72,\n",
       " 3,\n",
       " 33,\n",
       " 2,\n",
       " 20,\n",
       " 20,\n",
       " 13,\n",
       " 103,\n",
       " 77,\n",
       " 18,\n",
       " 10,\n",
       " 12,\n",
       " 12,\n",
       " 93,\n",
       " 19,\n",
       " 93,\n",
       " 10,\n",
       " 19,\n",
       " 60,\n",
       " 21,\n",
       " 9,\n",
       " 8,\n",
       " 48,\n",
       " 222,\n",
       " 40,\n",
       " 10,\n",
       " 12,\n",
       " 8,\n",
       " 103,\n",
       " 5,\n",
       " 18,\n",
       " 154,\n",
       " 27,\n",
       " 66,\n",
       " 220,\n",
       " 24,\n",
       " 9,\n",
       " 152,\n",
       " 323,\n",
       " 115,\n",
       " 34,\n",
       " 271,\n",
       " 53,\n",
       " 4,\n",
       " 12,\n",
       " 336,\n",
       " 30,\n",
       " 297,\n",
       " 1,\n",
       " 89,\n",
       " 9,\n",
       " 108,\n",
       " 25,\n",
       " 175,\n",
       " 162,\n",
       " 1,\n",
       " 16,\n",
       " 99,\n",
       " 75,\n",
       " 46,\n",
       " 19,\n",
       " 73,\n",
       " 25,\n",
       " 28,\n",
       " 99,\n",
       " 9,\n",
       " 68,\n",
       " 39,\n",
       " 52,\n",
       " 292,\n",
       " 138,\n",
       " 22,\n",
       " 10,\n",
       " 26,\n",
       " 118,\n",
       " 63,\n",
       " 30,\n",
       " 169,\n",
       " 16,\n",
       " 66,\n",
       " 49,\n",
       " 67,\n",
       " 1,\n",
       " 86,\n",
       " 19,\n",
       " 8,\n",
       " 333,\n",
       " 143,\n",
       " 26,\n",
       " 32,\n",
       " 13,\n",
       " 1,\n",
       " 13,\n",
       " 100,\n",
       " 66,\n",
       " 16,\n",
       " 43,\n",
       " 31,\n",
       " 30,\n",
       " 27,\n",
       " 2,\n",
       " 19,\n",
       " 28,\n",
       " 1,\n",
       " 8,\n",
       " 18,\n",
       " 29,\n",
       " 20,\n",
       " 9,\n",
       " 30,\n",
       " 8,\n",
       " 2,\n",
       " 132,\n",
       " 8,\n",
       " 6,\n",
       " 4,\n",
       " 11,\n",
       " 88,\n",
       " 33,\n",
       " 128,\n",
       " 15,\n",
       " 9,\n",
       " 24,\n",
       " 178,\n",
       " 21,\n",
       " 16,\n",
       " 55,\n",
       " 12,\n",
       " 30,\n",
       " 57,\n",
       " 10,\n",
       " 31,\n",
       " 156,\n",
       " 66,\n",
       " 76,\n",
       " 25,\n",
       " 113,\n",
       " 6,\n",
       " 105,\n",
       " 19,\n",
       " 3,\n",
       " 73,\n",
       " 27,\n",
       " 16,\n",
       " 128,\n",
       " 58,\n",
       " 24,\n",
       " 53,\n",
       " 25,\n",
       " 21,\n",
       " 88,\n",
       " 30,\n",
       " 3,\n",
       " 41,\n",
       " 39,\n",
       " 8,\n",
       " 63,\n",
       " 136,\n",
       " 104,\n",
       " 14,\n",
       " 91,\n",
       " 85,\n",
       " 97,\n",
       " 8,\n",
       " 109,\n",
       " 45,\n",
       " 41,\n",
       " 47,\n",
       " 14,\n",
       " 62,\n",
       " 111,\n",
       " 22,\n",
       " 38,\n",
       " 28,\n",
       " 3,\n",
       " 185,\n",
       " 57,\n",
       " 362,\n",
       " 115,\n",
       " 9,\n",
       " 174,\n",
       " 17,\n",
       " 58,\n",
       " 66,\n",
       " 50,\n",
       " 22,\n",
       " 52,\n",
       " 51,\n",
       " 121,\n",
       " 117,\n",
       " 117,\n",
       " 44,\n",
       " 54,\n",
       " 55,\n",
       " 118,\n",
       " 46,\n",
       " 27,\n",
       " 74,\n",
       " 65,\n",
       " 9,\n",
       " 31,\n",
       " 80,\n",
       " 13,\n",
       " 112,\n",
       " 100,\n",
       " 73,\n",
       " 369,\n",
       " 60,\n",
       " 19,\n",
       " 74,\n",
       " 188,\n",
       " 166,\n",
       " 99,\n",
       " 152,\n",
       " 8,\n",
       " 73,\n",
       " 64,\n",
       " 74,\n",
       " 9,\n",
       " 71,\n",
       " 427,\n",
       " 14,\n",
       " 18,\n",
       " 98,\n",
       " 88,\n",
       " 420,\n",
       " 42,\n",
       " 213,\n",
       " 163,\n",
       " 38,\n",
       " 31,\n",
       " 107,\n",
       " 64,\n",
       " 102,\n",
       " 173,\n",
       " 9,\n",
       " 139,\n",
       " 60,\n",
       " 82,\n",
       " 95,\n",
       " 52,\n",
       " 54,\n",
       " 123,\n",
       " 23,\n",
       " 70,\n",
       " 281,\n",
       " 32,\n",
       " 504,\n",
       " 28,\n",
       " 64,\n",
       " 126,\n",
       " 38,\n",
       " 48,\n",
       " 80,\n",
       " 149,\n",
       " 16,\n",
       " 45,\n",
       " 57,\n",
       " 175,\n",
       " 24,\n",
       " 140,\n",
       " 153,\n",
       " 85,\n",
       " 96,\n",
       " 85,\n",
       " 40,\n",
       " 43,\n",
       " 18,\n",
       " 56,\n",
       " 149,\n",
       " 126,\n",
       " 133,\n",
       " 83,\n",
       " 117,\n",
       " 26,\n",
       " 71,\n",
       " 35,\n",
       " 41,\n",
       " 58,\n",
       " 59,\n",
       " 155,\n",
       " 222,\n",
       " 144,\n",
       " 65,\n",
       " 92,\n",
       " 43,\n",
       " 98,\n",
       " 122,\n",
       " 35,\n",
       " 153,\n",
       " 24,\n",
       " 229,\n",
       " 11,\n",
       " 87,\n",
       " 44,\n",
       " 19,\n",
       " 120,\n",
       " 93,\n",
       " 151,\n",
       " 52,\n",
       " 41,\n",
       " 52,\n",
       " 125,\n",
       " 92,\n",
       " 153,\n",
       " 109,\n",
       " 88,\n",
       " 41,\n",
       " 23,\n",
       " 213,\n",
       " 61,\n",
       " 128,\n",
       " 141,\n",
       " 112,\n",
       " 108,\n",
       " 49,\n",
       " 95,\n",
       " 102,\n",
       " 150,\n",
       " 31,\n",
       " 235,\n",
       " 43,\n",
       " 7,\n",
       " 81,\n",
       " 108,\n",
       " 9,\n",
       " 135,\n",
       " 109,\n",
       " 120,\n",
       " 52,\n",
       " 92,\n",
       " 45,\n",
       " 75,\n",
       " 93,\n",
       " 108,\n",
       " 51,\n",
       " 85,\n",
       " 28,\n",
       " 39,\n",
       " 46,\n",
       " 28,\n",
       " 61,\n",
       " 80,\n",
       " 93,\n",
       " 85,\n",
       " 52,\n",
       " 65,\n",
       " 41,\n",
       " 8,\n",
       " 69,\n",
       " 9,\n",
       " 123,\n",
       " 14,\n",
       " 37,\n",
       " 17,\n",
       " 15,\n",
       " 74,\n",
       " 65,\n",
       " 39,\n",
       " 74,\n",
       " 18,\n",
       " 118,\n",
       " 60,\n",
       " 42,\n",
       " 54,\n",
       " 29,\n",
       " 96,\n",
       " 42,\n",
       " 15,\n",
       " 69,\n",
       " 17,\n",
       " 39,\n",
       " 129,\n",
       " 35,\n",
       " 6,\n",
       " 18,\n",
       " 87,\n",
       " 59,\n",
       " 29,\n",
       " 39,\n",
       " 65,\n",
       " 25,\n",
       " 75,\n",
       " 55,\n",
       " 110,\n",
       " 28,\n",
       " 86,\n",
       " 12,\n",
       " 33,\n",
       " 43,\n",
       " 60,\n",
       " 25,\n",
       " 24,\n",
       " 41,\n",
       " 15,\n",
       " 14,\n",
       " 30,\n",
       " 72,\n",
       " 99,\n",
       " 41,\n",
       " 15,\n",
       " 16,\n",
       " 20,\n",
       " 13,\n",
       " 149,\n",
       " 27,\n",
       " 18,\n",
       " 13,\n",
       " 21,\n",
       " 13,\n",
       " 38,\n",
       " 29,\n",
       " 52,\n",
       " 30,\n",
       " 32,\n",
       " 26,\n",
       " 42,\n",
       " 60,\n",
       " 6,\n",
       " 64,\n",
       " 31,\n",
       " 25,\n",
       " 44,\n",
       " 4,\n",
       " 68,\n",
       " 5,\n",
       " 81,\n",
       " 31,\n",
       " 24,\n",
       " 88,\n",
       " 52,\n",
       " 19,\n",
       " 24,\n",
       " 42,\n",
       " 1,\n",
       " 4,\n",
       " 1,\n",
       " 8,\n",
       " 3,\n",
       " 2,\n",
       " 12,\n",
       " 2,\n",
       " 15,\n",
       " 1,\n",
       " 2,\n",
       " 2,\n",
       " 7,\n",
       " 2,\n",
       " 10,\n",
       " 12,\n",
       " 2,\n",
       " 16,\n",
       " 74,\n",
       " 6,\n",
       " 1,\n",
       " 2,\n",
       " 34,\n",
       " 2,\n",
       " 29,\n",
       " 3,\n",
       " 38,\n",
       " 36,\n",
       " 12,\n",
       " 2,\n",
       " 5,\n",
       " 13,\n",
       " 34,\n",
       " 3,\n",
       " 61,\n",
       " 3,\n",
       " 96,\n",
       " 3,\n",
       " 7,\n",
       " 26,\n",
       " 38,\n",
       " 44,\n",
       " 49,\n",
       " 18,\n",
       " 18,\n",
       " 58,\n",
       " 18,\n",
       " 5,\n",
       " 18,\n",
       " 7,\n",
       " 3,\n",
       " 43,\n",
       " 44,\n",
       " 4,\n",
       " 3,\n",
       " 23,\n",
       " 23,\n",
       " 104,\n",
       " 41,\n",
       " 34,\n",
       " 6,\n",
       " 5,\n",
       " 22,\n",
       " 30,\n",
       " 23,\n",
       " 10,\n",
       " 63,\n",
       " 32,\n",
       " 57,\n",
       " 123,\n",
       " 52,\n",
       " 79,\n",
       " 61,\n",
       " 89,\n",
       " 56,\n",
       " 49,\n",
       " 107,\n",
       " 78,\n",
       " 81,\n",
       " 53,\n",
       " 40,\n",
       " 69,\n",
       " 47,\n",
       " 108,\n",
       " 21,\n",
       " 142,\n",
       " 71,\n",
       " 39,\n",
       " 119,\n",
       " 19,\n",
       " 51,\n",
       " 108,\n",
       " 67,\n",
       " 7,\n",
       " 13,\n",
       " 47,\n",
       " 64,\n",
       " 80,\n",
       " 55,\n",
       " 23,\n",
       " 40,\n",
       " 39,\n",
       " 79,\n",
       " 58,\n",
       " 133,\n",
       " 41,\n",
       " 39,\n",
       " 108,\n",
       " 38,\n",
       " 29,\n",
       " 95,\n",
       " 54,\n",
       " 25,\n",
       " 75,\n",
       " 43,\n",
       " 54,\n",
       " 75,\n",
       " 46,\n",
       " 79,\n",
       " 86,\n",
       " 22,\n",
       " 93,\n",
       " 25,\n",
       " 117,\n",
       " 60,\n",
       " 83,\n",
       " 147,\n",
       " 77,\n",
       " 7,\n",
       " 2,\n",
       " 7,\n",
       " 4,\n",
       " 22,\n",
       " 11,\n",
       " 4,\n",
       " 16,\n",
       " 9,\n",
       " 39,\n",
       " 5,\n",
       " 16,\n",
       " 30,\n",
       " 67,\n",
       " 25,\n",
       " 4,\n",
       " 13,\n",
       " 1,\n",
       " 4,\n",
       " 56,\n",
       " 5,\n",
       " 17,\n",
       " 7,\n",
       " 12,\n",
       " 114,\n",
       " 22,\n",
       " 21,\n",
       " 5,\n",
       " 3,\n",
       " 11,\n",
       " 22,\n",
       " 13,\n",
       " 16,\n",
       " 4,\n",
       " 2,\n",
       " 2,\n",
       " 12,\n",
       " 3,\n",
       " 2,\n",
       " 15,\n",
       " 2,\n",
       " 5,\n",
       " 13,\n",
       " 33,\n",
       " 5,\n",
       " 5,\n",
       " 38,\n",
       " 3,\n",
       " 3,\n",
       " 42,\n",
       " 3,\n",
       " 2,\n",
       " 3,\n",
       " 5,\n",
       " 8,\n",
       " 21,\n",
       " 4,\n",
       " 17,\n",
       " 11,\n",
       " 18,\n",
       " 49,\n",
       " 41,\n",
       " 5,\n",
       " 37,\n",
       " 11,\n",
       " 3,\n",
       " 5,\n",
       " 7,\n",
       " 4,\n",
       " 112,\n",
       " 6,\n",
       " 4,\n",
       " 4,\n",
       " 4,\n",
       " 3,\n",
       " 22,\n",
       " 5,\n",
       " 3,\n",
       " 3,\n",
       " 3,\n",
       " 11,\n",
       " 7,\n",
       " 5,\n",
       " 3,\n",
       " 19,\n",
       " 19,\n",
       " 99,\n",
       " 8,\n",
       " 39,\n",
       " 31,\n",
       " 11,\n",
       " 41,\n",
       " 10,\n",
       " 14,\n",
       " 29,\n",
       " 11,\n",
       " 45,\n",
       " 14,\n",
       " 27,\n",
       " 24,\n",
       " 25,\n",
       " 29,\n",
       " 9,\n",
       " 34,\n",
       " 3,\n",
       " 139,\n",
       " 16,\n",
       " 30,\n",
       " 15,\n",
       " 10,\n",
       " 60,\n",
       " 76,\n",
       " 2,\n",
       " 3,\n",
       " 10,\n",
       " 31,\n",
       " 41,\n",
       " 15,\n",
       " 12,\n",
       " 1,\n",
       " 46,\n",
       " 34,\n",
       " 112,\n",
       " 21,\n",
       " 21,\n",
       " 73,\n",
       " 7,\n",
       " 74,\n",
       " 15,\n",
       " 2,\n",
       " 7,\n",
       " 17,\n",
       " 82,\n",
       " 5,\n",
       " 5,\n",
       " 38,\n",
       " 80,\n",
       " 96,\n",
       " 22,\n",
       " 8,\n",
       " 8,\n",
       " 70,\n",
       " 5,\n",
       " 13,\n",
       " 17,\n",
       " 3,\n",
       " 64,\n",
       " 7,\n",
       " 18,\n",
       " 6,\n",
       " 20,\n",
       " 52,\n",
       " 32,\n",
       " 16,\n",
       " 7,\n",
       " 1,\n",
       " 28,\n",
       " 6,\n",
       " 22,\n",
       " 36,\n",
       " 151,\n",
       " 74,\n",
       " 52,\n",
       " 52,\n",
       " 53,\n",
       " 26,\n",
       " 36,\n",
       " 11,\n",
       " 85,\n",
       " 10,\n",
       " 26,\n",
       " 65,\n",
       " 18,\n",
       " 14,\n",
       " 40,\n",
       " 1,\n",
       " 20,\n",
       " 13,\n",
       " 8,\n",
       " 27,\n",
       " 44,\n",
       " 2,\n",
       " 77,\n",
       " 116,\n",
       " 120,\n",
       " 105,\n",
       " 157,\n",
       " 2,\n",
       " 26,\n",
       " 42,\n",
       " 29,\n",
       " 65,\n",
       " 8,\n",
       " 136,\n",
       " 153,\n",
       " 11,\n",
       " 57,\n",
       " 166,\n",
       " 23,\n",
       " 176,\n",
       " 124,\n",
       " 111,\n",
       " 85,\n",
       " 36,\n",
       " 109,\n",
       " 52,\n",
       " 141,\n",
       " 61,\n",
       " 269,\n",
       " 36,\n",
       " 189,\n",
       " 4,\n",
       " 149,\n",
       " 33,\n",
       " 61,\n",
       " 3,\n",
       " 214,\n",
       " 83,\n",
       " 144,\n",
       " 188,\n",
       " 55,\n",
       " 54,\n",
       " 47,\n",
       " 84,\n",
       " 11,\n",
       " 202,\n",
       " 88,\n",
       " 110,\n",
       " 30,\n",
       " 20,\n",
       " 10,\n",
       " 61,\n",
       " 45,\n",
       " 62,\n",
       " 51,\n",
       " 47,\n",
       " 350,\n",
       " 52,\n",
       " 84,\n",
       " 9,\n",
       " 23,\n",
       " 6,\n",
       " 224,\n",
       " 106,\n",
       " 125,\n",
       " 26,\n",
       " 13,\n",
       " 65,\n",
       " 258,\n",
       " 134,\n",
       " 122,\n",
       " 34,\n",
       " 56,\n",
       " 126,\n",
       " 126,\n",
       " 66,\n",
       " 22,\n",
       " 28,\n",
       " 73,\n",
       " 139,\n",
       " 174,\n",
       " 148,\n",
       " 20,\n",
       " 49,\n",
       " 83,\n",
       " 200,\n",
       " 165,\n",
       " 129,\n",
       " 55,\n",
       " 50,\n",
       " 19,\n",
       " 37,\n",
       " 91,\n",
       " 69,\n",
       " 81,\n",
       " 45,\n",
       " 110,\n",
       " 68,\n",
       " 224,\n",
       " 57,\n",
       " 73,\n",
       " 180,\n",
       " 153,\n",
       " 110,\n",
       " 63,\n",
       " 173,\n",
       " 124,\n",
       " 141,\n",
       " 38,\n",
       " 93,\n",
       " 91,\n",
       " 131,\n",
       " 61,\n",
       " 64,\n",
       " 86,\n",
       " 64,\n",
       " 90,\n",
       " 145,\n",
       " 173,\n",
       " 24,\n",
       " 91,\n",
       " 107,\n",
       " 91,\n",
       " 56,\n",
       " 30,\n",
       " 56,\n",
       " 80,\n",
       " 32,\n",
       " 76,\n",
       " 162,\n",
       " 23,\n",
       " 72,\n",
       " 56,\n",
       " 135,\n",
       " 163,\n",
       " 230,\n",
       " 39,\n",
       " 161,\n",
       " 19,\n",
       " 44,\n",
       " 58,\n",
       " 1,\n",
       " 175,\n",
       " 96,\n",
       " 137,\n",
       " 64,\n",
       " 385,\n",
       " 76,\n",
       " 124,\n",
       " 61,\n",
       " 195,\n",
       " 135,\n",
       " 122,\n",
       " 15,\n",
       " 69,\n",
       " 77,\n",
       " 3,\n",
       " 81,\n",
       " 142,\n",
       " 26,\n",
       " 36,\n",
       " 73,\n",
       " 162,\n",
       " 104,\n",
       " 71,\n",
       " 159,\n",
       " 80,\n",
       " 196,\n",
       " 152,\n",
       " 18,\n",
       " 211,\n",
       " 114,\n",
       " 20,\n",
       " 111,\n",
       " 102,\n",
       " 22,\n",
       " 119,\n",
       " 105,\n",
       " 105,\n",
       " 85,\n",
       " ...]"
      ]
     },
     "execution_count": 18,
     "metadata": {},
     "output_type": "execute_result"
    }
   ],
   "source": [
    "degree"
   ]
  },
  {
   "cell_type": "code",
   "execution_count": 19,
   "metadata": {},
   "outputs": [
    {
     "name": "stdout",
     "output_type": "stream",
     "text": [
      "Calculating best minimal value for power law fit\n",
      "xmin progress: 00%\r",
      "xmin progress: 00%\r",
      "xmin progress: 00%\r",
      "xmin progress: 01%\r",
      "xmin progress: 01%\r",
      "xmin progress: 02%\r",
      "xmin progress: 02%\r",
      "xmin progress: 03%\r",
      "xmin progress: 03%\r",
      "xmin progress: 03%\r",
      "xmin progress: 04%\r",
      "xmin progress: 04%\r",
      "xmin progress: 05%\r",
      "xmin progress: 05%\r",
      "xmin progress: 06%\r",
      "xmin progress: 06%\r",
      "xmin progress: 06%\r",
      "xmin progress: 07%\r",
      "xmin progress: 07%\r",
      "xmin progress: 08%\r",
      "xmin progress: 08%\r",
      "xmin progress: 09%\r",
      "xmin progress: 09%\r",
      "xmin progress: 09%\r",
      "xmin progress: 10%\r",
      "xmin progress: 10%\r",
      "xmin progress: 11%\r",
      "xmin progress: 11%\r",
      "xmin progress: 12%\r",
      "xmin progress: 12%\r",
      "xmin progress: 12%\r",
      "xmin progress: 13%\r",
      "xmin progress: 13%\r",
      "xmin progress: 14%\r",
      "xmin progress: 14%\r",
      "xmin progress: 15%\r",
      "xmin progress: 15%\r",
      "xmin progress: 15%\r",
      "xmin progress: 16%\r",
      "xmin progress: 16%\r",
      "xmin progress: 17%\r",
      "xmin progress: 17%\r",
      "xmin progress: 18%\r",
      "xmin progress: 18%\r",
      "xmin progress: 18%\r",
      "xmin progress: 19%\r",
      "xmin progress: 19%\r",
      "xmin progress: 20%\r",
      "xmin progress: 20%\r",
      "xmin progress: 21%\r",
      "xmin progress: 21%\r",
      "xmin progress: 21%\r",
      "xmin progress: 22%\r",
      "xmin progress: 22%\r",
      "xmin progress: 23%\r",
      "xmin progress: 23%\r",
      "xmin progress: 24%\r",
      "xmin progress: 24%\r",
      "xmin progress: 24%\r",
      "xmin progress: 25%\r",
      "xmin progress: 25%\r",
      "xmin progress: 26%\r",
      "xmin progress: 26%\r",
      "xmin progress: 27%\r",
      "xmin progress: 27%\r",
      "xmin progress: 27%\r",
      "xmin progress: 28%\r",
      "xmin progress: 28%\r",
      "xmin progress: 29%\r",
      "xmin progress: 29%\r",
      "xmin progress: 30%\r",
      "xmin progress: 30%\r",
      "xmin progress: 30%\r",
      "xmin progress: 31%\r",
      "xmin progress: 31%\r",
      "xmin progress: 32%\r",
      "xmin progress: 32%\r",
      "xmin progress: 33%\r",
      "xmin progress: 33%\r",
      "xmin progress: 33%\r",
      "xmin progress: 34%\r",
      "xmin progress: 34%\r",
      "xmin progress: 35%\r",
      "xmin progress: 35%\r",
      "xmin progress: 36%\r",
      "xmin progress: 36%\r",
      "xmin progress: 36%\r",
      "xmin progress: 37%\r",
      "xmin progress: 37%\r",
      "xmin progress: 38%\r",
      "xmin progress: 38%\r",
      "xmin progress: 39%\r",
      "xmin progress: 39%\r",
      "xmin progress: 39%\r",
      "xmin progress: 40%\r",
      "xmin progress: 40%\r",
      "xmin progress: 41%\r",
      "xmin progress: 41%\r",
      "xmin progress: 42%\r",
      "xmin progress: 42%\r",
      "xmin progress: 42%\r",
      "xmin progress: 43%\r",
      "xmin progress: 43%\r",
      "xmin progress: 44%\r",
      "xmin progress: 44%\r",
      "xmin progress: 45%\r",
      "xmin progress: 45%\r",
      "xmin progress: 45%\r",
      "xmin progress: 46%\r",
      "xmin progress: 46%\r",
      "xmin progress: 47%\r",
      "xmin progress: 47%\r",
      "xmin progress: 48%\r",
      "xmin progress: 48%\r",
      "xmin progress: 48%\r",
      "xmin progress: 49%\r",
      "xmin progress: 49%\r",
      "xmin progress: 50%\r",
      "xmin progress: 50%\r",
      "xmin progress: 51%\r",
      "xmin progress: 51%\r",
      "xmin progress: 51%\r",
      "xmin progress: 52%\r",
      "xmin progress: 52%\r",
      "xmin progress: 53%\r",
      "xmin progress: 53%\r",
      "xmin progress: 54%\r",
      "xmin progress: 54%\r",
      "xmin progress: 54%\r",
      "xmin progress: 55%\r",
      "xmin progress: 55%\r",
      "xmin progress: 56%\r",
      "xmin progress: 56%\r",
      "xmin progress: 57%\r",
      "xmin progress: 57%\r",
      "xmin progress: 57%\r",
      "xmin progress: 58%\r",
      "xmin progress: 58%\r",
      "xmin progress: 59%\r",
      "xmin progress: 59%\r",
      "xmin progress: 60%\r",
      "xmin progress: 60%\r",
      "xmin progress: 60%\r",
      "xmin progress: 61%\r",
      "xmin progress: 61%\r",
      "xmin progress: 62%\r",
      "xmin progress: 62%\r",
      "xmin progress: 63%\r",
      "xmin progress: 63%\r",
      "xmin progress: 63%\r",
      "xmin progress: 64%\r",
      "xmin progress: 64%\r",
      "xmin progress: 65%\r",
      "xmin progress: 65%\r",
      "xmin progress: 66%\r",
      "xmin progress: 66%\r",
      "xmin progress: 66%\r",
      "xmin progress: 67%\r",
      "xmin progress: 67%\r",
      "xmin progress: 68%\r",
      "xmin progress: 68%\r",
      "xmin progress: 69%\r",
      "xmin progress: 69%\r",
      "xmin progress: 69%\r",
      "xmin progress: 70%\r",
      "xmin progress: 70%\r",
      "xmin progress: 71%\r",
      "xmin progress: 71%\r",
      "xmin progress: 72%\r",
      "xmin progress: 72%\r",
      "xmin progress: 72%\r",
      "xmin progress: 73%\r",
      "xmin progress: 73%\r",
      "xmin progress: 74%\r",
      "xmin progress: 74%\r",
      "xmin progress: 75%\r",
      "xmin progress: 75%\r",
      "xmin progress: 75%\r",
      "xmin progress: 76%\r",
      "xmin progress: 76%\r",
      "xmin progress: 77%\r",
      "xmin progress: 77%\r",
      "xmin progress: 78%\r",
      "xmin progress: 78%\r",
      "xmin progress: 78%\r",
      "xmin progress: 79%\r",
      "xmin progress: 79%\r",
      "xmin progress: 80%\r",
      "xmin progress: 80%\r",
      "xmin progress: 81%\r",
      "xmin progress: 81%\r",
      "xmin progress: 81%\r",
      "xmin progress: 82%\r",
      "xmin progress: 82%\r",
      "xmin progress: 83%\r",
      "xmin progress: 83%\r",
      "xmin progress: 84%\r",
      "xmin progress: 84%\r",
      "xmin progress: 84%\r",
      "xmin progress: 85%\r",
      "xmin progress: 85%\r",
      "xmin progress: 86%\r",
      "xmin progress: 86%\r",
      "xmin progress: 87%\r",
      "xmin progress: 87%\r",
      "xmin progress: 87%\r",
      "xmin progress: 88%\r",
      "xmin progress: 88%\r",
      "xmin progress: 89%\r",
      "xmin progress: 89%\r",
      "xmin progress: 90%\r",
      "xmin progress: 90%\r",
      "xmin progress: 90%\r",
      "xmin progress: 91%\r",
      "xmin progress: 91%\r",
      "xmin progress: 92%\r",
      "xmin progress: 92%\r",
      "xmin progress: 93%\r",
      "xmin progress: 93%\r",
      "xmin progress: 93%\r",
      "xmin progress: 94%\r",
      "xmin progress: 94%\r",
      "xmin progress: 95%\r",
      "xmin progress: 95%\r",
      "xmin progress: 96%\r",
      "xmin progress: 96%\r",
      "xmin progress: 96%\r",
      "xmin progress: 97%\r",
      "xmin progress: 97%\r",
      "xmin progress: 98%\r",
      "xmin progress: 98%\r",
      "xmin progress: 99%\r",
      "xmin progress: 99%\r"
     ]
    }
   ],
   "source": [
    "fit_function = pwl.Fit(degree)"
   ]
  },
  {
   "cell_type": "code",
   "execution_count": 20,
   "metadata": {},
   "outputs": [
    {
     "data": {
      "text/plain": [
       "<powerlaw.Fit at 0x13f3a9c70>"
      ]
     },
     "execution_count": 20,
     "metadata": {},
     "output_type": "execute_result"
    }
   ],
   "source": [
    "fit_function"
   ]
  },
  {
   "cell_type": "code",
   "execution_count": 21,
   "metadata": {},
   "outputs": [
    {
     "data": {
      "text/plain": [
       "<powerlaw.Power_Law at 0x13f273ac0>"
      ]
     },
     "execution_count": 21,
     "metadata": {},
     "output_type": "execute_result"
    }
   ],
   "source": [
    "fit_function.power_law"
   ]
  },
  {
   "cell_type": "code",
   "execution_count": 22,
   "metadata": {},
   "outputs": [
    {
     "data": {
      "text/plain": [
       "4.543577046506554"
      ]
     },
     "execution_count": 22,
     "metadata": {},
     "output_type": "execute_result"
    }
   ],
   "source": [
    "fit_function.power_law.alpha"
   ]
  },
  {
   "cell_type": "code",
   "execution_count": 23,
   "metadata": {},
   "outputs": [
    {
     "data": {
      "text/plain": [
       "0.1993417830511849"
      ]
     },
     "execution_count": 23,
     "metadata": {},
     "output_type": "execute_result"
    }
   ],
   "source": [
    "fit_function.power_law.sigma"
   ]
  },
  {
   "cell_type": "code",
   "execution_count": 24,
   "metadata": {},
   "outputs": [
    {
     "data": {
      "text/plain": [
       "123.0"
      ]
     },
     "execution_count": 24,
     "metadata": {},
     "output_type": "execute_result"
    }
   ],
   "source": [
    "fit_function.power_law.xmin"
   ]
  },
  {
   "cell_type": "markdown",
   "metadata": {},
   "source": [
    "We fix the minimum value for the scaling $x_{min}=10$"
   ]
  },
  {
   "cell_type": "code",
   "execution_count": 25,
   "metadata": {},
   "outputs": [],
   "source": [
    "fit_function_fixmin = pwl.Fit(degree, xmin=10)"
   ]
  },
  {
   "cell_type": "code",
   "execution_count": 26,
   "metadata": {},
   "outputs": [
    {
     "data": {
      "text/plain": [
       "10.0"
      ]
     },
     "execution_count": 26,
     "metadata": {},
     "output_type": "execute_result"
    }
   ],
   "source": [
    "fit_function_fixmin.xmin"
   ]
  },
  {
   "cell_type": "code",
   "execution_count": 27,
   "metadata": {},
   "outputs": [
    {
     "data": {
      "text/plain": [
       "1.9475409247436344"
      ]
     },
     "execution_count": 27,
     "metadata": {},
     "output_type": "execute_result"
    }
   ],
   "source": [
    "fit_function_fixmin.power_law.alpha"
   ]
  },
  {
   "cell_type": "code",
   "execution_count": 28,
   "metadata": {},
   "outputs": [
    {
     "data": {
      "text/plain": [
       "0.009808681018591505"
      ]
     },
     "execution_count": 28,
     "metadata": {},
     "output_type": "execute_result"
    }
   ],
   "source": [
    "fit_function_fixmin.power_law.sigma"
   ]
  },
  {
   "cell_type": "markdown",
   "metadata": {},
   "source": [
    "We can look at the values of the [Kolgomorov-Sminorv distance](https://en.wikipedia.org/wiki/Kolmogorov%E2%80%93Smirnov_test) of the two fits to compare them. Smaller distances correspond to better fits."
   ]
  },
  {
   "cell_type": "code",
   "execution_count": 29,
   "metadata": {},
   "outputs": [
    {
     "data": {
      "text/plain": [
       "0.028347190083988588"
      ]
     },
     "execution_count": 29,
     "metadata": {},
     "output_type": "execute_result"
    }
   ],
   "source": [
    "fit_function.power_law.D"
   ]
  },
  {
   "cell_type": "code",
   "execution_count": 30,
   "metadata": {},
   "outputs": [
    {
     "data": {
      "text/plain": [
       "0.12754011660628156"
      ]
     },
     "execution_count": 30,
     "metadata": {},
     "output_type": "execute_result"
    }
   ],
   "source": [
    "fit_function_fixmin.power_law.D"
   ]
  },
  {
   "cell_type": "markdown",
   "metadata": {},
   "source": [
    "## Visualize distributions and fit"
   ]
  },
  {
   "cell_type": "code",
   "execution_count": 31,
   "metadata": {},
   "outputs": [
    {
     "data": {
      "text/plain": [
       "Text(0, 0.5, '$P(k)$')"
      ]
     },
     "execution_count": 31,
     "metadata": {},
     "output_type": "execute_result"
    },
    {
     "data": {
      "image/png": "[encoded data removed]",
      "text/plain": [
       "<Figure size 720x504 with 1 Axes>"
      ]
     },
     "metadata": {
      "needs_background": "light"
     },
     "output_type": "display_data"
    }
   ],
   "source": [
    "fig=plt.figure(figsize=(10,7))\n",
    "\n",
    "plt.plot(x,y,'ro')\n",
    "\n",
    "fig=pwl.plot_pdf([x for x in degree if x>123], color='r', linewidth=2, label='data')\n",
    "\n",
    "fit_function.power_law.plot_pdf(ax=fig, color='b', linestyle='-', linewidth=1, label='fit')\n",
    "\n",
    "fig.legend(fontsize=22)\n",
    "\n",
    "plt.xticks(fontsize=20)\n",
    "plt.yticks(fontsize=22)\n",
    "plt.xlabel('degree $k$', fontsize=22)\n",
    "plt.ylabel('$P(k)$', fontsize=22)"
   ]
  },
  {
   "cell_type": "code",
   "execution_count": 32,
   "metadata": {},
   "outputs": [
    {
     "data": {
      "text/plain": [
       "Text(0, 0.5, '$P(k)$')"
      ]
     },
     "execution_count": 32,
     "metadata": {},
     "output_type": "execute_result"
    },
    {
     "data": {
      "image/png": "[encoded data removed]",
      "text/plain": [
       "<Figure size 720x504 with 1 Axes>"
      ]
     },
     "metadata": {
      "needs_background": "light"
     },
     "output_type": "display_data"
    }
   ],
   "source": [
    "fig=plt.figure(figsize=(10,7))\n",
    "\n",
    "plt.plot(x,y,'ro')\n",
    "\n",
    "fig=pwl.plot_pdf([x for x in degree if x>10], color='r', linewidth=2, label='Data')\n",
    "\n",
    "fit_function_fixmin.power_law.plot_pdf(ax=fig, color='b', linestyle='-', linewidth=1, label='Fit')\n",
    "\n",
    "fig.legend(fontsize=22)\n",
    "plt.xticks(fontsize=20)\n",
    "plt.yticks(fontsize=22)\n",
    "plt.xlabel('Degree', fontsize=22)\n",
    "plt.ylabel('$P(k)$', fontsize=22)"
   ]
  },
  {
   "cell_type": "markdown",
   "metadata": {},
   "source": [
    "## Comparing Candidate Distributions"
   ]
  },
  {
   "cell_type": "markdown",
   "metadata": {},
   "source": [
    "We can compare the goodness of fit of several distributions. Distributions other than a power-law can provide a better fit to the data."
   ]
  },
  {
   "cell_type": "code",
   "execution_count": 33,
   "metadata": {},
   "outputs": [
    {
     "data": {
      "text/plain": [
       "{'power_law': powerlaw.Power_Law,\n",
       " 'lognormal': powerlaw.Lognormal,\n",
       " 'exponential': powerlaw.Exponential,\n",
       " 'truncated_power_law': powerlaw.Truncated_Power_Law,\n",
       " 'stretched_exponential': powerlaw.Stretched_Exponential,\n",
       " 'lognormal_positive': powerlaw.Lognormal_Positive}"
      ]
     },
     "execution_count": 33,
     "metadata": {},
     "output_type": "execute_result"
    }
   ],
   "source": [
    "fit_function.supported_distributions"
   ]
  },
  {
   "cell_type": "code",
   "execution_count": 34,
   "metadata": {},
   "outputs": [],
   "source": [
    "R,p = fit_function.distribution_compare('power_law', 'exponential', normalized_ratio=True)"
   ]
  },
  {
   "cell_type": "code",
   "execution_count": 35,
   "metadata": {},
   "outputs": [
    {
     "data": {
      "text/plain": [
       "(2.4450468427863137, 0.014483332945893693)"
      ]
     },
     "execution_count": 35,
     "metadata": {},
     "output_type": "execute_result"
    }
   ],
   "source": [
    "R,p"
   ]
  },
  {
   "cell_type": "markdown",
   "metadata": {},
   "source": [
    "R is the loglikelihood ratio between the two candidate distributions. This number will be positive if the data is more likely in the first distribution, and negative if the data is more likely in the second distribution. The significance value for that direction is p. "
   ]
  },
  {
   "cell_type": "code",
   "execution_count": 36,
   "metadata": {},
   "outputs": [],
   "source": [
    "R2,p2 = fit_function.distribution_compare('power_law', 'lognormal_positive', normalized_ratio=True)"
   ]
  },
  {
   "cell_type": "code",
   "execution_count": 37,
   "metadata": {},
   "outputs": [
    {
     "data": {
      "text/plain": [
       "(0.26521294560765446, 0.7908454227344833)"
      ]
     },
     "execution_count": 37,
     "metadata": {},
     "output_type": "execute_result"
    }
   ],
   "source": [
    "R2,p2"
   ]
  },
  {
   "cell_type": "code",
   "execution_count": 38,
   "metadata": {},
   "outputs": [
    {
     "name": "stderr",
     "output_type": "stream",
     "text": [
      "Assuming nested distributions\n"
     ]
    }
   ],
   "source": [
    "R3,p3 = fit_function.distribution_compare('power_law', 'truncated_power_law', normalized_ratio=True)"
   ]
  },
  {
   "cell_type": "code",
   "execution_count": 39,
   "metadata": {},
   "outputs": [
    {
     "data": {
      "text/plain": [
       "(-0.46891429705144816, 0.5781526627750692)"
      ]
     },
     "execution_count": 39,
     "metadata": {},
     "output_type": "execute_result"
    }
   ],
   "source": [
    "R3,p3"
   ]
  },
  {
   "cell_type": "code",
   "execution_count": 40,
   "metadata": {},
   "outputs": [],
   "source": [
    "R4,p4 = fit_function.distribution_compare('power_law', 'stretched_exponential', normalized_ratio=True)"
   ]
  },
  {
   "cell_type": "code",
   "execution_count": 41,
   "metadata": {},
   "outputs": [
    {
     "data": {
      "text/plain": [
       "(0.4423707978689595, 0.6582209069980287)"
      ]
     },
     "execution_count": 41,
     "metadata": {},
     "output_type": "execute_result"
    }
   ],
   "source": [
    "R4,p4"
   ]
  },
  {
   "cell_type": "markdown",
   "metadata": {},
   "source": [
    "Analyze the power law with $x_{min}=10$.\n",
    "\n",
    "Here, the truncated power law is the best fit that explains the data. Even an exponential is a better fit to the data."
   ]
  },
  {
   "cell_type": "code",
   "execution_count": 42,
   "metadata": {},
   "outputs": [],
   "source": [
    "R,p = fit_function_fixmin.distribution_compare('power_law', 'exponential', normalized_ratio=True)"
   ]
  },
  {
   "cell_type": "code",
   "execution_count": 43,
   "metadata": {},
   "outputs": [
    {
     "data": {
      "text/plain": [
       "(-9.83422144673739, 8.018539959420145e-23)"
      ]
     },
     "execution_count": 43,
     "metadata": {},
     "output_type": "execute_result"
    }
   ],
   "source": [
    "R,p"
   ]
  },
  {
   "cell_type": "code",
   "execution_count": 44,
   "metadata": {},
   "outputs": [
    {
     "data": {
      "text/plain": [
       "Text(0, 0.5, '$P(k)$')"
      ]
     },
     "execution_count": 44,
     "metadata": {},
     "output_type": "execute_result"
    },
    {
     "data": {
      "image/png": "[encoded data removed]",
      "text/plain": [
       "<Figure size 720x504 with 1 Axes>"
      ]
     },
     "metadata": {
      "needs_background": "light"
     },
     "output_type": "display_data"
    }
   ],
   "source": [
    "fig=plt.figure(figsize=(10,7))\n",
    "\n",
    "fig=pwl.plot_pdf([x for x in degree if x>10], color='r', linewidth=2, label='Data')\n",
    "\n",
    "fit_function_fixmin.exponential.plot_pdf(ax=fig, color='black', linestyle='-', linewidth=2, label='Fit')\n",
    "\n",
    "fig.legend(fontsize=22)\n",
    "\n",
    "plt.xticks(fontsize=20)\n",
    "plt.yticks(fontsize=22)\n",
    "plt.xlabel('degree $k$', fontsize=22)\n",
    "plt.ylabel('$P(k)$', fontsize=22)"
   ]
  },
  {
   "cell_type": "code",
   "execution_count": 45,
   "metadata": {},
   "outputs": [
    {
     "name": "stderr",
     "output_type": "stream",
     "text": [
      "Assuming nested distributions\n"
     ]
    },
    {
     "data": {
      "text/plain": [
       "(-28.906628686152743, 0.0)"
      ]
     },
     "execution_count": 45,
     "metadata": {},
     "output_type": "execute_result"
    }
   ],
   "source": [
    "R3, p3 = fit_function_fixmin.distribution_compare('power_law', 'truncated_power_law', normalized_ratio=True)\n",
    "R3, p3"
   ]
  },
  {
   "cell_type": "code",
   "execution_count": 46,
   "metadata": {},
   "outputs": [
    {
     "data": {
      "text/plain": [
       "Text(0, 0.5, '$P(k)$')"
      ]
     },
     "execution_count": 46,
     "metadata": {},
     "output_type": "execute_result"
    },
    {
     "data": {
      "image/png": "[encoded data removed]",
      "text/plain": [
       "<Figure size 720x504 with 1 Axes>"
      ]
     },
     "metadata": {
      "needs_background": "light"
     },
     "output_type": "display_data"
    }
   ],
   "source": [
    "fig=plt.figure(figsize=(10,7))\n",
    "\n",
    "fig=pwl.plot_pdf([x for x in degree if x>10], color='r', linewidth=2, label='Data')\n",
    "\n",
    "fit_function_fixmin.truncated_power_law.plot_pdf(ax=fig, color='black', linestyle='-', linewidth=2, label='Fit')\n",
    "\n",
    "fig.legend(fontsize=22)\n",
    "plt.xticks(fontsize=20)\n",
    "plt.yticks(fontsize=22)\n",
    "plt.xlabel('Degree', fontsize=22)\n",
    "plt.ylabel('$P(k)$', fontsize=22)"
   ]
  },
  {
   "cell_type": "code",
   "execution_count": null,
   "metadata": {
    "jupyter": {
     "outputs_hidden": true
    }
   },
   "outputs": [],
   "source": []
  }
 ],
 "metadata": {
  "kernelspec": {
   "display_name": "Python 3 (ipykernel)",
   "language": "python",
   "name": "python3"
  },
  "language_info": {
   "codemirror_mode": {
    "name": "ipython",
    "version": 3
   },
   "file_extension": ".py",
   "mimetype": "text/x-python",
   "name": "python",
   "nbconvert_exporter": "python",
   "pygments_lexer": "ipython3",
   "version": "3.9.16"
  },
  "toc": {
   "base_numbering": 1,
   "nav_menu": {},
   "number_sections": true,
   "sideBar": true,
   "skip_h1_title": false,
   "title_cell": "Table of Contents",
   "title_sidebar": "Contents",
   "toc_cell": false,
   "toc_position": {},
   "toc_section_display": true,
   "toc_window_display": false
  }
 },
 "nbformat": 4,
 "nbformat_minor": 4
}
