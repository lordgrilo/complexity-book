{
 "cells": [
  {
   "cell_type": "markdown",
   "id": "f4aae9f9",
   "metadata": {},
   "source": [
    "# Higher-order Naming Game "
   ]
  },
  {
   "cell_type": "code",
   "execution_count": 1,
   "id": "66e48390",
   "metadata": {},
   "outputs": [],
   "source": [
    "import numpy as np\n",
    "from scipy import random\n",
    "import networkx as nx\n",
    "import pandas as pd\n",
    "import random\n",
    "import collections\n",
    "import matplotlib.pyplot as plt\n",
    "%matplotlib inline"
   ]
  },
  {
   "cell_type": "markdown",
   "id": "0469ac74",
   "metadata": {},
   "source": [
    "## Model construction "
   ]
  },
  {
   "cell_type": "code",
   "execution_count": 2,
   "id": "c960cccd",
   "metadata": {},
   "outputs": [],
   "source": [
    "#Model constructor\n",
    "class HigherOrderNamingGame():\n",
    "    \n",
    "    def __init__(self, simplices, rule):\n",
    "        \n",
    "        #Structure\n",
    "        self.simplices = simplices\n",
    "        self.nodes = list({node for simplex in simplices for node in simplex}) \n",
    "        self.N = len(self.nodes)\n",
    "        \n",
    "        #Time\n",
    "        self.t = 0\n",
    "        \n",
    "        #Rule\n",
    "        self.rule = rule\n",
    "\n",
    "    def SetInitialConditions(self, beta, p, n_A, verbose=False):\n",
    "        \n",
    "        #Game parameters\n",
    "        self.beta = beta\n",
    "        self.p = p\n",
    "    \n",
    "        #Opinions of the nodes (vocabularies)\n",
    "        self.opinions = {}\n",
    "        \n",
    "        #Generating committed agents\n",
    "        N_p = int(self.N*self.p) #number of committed agents\n",
    "        #Randomly picking N_p committed agents\n",
    "        committed = random.sample(self.nodes, N_p)\n",
    "        #Setting up a committed dictionary\n",
    "        #self.is_committed = {n:False for n in self.nodes}\n",
    "        for n in self.nodes:\n",
    "            if n in committed:\n",
    "                #self.is_committed[n]=True\n",
    "                #Assigning opinion \"A\" to committed agents\n",
    "                self.opinions[n]=frozenset([\"A\"])\n",
    "        \n",
    "        #Calculating the number of agents holding n_A (not committed) from the density in input\n",
    "        N_A = int(self.N*n_A)\n",
    "        N_B = self.N-N_A-N_p\n",
    "        #Creating a list of opinions to assign\n",
    "        opinions_to_assign = ['A']*N_A + ['B']*N_B\n",
    "        #Shuffling them\n",
    "        random.shuffle(opinions_to_assign)\n",
    "        #Agents left to be matched with opinions\n",
    "        noncommitted = set(self.nodes) - set(committed)\n",
    "        for n, o in zip(noncommitted, opinions_to_assign):\n",
    "            self.opinions[n]=set(o)\n",
    "            \n",
    "        if verbose: print('Setup Done.', self.N, 'nodes,', \"N_A:\", N_A, \"N_B:\", N_B, \"N_p:\", N_p) \n",
    "    \n",
    "    def AgreeOnSimplex(self, simplex, said_word):\n",
    "        \n",
    "        #Updating the simplex on the agreed word \n",
    "        for n in simplex:\n",
    "            try: #There are also committed minorities which have frozensets!\n",
    "                self.opinions[n].clear()\n",
    "                self.opinions[n].add(said_word)\n",
    "            except AttributeError: #It was committed\n",
    "                pass\n",
    "\n",
    "    def ListenersLearnWord(self, listeners, said_word):\n",
    "        \n",
    "        #Looping through the listeners\n",
    "        for listener in listeners:\n",
    "            try: #Trying to learn...\n",
    "                self.opinions[listener].add(said_word)\n",
    "            except AttributeError: #It was committed\n",
    "                pass\n",
    "                \n",
    "    def play_on_simplex(self, simplex):\n",
    "        \n",
    "        #Selecting speaker and listeners at random\n",
    "        random.shuffle(simplex)\n",
    "        speaker = simplex[0]\n",
    "        listeners = simplex[1:]\n",
    "        \n",
    "        #Selecting a random word to be said\n",
    "        said_word = random.choice(list(self.opinions[speaker]))\n",
    "        words_of_listeners = [self.opinions[listener] for listener in listeners]\n",
    "        \n",
    "        #Using the rule to get the words of listeners to be used for the agreement\n",
    "        if self.rule=='union': \n",
    "            words_of_listeners_by_rule = set.union(*[set(w) for w in words_of_listeners])\n",
    "        elif self.rule=='intersection':    \n",
    "            words_of_listeners_by_rule = set.intersection(*[set(w) for w in words_of_listeners])\n",
    "        \n",
    "        #Trying to agree based on the rule and the communication efficiency beta\n",
    "        if (said_word in words_of_listeners_by_rule) and (random.random() <= self.beta):\n",
    "            self.AgreeOnSimplex(simplex, said_word)\n",
    "        else: #No agreement, but the said word is learned by the listeners\n",
    "            self.ListenersLearnWord(listeners, said_word)\n",
    "            \n",
    "    def get_densities(self):\n",
    "        single_opinion_counter = collections.Counter([list(opinions)[0] for opinions in self.opinions.values() if len(opinions)==1])\n",
    "        n_Ap = single_opinion_counter[\"A\"]/self.N\n",
    "        n_B = single_opinion_counter[\"B\"]/self.N\n",
    "        n_AB = 1-n_Ap-n_B\n",
    "        return n_Ap, n_B, n_AB\n",
    "\n",
    "    def run(self, path, t_max=100, check_every=10, print_every=1):\n",
    "        \n",
    "        self.t_max = t_max\n",
    "        \n",
    "        #Opening file to save densities results\n",
    "        densities_path = path + 'HONG_densities_N%i_beta%.4f_p%.2f.csv'%(self.N, self.beta, self.p)\n",
    "        f = open(densities_path,'w')\n",
    "        f.write('time,n_A+p,n_B,n_AB\\n')\n",
    "        \n",
    "        while self.t <= self.t_max:\n",
    "            self.t += 1\n",
    "            if self.t%print_every==0: print('t=%i'%self.t)\n",
    "                \n",
    "            ######### THIS IS FOR PLAYING ALWAYS ON ALL SIMPLICES AT EACH TIME #########\n",
    "            #Reshuffling the sequence of simplices\n",
    "            #random.shuffle(self.simplices)\n",
    "            \n",
    "            #Looping over each simplex and playing\n",
    "            #for simplex in self.simplices:\n",
    "                #self.play_on_simplex(simplex)\n",
    "            ############################################################################\n",
    "            \n",
    "            #Playing on a random simplex \n",
    "            simplex = random.choice(self.simplices)\n",
    "            self.play_on_simplex(simplex)\n",
    "                \n",
    "            #Storing the values every check_every time steps:\n",
    "            if self.t%check_every==0:\n",
    "                n_Ap, n_B, n_AB = self.get_densities()\n",
    "                line = \"%i,%.3f,%.3f,%.3f\\n\"%(self.t, n_Ap, n_B, n_AB)\n",
    "                f.write(line)\n",
    "                \n",
    "                #Also checking if we reached the absorbing state:\n",
    "                if n_Ap==1 or n_B==1:\n",
    "                    f.close()   \n",
    "                    print('DONE! Reached the absorbing state.')\n",
    "                    return None\n",
    "                \n",
    "        f.close()    \n",
    "        print('DONE! Run out of time...')"
   ]
  },
  {
   "cell_type": "markdown",
   "id": "4da1a7d4",
   "metadata": {},
   "source": [
    "## Testing it on a small toy hypergraph\n"
   ]
  },
  {
   "cell_type": "code",
   "execution_count": 5,
   "id": "8824be71",
   "metadata": {},
   "outputs": [
    {
     "name": "stdout",
     "output_type": "stream",
     "text": [
      "Setup Done. 6 nodes, N_A: 0 N_B: 6 N_p: 0\n",
      "t=1\n",
      "DONE! Reached the absorbing state.\n"
     ]
    }
   ],
   "source": [
    "simplices = [[1,2,3],[2,3,5],[6,1,7]]\n",
    "rule = 'intersection'\n",
    "\n",
    "beta = 0.3\n",
    "p = 0.01\n",
    "n_A = 0\n",
    "\n",
    "output_path = 'results/'\n",
    "t_max = 1000\n",
    "check_every = 1\n",
    "\n",
    "HONG = HigherOrderNamingGame(simplices, rule)\n",
    "HONG.SetInitialConditions(beta=beta, p=p, n_A=n_A, verbose=True)\n",
    "HONG.run(output_path, t_max, check_every)"
   ]
  },
  {
   "cell_type": "code",
   "execution_count": 6,
   "id": "7aa82226",
   "metadata": {},
   "outputs": [
    {
     "data": {
      "text/plain": [
       "<AxesSubplot:xlabel='time'>"
      ]
     },
     "execution_count": 6,
     "metadata": {},
     "output_type": "execute_result"
    },
    {
     "data": {
      "image/png": "[encoded data removed]",
      "text/plain": [
       "<Figure size 432x288 with 1 Axes>"
      ]
     },
     "metadata": {
      "needs_background": "light"
     },
     "output_type": "display_data"
    }
   ],
   "source": [
    "df = pd.read_csv('results/HONG_densities_N6_beta0.3000_p0.40.csv')\n",
    "df.plot(x='time')\n"
   ]
  },
  {
   "cell_type": "markdown",
   "id": "a2e862e2",
   "metadata": {},
   "source": [
    "## Running on an homogeneous mixing 2-hypergraph"
   ]
  },
  {
   "cell_type": "code",
   "execution_count": 7,
   "id": "9a8d9c55",
   "metadata": {},
   "outputs": [],
   "source": [
    "from itertools import combinations\n",
    "\n",
    "def HomMix2HG(N, k=2):\n",
    "    nodes = range(N)\n",
    "    simplices = list(combinations(nodes, k+1))\n",
    "    #These are tuples, so I'll convert them to lists\n",
    "    simplices = [list(simplex) for simplex in simplices]\n",
    "    return simplices"
   ]
  },
  {
   "cell_type": "code",
   "execution_count": 8,
   "id": "644bc2cd",
   "metadata": {},
   "outputs": [],
   "source": [
    "N = 500\n",
    "simplices = HomMix2HG(N)"
   ]
  },
  {
   "cell_type": "code",
   "execution_count": 12,
   "id": "d5c37cef",
   "metadata": {},
   "outputs": [
    {
     "name": "stdout",
     "output_type": "stream",
     "text": [
      "Setup Done. 500 nodes, N_A: 0 N_B: 460 N_p: 40\n",
      "t=100\n",
      "t=200\n",
      "t=300\n",
      "t=400\n",
      "t=500\n",
      "t=600\n",
      "t=700\n",
      "t=800\n",
      "t=900\n",
      "t=1000\n",
      "t=1100\n",
      "t=1200\n",
      "t=1300\n",
      "t=1400\n",
      "t=1500\n",
      "t=1600\n",
      "t=1700\n",
      "t=1800\n",
      "t=1900\n",
      "t=2000\n",
      "t=2100\n",
      "t=2200\n",
      "t=2300\n",
      "t=2400\n",
      "t=2500\n",
      "t=2600\n",
      "t=2700\n",
      "t=2800\n",
      "t=2900\n",
      "t=3000\n",
      "t=3100\n",
      "t=3200\n",
      "t=3300\n",
      "t=3400\n",
      "t=3500\n",
      "t=3600\n",
      "t=3700\n",
      "t=3800\n",
      "t=3900\n",
      "t=4000\n",
      "t=4100\n",
      "t=4200\n",
      "t=4300\n",
      "t=4400\n",
      "t=4500\n",
      "t=4600\n",
      "t=4700\n",
      "t=4800\n",
      "t=4900\n",
      "t=5000\n",
      "t=5100\n",
      "t=5200\n",
      "t=5300\n",
      "t=5400\n",
      "t=5500\n",
      "t=5600\n",
      "t=5700\n",
      "t=5800\n",
      "t=5900\n",
      "t=6000\n",
      "t=6100\n",
      "t=6200\n",
      "t=6300\n",
      "t=6400\n",
      "t=6500\n",
      "t=6600\n",
      "t=6700\n",
      "t=6800\n",
      "t=6900\n",
      "t=7000\n",
      "t=7100\n",
      "t=7200\n",
      "t=7300\n",
      "t=7400\n",
      "t=7500\n",
      "t=7600\n",
      "t=7700\n",
      "t=7800\n",
      "t=7900\n",
      "t=8000\n",
      "t=8100\n",
      "t=8200\n",
      "t=8300\n",
      "t=8400\n",
      "t=8500\n",
      "t=8600\n",
      "t=8700\n",
      "t=8800\n",
      "t=8900\n",
      "t=9000\n",
      "t=9100\n",
      "t=9200\n",
      "t=9300\n",
      "t=9400\n",
      "t=9500\n",
      "t=9600\n",
      "t=9700\n",
      "t=9800\n",
      "t=9900\n",
      "t=10000\n",
      "t=10100\n",
      "t=10200\n",
      "t=10300\n",
      "t=10400\n",
      "t=10500\n",
      "t=10600\n",
      "DONE! Reached the absorbing state.\n"
     ]
    }
   ],
   "source": [
    "rule = 'union'\n",
    "\n",
    "beta = 0.7\n",
    "p = 0.08\n",
    "n_A = 0\n",
    "\n",
    "output_path = 'results/%s_'%rule\n",
    "t_max = 1e5\n",
    "check_every = 100\n",
    "print_every=100\n",
    "\n",
    "HONG = HigherOrderNamingGame(simplices, rule)\n",
    "HONG.SetInitialConditions(beta=beta, p=p, n_A=n_A, verbose=True)\n",
    "HONG.run(output_path, t_max, check_every, print_every)\n"
   ]
  },
  {
   "cell_type": "code",
   "execution_count": 13,
   "id": "5c4437b3",
   "metadata": {},
   "outputs": [
    {
     "data": {
      "text/plain": [
       "<AxesSubplot:xlabel='time'>"
      ]
     },
     "execution_count": 13,
     "metadata": {},
     "output_type": "execute_result"
    },
    {
     "data": {
      "image/png": "[encoded data removed]",
      "text/plain": [
       "<Figure size 432x288 with 1 Axes>"
      ]
     },
     "metadata": {
      "needs_background": "light"
     },
     "output_type": "display_data"
    }
   ],
   "source": [
    "N = 500\n",
    "rule = 'union'\n",
    "beta = 0.7\n",
    "p = 0.08\n",
    "\n",
    "df = pd.read_csv('results/%s_HONG_densities_N%i_beta%.4f_p%.2f.csv'%(rule,N, beta, p))\n",
    "df.plot(x='time')"
   ]
  },
  {
   "cell_type": "code",
   "execution_count": 9,
   "id": "4741f6d8",
   "metadata": {},
   "outputs": [],
   "source": [
    "## full code is available here: https://github.com/iaciac/higher-order-NG"
   ]
  }
 ],
 "metadata": {
  "kernelspec": {
   "display_name": "stenv",
   "language": "python",
   "name": "stenv"
  },
  "language_info": {
   "codemirror_mode": {
    "name": "ipython",
    "version": 3
   },
   "file_extension": ".py",
   "mimetype": "text/x-python",
   "name": "python",
   "nbconvert_exporter": "python",
   "pygments_lexer": "ipython3",
   "version": "3.9.16"
  },
  "toc": {
   "base_numbering": 1,
   "nav_menu": {},
   "number_sections": true,
   "sideBar": true,
   "skip_h1_title": false,
   "title_cell": "Table of Contents",
   "title_sidebar": "Contents",
   "toc_cell": false,
   "toc_position": {
    "height": "calc(100% - 180px)",
    "left": "10px",
    "top": "150px",
    "width": "188.797px"
   },
   "toc_section_display": true,
   "toc_window_display": true
  }
 },
 "nbformat": 4,
 "nbformat_minor": 5
}
