{
 "cells": [
  {
   "cell_type": "markdown",
   "metadata": {},
   "source": [
    "# Basic network import and representation"
   ]
  },
  {
   "cell_type": "markdown",
   "metadata": {},
   "source": [
    "Here, we play a bit with some network datasets."
   ]
  },
  {
   "cell_type": "markdown",
   "metadata": {},
   "source": [
    "We analyze the dataset 'cit-HepTh' available from the SNAP repository: http://snap.stanford.edu/data/index.html\n",
    "\n",
    "There are several other repositories of network datasets, for instance:\n",
    "- http://konect.cc/networks/\n",
    "- https://networks.skewed.de/\n",
    "- http://networkrepository.com/\n",
    "- http://cnets.indiana.edu/resources/data-repository/\n",
    "- http://www.sociopatterns.org/datasets/"
   ]
  },
  {
   "cell_type": "code",
   "execution_count": 1,
   "metadata": {},
   "outputs": [],
   "source": [
    "import sys, math"
   ]
  },
  {
   "cell_type": "code",
   "execution_count": 2,
   "metadata": {},
   "outputs": [
    {
     "name": "stdout",
     "output_type": "stream",
     "text": [
      "Populating the interactive namespace from numpy and matplotlib\n"
     ]
    }
   ],
   "source": [
    "%pylab inline"
   ]
  },
  {
   "cell_type": "code",
   "execution_count": 3,
   "metadata": {},
   "outputs": [],
   "source": [
    "import collections as col"
   ]
  },
  {
   "cell_type": "markdown",
   "metadata": {},
   "source": [
    "We use a dictionary that associates a key (node) to a list of nodes (neighbours)"
   ]
  },
  {
   "cell_type": "code",
   "execution_count": 4,
   "metadata": {},
   "outputs": [
    {
     "name": "stdout",
     "output_type": "stream",
     "text": [
      "defaultdict(<class 'list'>, {})\n"
     ]
    }
   ],
   "source": [
    "links_out=col.defaultdict(list)\n",
    "print(links_out)"
   ]
  },
  {
   "cell_type": "markdown",
   "metadata": {},
   "source": [
    "We open the file containing the network and read each line"
   ]
  },
  {
   "cell_type": "code",
   "execution_count": 5,
   "metadata": {},
   "outputs": [],
   "source": [
    "filepath='./../datasets/cit-HepTh.txt'"
   ]
  },
  {
   "cell_type": "code",
   "execution_count": 6,
   "metadata": {},
   "outputs": [],
   "source": [
    "fh=open(filepath,'r')"
   ]
  },
  {
   "cell_type": "code",
   "execution_count": 7,
   "metadata": {},
   "outputs": [
    {
     "data": {
      "text/plain": [
       "<_io.TextIOWrapper name='./../datasets/cit-HepTh.txt' mode='r' encoding='UTF-8'>"
      ]
     },
     "execution_count": 7,
     "metadata": {},
     "output_type": "execute_result"
    }
   ],
   "source": [
    "fh"
   ]
  },
  {
   "cell_type": "code",
   "execution_count": 8,
   "metadata": {},
   "outputs": [],
   "source": [
    "s=fh.readlines()"
   ]
  },
  {
   "cell_type": "code",
   "execution_count": 9,
   "metadata": {},
   "outputs": [
    {
     "data": {
      "text/plain": [
       "['# Directed graph (each unordered pair of nodes is saved once): Cit-HepTh.txt \\n',\n",
       " '# Paper citation network of Arxiv High Energy Physics Theory category\\n',\n",
       " '# Nodes: 27770 Edges: 352807\\n',\n",
       " '# FromNodeId\\tToNodeId\\n']"
      ]
     },
     "execution_count": 9,
     "metadata": {},
     "output_type": "execute_result"
    }
   ],
   "source": [
    "s[:4]"
   ]
  },
  {
   "cell_type": "code",
   "execution_count": 11,
   "metadata": {},
   "outputs": [
    {
     "data": {
      "text/plain": [
       "['1001', '9407087']"
      ]
     },
     "execution_count": 11,
     "metadata": {},
     "output_type": "execute_result"
    }
   ],
   "source": [
    "s[10].strip().split()"
   ]
  },
  {
   "cell_type": "code",
   "execution_count": 12,
   "metadata": {},
   "outputs": [],
   "source": [
    "for line in s:\n",
    "    #remove \"\\n\" characters (.strip()) and split the line at blank spaces (split.())\n",
    "    t=line.strip().split()\n",
    "    if t[0]!='#':\n",
    "        #the first lines are comments\n",
    "        origin=int(t[0])\n",
    "        dest=int(t[1])\n",
    "        links_out[origin].append(dest)\n",
    "    \n",
    "#close the file\n",
    "fh.close()"
   ]
  },
  {
   "cell_type": "code",
   "execution_count": 16,
   "metadata": {},
   "outputs": [
    {
     "data": {
      "text/plain": [
       "83"
      ]
     },
     "execution_count": 16,
     "metadata": {},
     "output_type": "execute_result"
    }
   ],
   "source": [
    "len(links_out[1001])"
   ]
  },
  {
   "cell_type": "markdown",
   "metadata": {},
   "source": [
    "How many nodes are in the network?"
   ]
  },
  {
   "cell_type": "code",
   "execution_count": 14,
   "metadata": {},
   "outputs": [
    {
     "name": "stdout",
     "output_type": "stream",
     "text": [
      "25059\n"
     ]
    }
   ],
   "source": [
    "tot_nodes=len(links_out)\n",
    "print(tot_nodes)"
   ]
  },
  {
   "cell_type": "markdown",
   "metadata": {},
   "source": [
    "We calculate the out-degree distribution of the network."
   ]
  },
  {
   "cell_type": "code",
   "execution_count": 17,
   "metadata": {},
   "outputs": [],
   "source": [
    "degree_out={}\n",
    "\n",
    "for i in links_out:\n",
    "\n",
    "    deg_out=len(links_out[i])\n",
    "\n",
    "    if deg_out in degree_out:\n",
    "        degree_out[deg_out]+=1\n",
    "    else:\n",
    "        degree_out[deg_out]=1"
   ]
  },
  {
   "cell_type": "code",
   "execution_count": 19,
   "metadata": {},
   "outputs": [
    {
     "name": "stdout",
     "output_type": "stream",
     "text": [
      "[1, 2, 3, 4, 5, 6, 7, 8, 9, 10, 11, 12, 13, 14, 15, 16, 17, 18, 19, 20, 21, 22, 23, 24, 25, 26, 27, 28, 29, 30, 31, 32, 33, 34, 35, 36, 37, 38, 39, 40, 41, 42, 43, 44, 45, 46, 47, 48, 49, 50, 51, 52, 53, 54, 55, 56, 57, 58, 59, 60, 61, 62, 63, 64, 65, 66, 67, 68, 69, 70, 71, 72, 73, 74, 75, 76, 77, 78, 79, 80, 81, 82, 83, 84, 85, 86, 87, 88, 89, 90, 91, 92, 93, 94, 95, 96, 97, 98, 99, 100, 101, 102, 103, 104, 106, 107, 108, 109, 112, 115, 120, 121, 122, 123, 124, 125, 126, 134, 135, 136, 139, 142, 143, 146, 149, 154, 156, 157, 158, 159, 160, 165, 167, 169, 170, 175, 177, 180, 181, 198, 200, 201, 207, 211, 212, 214, 216, 226, 246, 263, 274, 289, 302, 359, 562]\n"
     ]
    }
   ],
   "source": [
    "print(sorted(degree_out.keys()))"
   ]
  },
  {
   "cell_type": "code",
   "execution_count": 20,
   "metadata": {},
   "outputs": [
    {
     "data": {
      "text/plain": [
       "{83: 6,\n",
       " 1: 2449,\n",
       " 7: 1087,\n",
       " 4: 1405,\n",
       " 2: 1951,\n",
       " 40: 104,\n",
       " 9: 847,\n",
       " 27: 250,\n",
       " 10: 790,\n",
       " 14: 622,\n",
       " 21: 398,\n",
       " 25: 333,\n",
       " 17: 503,\n",
       " 15: 556,\n",
       " 19: 429,\n",
       " 16: 519,\n",
       " 29: 246,\n",
       " 53: 32,\n",
       " 28: 244,\n",
       " 22: 384,\n",
       " 37: 135,\n",
       " 39: 114,\n",
       " 35: 162,\n",
       " 20: 412,\n",
       " 26: 284,\n",
       " 32: 194,\n",
       " 23: 339,\n",
       " 6: 1172,\n",
       " 11: 771,\n",
       " 30: 240,\n",
       " 41: 98,\n",
       " 65: 17,\n",
       " 24: 304,\n",
       " 31: 184,\n",
       " 34: 166,\n",
       " 56: 31,\n",
       " 18: 498,\n",
       " 13: 640,\n",
       " 58: 35,\n",
       " 36: 149,\n",
       " 8: 975,\n",
       " 42: 91,\n",
       " 47: 60,\n",
       " 52: 39,\n",
       " 38: 111,\n",
       " 5: 1272,\n",
       " 3: 1657,\n",
       " 72: 6,\n",
       " 121: 4,\n",
       " 54: 34,\n",
       " 75: 8,\n",
       " 12: 651,\n",
       " 55: 37,\n",
       " 84: 4,\n",
       " 59: 23,\n",
       " 33: 160,\n",
       " 51: 45,\n",
       " 46: 55,\n",
       " 63: 23,\n",
       " 44: 77,\n",
       " 50: 45,\n",
       " 73: 11,\n",
       " 71: 13,\n",
       " 74: 7,\n",
       " 45: 61,\n",
       " 165: 1,\n",
       " 126: 2,\n",
       " 214: 1,\n",
       " 562: 1,\n",
       " 68: 10,\n",
       " 64: 17,\n",
       " 48: 51,\n",
       " 57: 33,\n",
       " 134: 3,\n",
       " 49: 48,\n",
       " 216: 1,\n",
       " 154: 3,\n",
       " 61: 10,\n",
       " 159: 1,\n",
       " 85: 3,\n",
       " 359: 1,\n",
       " 43: 81,\n",
       " 78: 7,\n",
       " 60: 14,\n",
       " 62: 16,\n",
       " 66: 15,\n",
       " 157: 1,\n",
       " 67: 14,\n",
       " 98: 1,\n",
       " 70: 14,\n",
       " 115: 2,\n",
       " 104: 4,\n",
       " 86: 5,\n",
       " 207: 1,\n",
       " 99: 4,\n",
       " 109: 2,\n",
       " 81: 5,\n",
       " 123: 1,\n",
       " 97: 2,\n",
       " 100: 1,\n",
       " 167: 1,\n",
       " 91: 2,\n",
       " 201: 1,\n",
       " 69: 13,\n",
       " 125: 1,\n",
       " 77: 8,\n",
       " 89: 4,\n",
       " 79: 6,\n",
       " 87: 1,\n",
       " 90: 5,\n",
       " 82: 5,\n",
       " 106: 4,\n",
       " 263: 1,\n",
       " 143: 1,\n",
       " 102: 1,\n",
       " 80: 5,\n",
       " 158: 1,\n",
       " 95: 3,\n",
       " 181: 1,\n",
       " 274: 1,\n",
       " 76: 4,\n",
       " 122: 2,\n",
       " 175: 1,\n",
       " 149: 1,\n",
       " 212: 1,\n",
       " 101: 2,\n",
       " 302: 1,\n",
       " 96: 3,\n",
       " 120: 2,\n",
       " 200: 1,\n",
       " 108: 2,\n",
       " 226: 1,\n",
       " 142: 1,\n",
       " 107: 1,\n",
       " 88: 3,\n",
       " 246: 1,\n",
       " 160: 1,\n",
       " 94: 1,\n",
       " 93: 4,\n",
       " 135: 1,\n",
       " 146: 1,\n",
       " 211: 1,\n",
       " 124: 1,\n",
       " 198: 1,\n",
       " 177: 1,\n",
       " 289: 1,\n",
       " 169: 1,\n",
       " 180: 1,\n",
       " 170: 1,\n",
       " 156: 1,\n",
       " 92: 1,\n",
       " 103: 1,\n",
       " 139: 1,\n",
       " 136: 1,\n",
       " 112: 1}"
      ]
     },
     "execution_count": 20,
     "metadata": {},
     "output_type": "execute_result"
    }
   ],
   "source": [
    "degree_out"
   ]
  },
  {
   "cell_type": "markdown",
   "metadata": {},
   "source": [
    "We export the degree distribution to an output file."
   ]
  },
  {
   "cell_type": "code",
   "execution_count": 22,
   "metadata": {},
   "outputs": [],
   "source": [
    "s_deg=sorted(degree_out.keys())"
   ]
  },
  {
   "cell_type": "code",
   "execution_count": 24,
   "metadata": {},
   "outputs": [],
   "source": [
    "fout=open('./../datasets/Cit-HepTh-degout-distri.txt','w')\n",
    "for d in s_deg:\n",
    "    deg_freq=float(degree_out[d])/tot_nodes \n",
    "    \n",
    "    fout.write(str(d)+'  '+str(deg_freq)+'\\n')\n",
    "\n",
    "fout.close()"
   ]
  },
  {
   "cell_type": "code",
   "execution_count": 26,
   "metadata": {},
   "outputs": [
    {
     "name": "stdout",
     "output_type": "stream",
     "text": [
      "(83, 6)\n",
      "(1, 2449)\n",
      "(7, 1087)\n",
      "(4, 1405)\n",
      "(2, 1951)\n",
      "(40, 104)\n",
      "(9, 847)\n",
      "(27, 250)\n",
      "(10, 790)\n",
      "(14, 622)\n",
      "(21, 398)\n",
      "(25, 333)\n",
      "(17, 503)\n",
      "(15, 556)\n",
      "(19, 429)\n",
      "(16, 519)\n",
      "(29, 246)\n",
      "(53, 32)\n",
      "(28, 244)\n",
      "(22, 384)\n",
      "(37, 135)\n",
      "(39, 114)\n",
      "(35, 162)\n",
      "(20, 412)\n",
      "(26, 284)\n",
      "(32, 194)\n",
      "(23, 339)\n",
      "(6, 1172)\n",
      "(11, 771)\n",
      "(30, 240)\n",
      "(41, 98)\n",
      "(65, 17)\n",
      "(24, 304)\n",
      "(31, 184)\n",
      "(34, 166)\n",
      "(56, 31)\n",
      "(18, 498)\n",
      "(13, 640)\n",
      "(58, 35)\n",
      "(36, 149)\n",
      "(8, 975)\n",
      "(42, 91)\n",
      "(47, 60)\n",
      "(52, 39)\n",
      "(38, 111)\n",
      "(5, 1272)\n",
      "(3, 1657)\n",
      "(72, 6)\n",
      "(121, 4)\n",
      "(54, 34)\n",
      "(75, 8)\n",
      "(12, 651)\n",
      "(55, 37)\n",
      "(84, 4)\n",
      "(59, 23)\n",
      "(33, 160)\n",
      "(51, 45)\n",
      "(46, 55)\n",
      "(63, 23)\n",
      "(44, 77)\n",
      "(50, 45)\n",
      "(73, 11)\n",
      "(71, 13)\n",
      "(74, 7)\n",
      "(45, 61)\n",
      "(165, 1)\n",
      "(126, 2)\n",
      "(214, 1)\n",
      "(562, 1)\n",
      "(68, 10)\n",
      "(64, 17)\n",
      "(48, 51)\n",
      "(57, 33)\n",
      "(134, 3)\n",
      "(49, 48)\n",
      "(216, 1)\n",
      "(154, 3)\n",
      "(61, 10)\n",
      "(159, 1)\n",
      "(85, 3)\n",
      "(359, 1)\n",
      "(43, 81)\n",
      "(78, 7)\n",
      "(60, 14)\n",
      "(62, 16)\n",
      "(66, 15)\n",
      "(157, 1)\n",
      "(67, 14)\n",
      "(98, 1)\n",
      "(70, 14)\n",
      "(115, 2)\n",
      "(104, 4)\n",
      "(86, 5)\n",
      "(207, 1)\n",
      "(99, 4)\n",
      "(109, 2)\n",
      "(81, 5)\n",
      "(123, 1)\n",
      "(97, 2)\n",
      "(100, 1)\n",
      "(167, 1)\n",
      "(91, 2)\n",
      "(201, 1)\n",
      "(69, 13)\n",
      "(125, 1)\n",
      "(77, 8)\n",
      "(89, 4)\n",
      "(79, 6)\n",
      "(87, 1)\n",
      "(90, 5)\n",
      "(82, 5)\n",
      "(106, 4)\n",
      "(263, 1)\n",
      "(143, 1)\n",
      "(102, 1)\n",
      "(80, 5)\n",
      "(158, 1)\n",
      "(95, 3)\n",
      "(181, 1)\n",
      "(274, 1)\n",
      "(76, 4)\n",
      "(122, 2)\n",
      "(175, 1)\n",
      "(149, 1)\n",
      "(212, 1)\n",
      "(101, 2)\n",
      "(302, 1)\n",
      "(96, 3)\n",
      "(120, 2)\n",
      "(200, 1)\n",
      "(108, 2)\n",
      "(226, 1)\n",
      "(142, 1)\n",
      "(107, 1)\n",
      "(88, 3)\n",
      "(246, 1)\n",
      "(160, 1)\n",
      "(94, 1)\n",
      "(93, 4)\n",
      "(135, 1)\n",
      "(146, 1)\n",
      "(211, 1)\n",
      "(124, 1)\n",
      "(198, 1)\n",
      "(177, 1)\n",
      "(289, 1)\n",
      "(169, 1)\n",
      "(180, 1)\n",
      "(170, 1)\n",
      "(156, 1)\n",
      "(92, 1)\n",
      "(103, 1)\n",
      "(139, 1)\n",
      "(136, 1)\n",
      "(112, 1)\n"
     ]
    }
   ],
   "source": [
    "for i in degree_out.items():\n",
    "    print(i)"
   ]
  },
  {
   "cell_type": "code",
   "execution_count": 27,
   "metadata": {},
   "outputs": [],
   "source": [
    "from operator import itemgetter"
   ]
  },
  {
   "cell_type": "code",
   "execution_count": 29,
   "metadata": {},
   "outputs": [],
   "source": [
    "x=[]\n",
    "y=[]\n",
    "\n",
    "for i in sorted(degree_out.items(), key=itemgetter(0)):\n",
    "    x.append(i[0])\n",
    "    y.append(float(i[1])/tot_nodes)"
   ]
  },
  {
   "cell_type": "code",
   "execution_count": 32,
   "metadata": {},
   "outputs": [
    {
     "data": {
      "image/png": "[encoded data removed]",
      "text/plain": [
       "<Figure size 720x504 with 1 Axes>"
      ]
     },
     "metadata": {
      "needs_background": "light"
     },
     "output_type": "display_data"
    }
   ],
   "source": [
    "plt.figure(figsize=(10,7))   \n",
    "\n",
    "plt.plot(x,y)\n",
    "\n",
    "plt.xlabel('$k_{out}$', fontsize=24)\n",
    "plt.ylabel('$P(k_{out})$', fontsize=24)\n",
    "plt.xticks(fontsize=24)\n",
    "plt.yticks(fontsize=24)\n",
    "plt.yscale('log')\n",
    "plt.xscale('log')"
   ]
  },
  {
   "cell_type": "markdown",
   "metadata": {},
   "source": [
    "Let's have a look at the degree-in distribution."
   ]
  },
  {
   "cell_type": "code",
   "execution_count": 33,
   "metadata": {},
   "outputs": [],
   "source": [
    "links_in=col.defaultdict(list)\n",
    "\n",
    "fh=open(filepath,'r')\n",
    "#reading all the file lines\n",
    "for line in fh.readlines():\n",
    "    #remove \"\\n\" characters (.strip()) and split the line at blank spaces (split.())\n",
    "    s=line.strip().split()\n",
    "    if s[0]!='#':\n",
    "        #the first lines are comments\n",
    "        origin=int(s[0])\n",
    "        dest=int(s[1])\n",
    "        links_in[dest].append(origin)\n",
    "    \n",
    "#chiudo il file\n",
    "fh.close()"
   ]
  },
  {
   "cell_type": "code",
   "execution_count": 34,
   "metadata": {},
   "outputs": [
    {
     "name": "stdout",
     "output_type": "stream",
     "text": [
      "23180\n"
     ]
    }
   ],
   "source": [
    "degree_in=col.defaultdict(int)\n",
    "for i in links_in.keys():\n",
    "    deg=len(links_in[i])\n",
    "    degree_in[deg]+=1\n",
    "\n",
    "tot_nodes_in=len(links_in)\n",
    "print(tot_nodes_in)"
   ]
  },
  {
   "cell_type": "markdown",
   "metadata": {},
   "source": [
    "What is the difference from an exponential distribution?"
   ]
  },
  {
   "cell_type": "code",
   "execution_count": 35,
   "metadata": {},
   "outputs": [
    {
     "data": {
      "image/png": "[encoded data removed]",
      "text/plain": [
       "<Figure size 720x504 with 1 Axes>"
      ]
     },
     "metadata": {
      "needs_background": "light"
     },
     "output_type": "display_data"
    }
   ],
   "source": [
    "def f(t):\n",
    "    return np.exp(-0.5*t)\n",
    "\n",
    "x=[]\n",
    "y=[]\n",
    "for i in sorted(degree_in.items(), key=itemgetter(0)):\n",
    "    x.append(i[0])\n",
    "    y.append(float(i[1])/tot_nodes_in)\n",
    "\n",
    "plt.figure(figsize=(10,7))   \n",
    "    \n",
    "plt.plot(np.array(x),np.array(y))\n",
    "plt.plot(np.array(x), f(np.array(x)), label='Exponential')\n",
    "plt.xlabel('$k_{in}$', fontsize=24)\n",
    "plt.ylabel('$P(k_{in})$', fontsize=24)\n",
    "plt.xticks(fontsize=24)\n",
    "plt.yticks(fontsize=24)\n",
    "plt.yscale('log')\n",
    "plt.xscale('log')\n",
    "plt.axis([1,10000,0.00001,1])\n",
    "plt.legend()\n",
    "plt.show()"
   ]
  },
  {
   "cell_type": "code",
   "execution_count": null,
   "metadata": {},
   "outputs": [],
   "source": []
  },
  {
   "cell_type": "code",
   "execution_count": null,
   "metadata": {},
   "outputs": [],
   "source": []
  }
 ],
 "metadata": {
  "kernelspec": {
   "display_name": "Python 3",
   "language": "python",
   "name": "python3"
  },
  "language_info": {
   "codemirror_mode": {
    "name": "ipython",
    "version": 3
   },
   "file_extension": ".py",
   "mimetype": "text/x-python",
   "name": "python",
   "nbconvert_exporter": "python",
   "pygments_lexer": "ipython3",
   "version": "3.7.1"
  },
  "toc": {
   "base_numbering": 1,
   "nav_menu": {},
   "number_sections": true,
   "sideBar": true,
   "skip_h1_title": false,
   "title_cell": "Table of Contents",
   "title_sidebar": "Contents",
   "toc_cell": false,
   "toc_position": {},
   "toc_section_display": true,
   "toc_window_display": false
  }
 },
 "nbformat": 4,
 "nbformat_minor": 4
}
