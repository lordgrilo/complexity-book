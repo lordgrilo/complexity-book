{
 "cells": [
  {
   "cell_type": "markdown",
   "metadata": {},
   "source": [
    "# Epidemics on temporal networks "
   ]
  },
  {
   "cell_type": "markdown",
   "metadata": {},
   "source": [
    "**The temporal dynamics of networks affect dynamical processes defined one them**"
   ]
  },
  {
   "cell_type": "markdown",
   "metadata": {},
   "source": [
    "In 2001, Liljeros and collaborators found that the network of human sexual contacts is \"scale-free\" concluding that STI can be hard to eradicate because of such property. \n",
    "\n",
    "See: https://www.nature.com/nature/journal/v411/n6840/full/411907a0.html"
   ]
  },
  {
   "cell_type": "markdown",
   "metadata": {},
   "source": [
    "However, their conclusions were only partially true because the network of human sexual contacts is a *dynamical network* and temporal fluctuations are very important when considering a dynamical processes that take place on top of it."
   ]
  },
  {
   "cell_type": "markdown",
   "metadata": {},
   "source": [
    "In 2011, Rocha and collaborators published a temporal dataset of sexual contacts in Brazil: http://journals.plos.org/ploscompbiol/article?id=10.1371/journal.pcbi.1001109.\n",
    "We use this dataset to simulate an epidemic process (SI) and compare results between the static aggregated network and the dynamic network."
   ]
  },
  {
   "cell_type": "code",
   "execution_count": 1,
   "metadata": {},
   "outputs": [],
   "source": [
    "import networkx as nx\n",
    "from collections import defaultdict"
   ]
  },
  {
   "cell_type": "code",
   "execution_count": 2,
   "metadata": {},
   "outputs": [
    {
     "name": "stdout",
     "output_type": "stream",
     "text": [
      "%pylab is deprecated, use %matplotlib inline and import the required libraries.\n",
      "Populating the interactive namespace from numpy and matplotlib\n"
     ]
    }
   ],
   "source": [
    "# %#pylab inline"
   ]
  },
  {
   "cell_type": "code",
   "execution_count": 3,
   "metadata": {},
   "outputs": [],
   "source": [
    "import seaborn as sns"
   ]
  },
  {
   "cell_type": "code",
   "execution_count": 4,
   "metadata": {},
   "outputs": [],
   "source": [
    "filepath = \"./../network_data/Dataset_sexual_network.csv\""
   ]
  },
  {
   "cell_type": "code",
   "execution_count": 5,
   "metadata": {},
   "outputs": [],
   "source": [
    "edgelist = defaultdict(list)"
   ]
  },
  {
   "cell_type": "code",
   "execution_count": 7,
   "metadata": {},
   "outputs": [],
   "source": [
    "finput = open(filepath, \"r\")\n",
    "for line in finput.readlines():\n",
    "    if line[0] != \"#\":  # not a comment\n",
    "        s = line.strip().split(\";\")\n",
    "\n",
    "        day = int(s[2])\n",
    "        edge = (int(s[0]), int(s[1]))\n",
    "\n",
    "        edgelist[day].append(edge)\n",
    "\n",
    "finput.close()"
   ]
  },
  {
   "cell_type": "markdown",
   "metadata": {},
   "source": [
    "We first create the aggregated network "
   ]
  },
  {
   "cell_type": "code",
   "execution_count": 8,
   "metadata": {},
   "outputs": [],
   "source": [
    "G_agg = nx.Graph()\n",
    "G_agg.disease_status = {}"
   ]
  },
  {
   "cell_type": "code",
   "execution_count": 9,
   "metadata": {},
   "outputs": [],
   "source": [
    "daystart = 800  # we skip the transient\n",
    "dayend = 1800"
   ]
  },
  {
   "cell_type": "code",
   "execution_count": 11,
   "metadata": {},
   "outputs": [
    {
     "name": "stdout",
     "output_type": "stream",
     "text": [
      "The aggregated network has 11306 nodes\n",
      "The aggregated network has 23345 links\n"
     ]
    }
   ],
   "source": [
    "for d in edgelist:\n",
    "    if d >= daystart and d <= dayend:\n",
    "        links = edgelist[d]\n",
    "        G_agg.add_edges_from(links)  # we add the link to the graph\n",
    "\n",
    "print(\"The aggregated network has\", len(G_agg.nodes()), \"nodes\")\n",
    "print(\"The aggregated network has\", len(G_agg.edges()), \"links\")"
   ]
  },
  {
   "cell_type": "code",
   "execution_count": 12,
   "metadata": {},
   "outputs": [
    {
     "data": {
      "text/plain": [
       "False"
      ]
     },
     "execution_count": 12,
     "metadata": {},
     "output_type": "execute_result"
    }
   ],
   "source": [
    "nx.is_connected(G_agg)"
   ]
  },
  {
   "cell_type": "code",
   "execution_count": 13,
   "metadata": {},
   "outputs": [
    {
     "data": {
      "text/plain": [
       "337"
      ]
     },
     "execution_count": 13,
     "metadata": {},
     "output_type": "execute_result"
    }
   ],
   "source": [
    "nx.number_connected_components(G_agg)"
   ]
  },
  {
   "cell_type": "code",
   "execution_count": 14,
   "metadata": {},
   "outputs": [
    {
     "name": "stdout",
     "output_type": "stream",
     "text": [
      "10566\n",
      "3\n",
      "2\n",
      "2\n",
      "2\n",
      "2\n",
      "2\n",
      "2\n",
      "2\n",
      "3\n",
      "2\n",
      "4\n",
      "2\n",
      "2\n",
      "3\n",
      "2\n",
      "3\n",
      "2\n",
      "3\n",
      "2\n",
      "3\n",
      "2\n",
      "2\n",
      "2\n",
      "2\n",
      "2\n",
      "2\n",
      "2\n",
      "2\n",
      "3\n",
      "2\n",
      "2\n",
      "2\n",
      "2\n",
      "2\n",
      "2\n",
      "2\n",
      "2\n",
      "2\n",
      "2\n",
      "2\n",
      "2\n",
      "2\n",
      "3\n",
      "4\n",
      "2\n",
      "2\n",
      "6\n",
      "2\n",
      "4\n",
      "2\n",
      "4\n",
      "2\n",
      "3\n",
      "2\n",
      "2\n",
      "2\n",
      "2\n",
      "2\n",
      "2\n",
      "2\n",
      "2\n",
      "2\n",
      "2\n",
      "2\n",
      "2\n",
      "2\n",
      "2\n",
      "2\n",
      "2\n",
      "2\n",
      "2\n",
      "2\n",
      "2\n",
      "2\n",
      "2\n",
      "2\n",
      "2\n",
      "2\n",
      "2\n",
      "2\n",
      "2\n",
      "2\n",
      "3\n",
      "2\n",
      "2\n",
      "2\n",
      "2\n",
      "2\n",
      "2\n",
      "2\n",
      "3\n",
      "2\n",
      "2\n",
      "2\n",
      "2\n",
      "3\n",
      "2\n",
      "2\n",
      "2\n",
      "2\n",
      "2\n",
      "2\n",
      "2\n",
      "2\n",
      "2\n",
      "2\n",
      "2\n",
      "2\n",
      "2\n",
      "2\n",
      "2\n",
      "2\n",
      "2\n",
      "2\n",
      "2\n",
      "2\n",
      "2\n",
      "2\n",
      "2\n",
      "2\n",
      "2\n",
      "2\n",
      "2\n",
      "2\n",
      "2\n",
      "2\n",
      "3\n",
      "2\n",
      "2\n",
      "2\n",
      "2\n",
      "2\n",
      "2\n",
      "2\n",
      "2\n",
      "2\n",
      "2\n",
      "2\n",
      "2\n",
      "2\n",
      "2\n",
      "2\n",
      "2\n",
      "2\n",
      "2\n",
      "2\n",
      "3\n",
      "2\n",
      "2\n",
      "2\n",
      "3\n",
      "2\n",
      "2\n",
      "2\n",
      "2\n",
      "2\n",
      "3\n",
      "2\n",
      "2\n",
      "2\n",
      "3\n",
      "2\n",
      "2\n",
      "2\n",
      "2\n",
      "2\n",
      "2\n",
      "2\n",
      "2\n",
      "2\n",
      "2\n",
      "2\n",
      "2\n",
      "2\n",
      "2\n",
      "2\n",
      "5\n",
      "2\n",
      "2\n",
      "3\n",
      "2\n",
      "2\n",
      "2\n",
      "2\n",
      "2\n",
      "3\n",
      "2\n",
      "2\n",
      "2\n",
      "8\n",
      "2\n",
      "5\n",
      "2\n",
      "3\n",
      "3\n",
      "2\n",
      "2\n",
      "2\n",
      "2\n",
      "4\n",
      "2\n",
      "2\n",
      "2\n",
      "2\n",
      "2\n",
      "3\n",
      "2\n",
      "2\n",
      "2\n",
      "2\n",
      "2\n",
      "2\n",
      "2\n",
      "2\n",
      "2\n",
      "2\n",
      "2\n",
      "3\n",
      "2\n",
      "2\n",
      "3\n",
      "2\n",
      "2\n",
      "2\n",
      "2\n",
      "2\n",
      "2\n",
      "2\n",
      "2\n",
      "2\n",
      "5\n",
      "3\n",
      "2\n",
      "2\n",
      "3\n",
      "2\n",
      "2\n",
      "2\n",
      "2\n",
      "2\n",
      "2\n",
      "2\n",
      "2\n",
      "2\n",
      "3\n",
      "2\n",
      "2\n",
      "2\n",
      "2\n",
      "2\n",
      "2\n",
      "3\n",
      "2\n",
      "2\n",
      "2\n",
      "2\n",
      "2\n",
      "2\n",
      "2\n",
      "2\n",
      "2\n",
      "3\n",
      "2\n",
      "3\n",
      "2\n",
      "2\n",
      "2\n",
      "2\n",
      "2\n",
      "2\n",
      "2\n",
      "2\n",
      "2\n",
      "2\n",
      "3\n",
      "2\n",
      "2\n",
      "2\n",
      "2\n",
      "2\n",
      "2\n",
      "2\n",
      "2\n",
      "2\n",
      "2\n",
      "3\n",
      "2\n",
      "2\n",
      "2\n",
      "2\n",
      "2\n",
      "2\n",
      "2\n",
      "2\n",
      "4\n",
      "2\n",
      "2\n",
      "2\n",
      "2\n",
      "2\n",
      "4\n",
      "2\n",
      "2\n",
      "2\n",
      "2\n",
      "2\n",
      "3\n",
      "2\n",
      "2\n",
      "2\n",
      "2\n",
      "2\n",
      "2\n",
      "3\n",
      "2\n",
      "2\n",
      "2\n",
      "2\n",
      "2\n",
      "2\n",
      "3\n",
      "2\n",
      "2\n",
      "2\n",
      "2\n",
      "2\n",
      "2\n",
      "2\n",
      "2\n",
      "2\n",
      "2\n",
      "2\n",
      "2\n",
      "2\n",
      "2\n",
      "2\n"
     ]
    }
   ],
   "source": [
    "for i in nx.connected_components(G_agg):\n",
    "    print(len(i))"
   ]
  },
  {
   "cell_type": "markdown",
   "metadata": {},
   "source": [
    "---\n",
    "## Simulations on the time-aggregated graph"
   ]
  },
  {
   "cell_type": "code",
   "execution_count": 15,
   "metadata": {},
   "outputs": [
    {
     "name": "stdout",
     "output_type": "stream",
     "text": [
      "24\n",
      "The degree of the seed is 2\n"
     ]
    }
   ],
   "source": [
    "# let's choose a random seed\n",
    "import random\n",
    "\n",
    "seed_links = edgelist[daystart]\n",
    "print(len(seed_links))\n",
    "\n",
    "random.shuffle(seed_links)\n",
    "seed = seed_links[0][0]\n",
    "\n",
    "print(\"The degree of the seed is\", G_agg.degree(seed))"
   ]
  },
  {
   "cell_type": "code",
   "execution_count": 16,
   "metadata": {},
   "outputs": [],
   "source": [
    "infected_nodes = []\n",
    "infected_nodes.append(seed)\n",
    "\n",
    "for n in G_agg.nodes():\n",
    "    if n in infected_nodes:\n",
    "        G_agg.disease_status[n] = 1\n",
    "        # infected\n",
    "    else:\n",
    "        G_agg.disease_status[n] = 0\n",
    "        # susceptible"
   ]
  },
  {
   "cell_type": "code",
   "execution_count": 20,
   "metadata": {},
   "outputs": [],
   "source": [
    "from tqdm import tqdm"
   ]
  },
  {
   "cell_type": "code",
   "execution_count": 21,
   "metadata": {},
   "outputs": [
    {
     "name": "stderr",
     "output_type": "stream",
     "text": [
      "\n",
      "  0%|                                                                                                                                                                              | 0/1000 [00:00<?, ?it/s]\u001b[A\n",
      "  2%|██▊                                                                                                                                                                 | 17/1000 [00:00<00:05, 166.44it/s]\u001b[A\n",
      "  3%|█████▌                                                                                                                                                              | 34/1000 [00:00<00:05, 161.83it/s]\u001b[A\n",
      "  5%|████████▎                                                                                                                                                           | 51/1000 [00:00<00:05, 162.19it/s]\u001b[A\n",
      "  7%|███████████▏                                                                                                                                                        | 68/1000 [00:00<00:05, 162.77it/s]\u001b[A\n",
      "  8%|█████████████▉                                                                                                                                                      | 85/1000 [00:00<00:05, 163.02it/s]\u001b[A\n",
      " 10%|████████████████▋                                                                                                                                                  | 102/1000 [00:00<00:05, 161.50it/s]\u001b[A\n",
      " 12%|███████████████████▍                                                                                                                                               | 119/1000 [00:00<00:05, 159.84it/s]\u001b[A\n",
      " 14%|██████████████████████▏                                                                                                                                            | 136/1000 [00:00<00:05, 160.93it/s]\u001b[A\n",
      " 15%|████████████████████████▉                                                                                                                                          | 153/1000 [00:00<00:05, 161.34it/s]\u001b[A\n",
      " 17%|███████████████████████████▋                                                                                                                                       | 170/1000 [00:01<00:05, 156.14it/s]\u001b[A\n",
      " 19%|██████████████████████████████▎                                                                                                                                    | 186/1000 [00:01<00:05, 151.57it/s]\u001b[A\n",
      " 20%|████████████████████████████████▉                                                                                                                                  | 202/1000 [00:01<00:05, 145.94it/s]\u001b[A\n",
      " 22%|███████████████████████████████████▎                                                                                                                               | 217/1000 [00:01<00:05, 143.46it/s]\u001b[A\n",
      " 23%|█████████████████████████████████████▊                                                                                                                             | 232/1000 [00:01<00:05, 143.50it/s]\u001b[A\n",
      " 25%|████████████████████████████████████████▍                                                                                                                          | 248/1000 [00:01<00:05, 146.47it/s]\u001b[A\n",
      " 26%|██████████████████████████████████████████▊                                                                                                                        | 263/1000 [00:01<00:05, 145.26it/s]\u001b[A\n",
      " 28%|█████████████████████████████████████████████▎                                                                                                                     | 278/1000 [00:01<00:05, 143.07it/s]\u001b[A\n",
      " 29%|███████████████████████████████████████████████▊                                                                                                                   | 293/1000 [00:01<00:04, 142.96it/s]\u001b[A\n",
      " 31%|██████████████████████████████████████████████████▎                                                                                                                | 309/1000 [00:02<00:04, 146.72it/s]\u001b[A\n",
      " 33%|█████████████████████████████████████████████████████▏                                                                                                             | 326/1000 [00:02<00:04, 150.99it/s]\u001b[A\n",
      " 34%|███████████████████████████████████████████████████████▋                                                                                                           | 342/1000 [00:02<00:04, 153.18it/s]\u001b[A\n",
      " 36%|██████████████████████████████████████████████████████████▎                                                                                                        | 358/1000 [00:02<00:04, 154.51it/s]\u001b[A\n",
      " 37%|████████████████████████████████████████████████████████████▉                                                                                                      | 374/1000 [00:02<00:04, 152.73it/s]\u001b[A\n",
      " 39%|███████████████████████████████████████████████████████████████▌                                                                                                   | 390/1000 [00:02<00:04, 148.76it/s]\u001b[A\n",
      " 40%|██████████████████████████████████████████████████████████████████                                                                                                 | 405/1000 [00:02<00:04, 146.95it/s]\u001b[A\n",
      " 42%|████████████████████████████████████████████████████████████████████▍                                                                                              | 420/1000 [00:02<00:03, 145.74it/s]\u001b[A\n",
      " 44%|██████████████████████████████████████████████████████████████████████▉                                                                                            | 435/1000 [00:02<00:03, 146.14it/s]\u001b[A\n",
      " 45%|█████████████████████████████████████████████████████████████████████████▌                                                                                         | 451/1000 [00:02<00:03, 148.88it/s]\u001b[A\n",
      " 47%|████████████████████████████████████████████████████████████████████████████                                                                                       | 467/1000 [00:03<00:03, 149.76it/s]\u001b[A\n",
      " 48%|██████████████████████████████████████████████████████████████████████████████▌                                                                                    | 482/1000 [00:03<00:03, 147.51it/s]\u001b[A\n",
      " 50%|█████████████████████████████████████████████████████████████████████████████████                                                                                  | 497/1000 [00:03<00:03, 145.53it/s]\u001b[A\n",
      " 51%|███████████████████████████████████████████████████████████████████████████████████▍                                                                               | 512/1000 [00:03<00:03, 143.27it/s]\u001b[A\n",
      " 53%|█████████████████████████████████████████████████████████████████████████████████████▉                                                                             | 527/1000 [00:03<00:03, 142.69it/s]\u001b[A\n",
      " 54%|████████████████████████████████████████████████████████████████████████████████████████▌                                                                          | 543/1000 [00:03<00:03, 145.52it/s]\u001b[A\n",
      " 56%|███████████████████████████████████████████████████████████████████████████████████████████                                                                        | 559/1000 [00:03<00:02, 147.80it/s]\u001b[A\n",
      " 57%|█████████████████████████████████████████████████████████████████████████████████████████████▋                                                                     | 575/1000 [00:03<00:02, 150.05it/s]\u001b[A\n",
      " 59%|████████████████████████████████████████████████████████████████████████████████████████████████▎                                                                  | 591/1000 [00:03<00:02, 152.72it/s]\u001b[A\n",
      " 61%|███████████████████████████████████████████████████████████████████████████████████████████████████                                                                | 608/1000 [00:04<00:02, 156.41it/s]\u001b[A\n"
     ]
    },
    {
     "name": "stderr",
     "output_type": "stream",
     "text": [
      " 62%|█████████████████████████████████████████████████████████████████████████████████████████████████████▋                                                             | 624/1000 [00:04<00:02, 156.12it/s]\u001b[A\n",
      " 64%|████████████████████████████████████████████████████████████████████████████████████████████████████████▎                                                          | 640/1000 [00:04<00:02, 156.81it/s]\u001b[A\n",
      " 66%|██████████████████████████████████████████████████████████████████████████████████████████████████████████▉                                                        | 656/1000 [00:04<00:02, 157.38it/s]\u001b[A\n",
      " 67%|█████████████████████████████████████████████████████████████████████████████████████████████████████████████▌                                                     | 672/1000 [00:04<00:02, 157.79it/s]\u001b[A\n",
      " 69%|████████████████████████████████████████████████████████████████████████████████████████████████████████████████▏                                                  | 688/1000 [00:04<00:01, 157.83it/s]\u001b[A\n",
      " 70%|██████████████████████████████████████████████████████████████████████████████████████████████████████████████████▉                                                | 705/1000 [00:04<00:01, 160.67it/s]\u001b[A\n",
      " 72%|█████████████████████████████████████████████████████████████████████████████████████████████████████████████████████▋                                             | 722/1000 [00:04<00:01, 157.76it/s]\u001b[A\n",
      " 74%|████████████████████████████████████████████████████████████████████████████████████████████████████████████████████████▎                                          | 738/1000 [00:04<00:01, 152.76it/s]\u001b[A\n",
      " 75%|██████████████████████████████████████████████████████████████████████████████████████████████████████████████████████████▉                                        | 754/1000 [00:04<00:01, 149.89it/s]\u001b[A\n",
      " 77%|█████████████████████████████████████████████████████████████████████████████████████████████████████████████████████████████▌                                     | 770/1000 [00:05<00:01, 147.87it/s]\u001b[A\n",
      " 78%|███████████████████████████████████████████████████████████████████████████████████████████████████████████████████████████████▉                                   | 785/1000 [00:05<00:01, 145.95it/s]\u001b[A\n",
      " 80%|██████████████████████████████████████████████████████████████████████████████████████████████████████████████████████████████████▍                                | 800/1000 [00:05<00:01, 144.67it/s]\u001b[A\n",
      " 82%|█████████████████████████████████████████████████████████████████████████████████████████████████████████████████████████████████████                              | 816/1000 [00:05<00:01, 146.77it/s]\u001b[A\n",
      " 83%|███████████████████████████████████████████████████████████████████████████████████████████████████████████████████████████████████████▍                           | 831/1000 [00:05<00:01, 147.48it/s]\u001b[A\n",
      " 85%|██████████████████████████████████████████████████████████████████████████████████████████████████████████████████████████████████████████▏                        | 848/1000 [00:05<00:01, 151.91it/s]\u001b[A\n",
      " 86%|████████████████████████████████████████████████████████████████████████████████████████████████████████████████████████████████████████████▊                      | 864/1000 [00:05<00:00, 153.49it/s]\u001b[A\n",
      " 88%|███████████████████████████████████████████████████████████████████████████████████████████████████████████████████████████████████████████████▌                   | 881/1000 [00:05<00:00, 156.55it/s]\u001b[A\n",
      " 90%|██████████████████████████████████████████████████████████████████████████████████████████████████████████████████████████████████████████████████▎                | 898/1000 [00:05<00:00, 158.70it/s]\u001b[A\n",
      " 92%|█████████████████████████████████████████████████████████████████████████████████████████████████████████████████████████████████████████████████████▏             | 915/1000 [00:06<00:00, 159.96it/s]\u001b[A\n",
      " 93%|███████████████████████████████████████████████████████████████████████████████████████████████████████████████████████████████████████████████████████▊           | 931/1000 [00:06<00:00, 154.97it/s]\u001b[A\n",
      " 95%|██████████████████████████████████████████████████████████████████████████████████████████████████████████████████████████████████████████████████████████▎        | 947/1000 [00:06<00:00, 150.69it/s]\u001b[A\n",
      " 96%|████████████████████████████████████████████████████████████████████████████████████████████████████████████████████████████████████████████████████████████▉      | 963/1000 [00:06<00:00, 148.67it/s]\u001b[A\n",
      " 98%|███████████████████████████████████████████████████████████████████████████████████████████████████████████████████████████████████████████████████████████████▌   | 979/1000 [00:06<00:00, 149.91it/s]\u001b[A\n",
      "100%|██████████████████████████████████████████████████████████████████████████████████████████████████████████████████████████████████████████████████████████████████| 1000/1000 [00:06<00:00, 151.69it/s]\u001b[A"
     ]
    },
    {
     "name": "stdout",
     "output_type": "stream",
     "text": [
      "The final size of the epidemic is 0.9345480275959668\n"
     ]
    },
    {
     "name": "stderr",
     "output_type": "stream",
     "text": [
      "\n"
     ]
    }
   ],
   "source": [
    "Itime_agg = []\n",
    "\n",
    "# there are 1000 days of network activity but the network does not change!\n",
    "\n",
    "for t in tqdm(list(range(0, 1000))):\n",
    "    for i in infected_nodes:\n",
    "        for j in G_agg.neighbors(i):\n",
    "            if G_agg.disease_status[j] == 0:\n",
    "                G_agg.disease_status[j] = 1  # the probability of infection is 1!!\n",
    "\n",
    "    # ciclo per aggiornare l'elenco dei nodi infetti\n",
    "    infected_nodes = []\n",
    "    for n in G_agg.nodes():\n",
    "        if G_agg.disease_status[n] == 1:\n",
    "            infected_nodes.append(n)\n",
    "    # for-loop aggionrmento nodi guariti\n",
    "\n",
    "    Itime_agg.append(len(infected_nodes))\n",
    "\n",
    "print(\n",
    "    \"The final size of the epidemic is\", float(len(infected_nodes)) / len(G_agg.nodes())\n",
    ")"
   ]
  },
  {
   "cell_type": "code",
   "execution_count": 22,
   "metadata": {},
   "outputs": [
    {
     "data": {
      "text/plain": [
       "(0.0, 20.0, -1.0, 10600.0)"
      ]
     },
     "execution_count": 22,
     "metadata": {},
     "output_type": "execute_result"
    },
    {
     "data": {
      "image/png": "[encoded data removed]",
      "text/plain": [
       "<Figure size 1000x700 with 1 Axes>"
      ]
     },
     "metadata": {},
     "output_type": "display_data"
    }
   ],
   "source": [
    "plt.figure(figsize=(10, 7))\n",
    "plt.xlabel(\"Time\", fontsize=18)\n",
    "plt.ylabel(\"Infected individuals\", fontsize=18)\n",
    "plt.xticks(fontsize=14)\n",
    "plt.yticks(fontsize=14)\n",
    "plt.plot(range(0, len(Itime_agg)), Itime_agg)\n",
    "plt.axis([0, 20, -1, 10600])"
   ]
  },
  {
   "cell_type": "markdown",
   "metadata": {},
   "source": [
    "---\n",
    "## Simulations on the full dynamic network"
   ]
  },
  {
   "cell_type": "code",
   "execution_count": 23,
   "metadata": {},
   "outputs": [],
   "source": [
    "G_dyn = nx.Graph()\n",
    "G_dyn.disease_status = {}"
   ]
  },
  {
   "cell_type": "code",
   "execution_count": 24,
   "metadata": {},
   "outputs": [],
   "source": [
    "seed_links = edgelist[daystart]\n",
    "random.shuffle(seed_links)\n",
    "seed = seed_links[0][0]"
   ]
  },
  {
   "cell_type": "code",
   "execution_count": 25,
   "metadata": {},
   "outputs": [
    {
     "data": {
      "text/plain": [
       "98"
      ]
     },
     "execution_count": 25,
     "metadata": {},
     "output_type": "execute_result"
    }
   ],
   "source": [
    "seed"
   ]
  },
  {
   "cell_type": "code",
   "execution_count": 26,
   "metadata": {},
   "outputs": [],
   "source": [
    "infected_nodes = []\n",
    "infected_nodes.append(seed)\n",
    "\n",
    "G_dyn.add_edges_from(seed_links)  # we consider only the links that are active on day 0\n",
    "\n",
    "for n in G_dyn.nodes():\n",
    "    if n in infected_nodes:\n",
    "        G_dyn.disease_status[n] = 1\n",
    "        # infected\n",
    "    else:\n",
    "        G_dyn.disease_status[n] = 0\n",
    "        # susceptible"
   ]
  },
  {
   "cell_type": "code",
   "execution_count": 27,
   "metadata": {},
   "outputs": [
    {
     "name": "stdout",
     "output_type": "stream",
     "text": [
      "The temporal network has 22 nodes on day 800\n",
      "The temporal network has 12 edges on day 800\n",
      "The degree of the seed is 1\n",
      "The final size of the epidemic is 0.7244825756235627\n"
     ]
    }
   ],
   "source": [
    "Itime_dyn = []\n",
    "\n",
    "for t in range(daystart, dayend + 1):\n",
    "    links = edgelist[t]  # these are the links active on day t\n",
    "\n",
    "    if t == daystart:\n",
    "        print(\"The temporal network has\", len(G_dyn.nodes()), \"nodes on day\", daystart)\n",
    "        print(\"The temporal network has\", len(G_dyn.edges()), \"edges on day\", daystart)\n",
    "        print(\"The degree of the seed is\", G_dyn.degree(seed))\n",
    "    else:\n",
    "        G_dyn.add_edges_from(links)\n",
    "        for e in links:\n",
    "            if e[0] not in G_dyn.disease_status:\n",
    "                G_dyn.disease_status[e[0]] = 0\n",
    "            if e[1] not in G_dyn.disease_status:\n",
    "                G_dyn.disease_status[e[1]] = 0\n",
    "\n",
    "    # ciclo sui nodi infetti per la trasmissione\n",
    "    for i in infected_nodes:\n",
    "        for j in G_dyn.neighbors(i):\n",
    "            if G_dyn.disease_status[j] == 0:\n",
    "                G_dyn.disease_status[j] = 1\n",
    "\n",
    "    # ciclo per aggiornare l'elenco dei nodi infetti\n",
    "    infected_nodes = []\n",
    "    for n in G_dyn.nodes():\n",
    "        if G_dyn.disease_status[n] == 1:\n",
    "            infected_nodes.append(n)\n",
    "\n",
    "    Itime_dyn.append(len(infected_nodes))\n",
    "\n",
    "    # stampo il numero di nodi infetti a ogni time-step\n",
    "    G_dyn.remove_edges_from(links)\n",
    "\n",
    "print(\n",
    "    \"The final size of the epidemic is\", float(len(infected_nodes)) / len(G_dyn.nodes())\n",
    ")"
   ]
  },
  {
   "cell_type": "code",
   "execution_count": 28,
   "metadata": {},
   "outputs": [
    {
     "data": {
      "text/plain": [
       "<matplotlib.legend.Legend at 0x1779a3a30>"
      ]
     },
     "execution_count": 28,
     "metadata": {},
     "output_type": "execute_result"
    },
    {
     "data": {
      "image/png": "[encoded data removed]",
      "text/plain": [
       "<Figure size 1000x700 with 1 Axes>"
      ]
     },
     "metadata": {},
     "output_type": "display_data"
    }
   ],
   "source": [
    "plt.figure(figsize=(10, 7))\n",
    "plt.xticks(fontsize=14)\n",
    "plt.yticks(fontsize=14)\n",
    "plt.xlabel(\"time\", fontsize=18)\n",
    "plt.ylabel(\"infected individuals\", fontsize=18)\n",
    "plt.plot(range(0, len(Itime_agg)), Itime_agg, label=\"static\")\n",
    "plt.plot(range(0, len(Itime_dyn)), Itime_dyn, label=\"dynamic\")\n",
    "plt.legend()\n",
    "# plt.axis([0,365,-1,10600])"
   ]
  },
  {
   "cell_type": "markdown",
   "metadata": {
    "collapsed": true,
    "jupyter": {
     "outputs_hidden": true
    }
   },
   "source": [
    "## homeworks\n",
    "- does it accelerate if randomized? \n",
    "- does it if clustering coefficient (triangles)? \n",
    "- does it if temporal clustering? \n"
   ]
  },
  {
   "cell_type": "code",
   "execution_count": null,
   "metadata": {},
   "outputs": [],
   "source": []
  }
 ],
 "metadata": {
  "kernelspec": {
   "display_name": "python_39",
   "language": "python",
   "name": "python_39"
  },
  "language_info": {
   "codemirror_mode": {
    "name": "ipython",
    "version": 3
   },
   "file_extension": ".py",
   "mimetype": "text/x-python",
   "name": "python",
   "nbconvert_exporter": "python",
   "pygments_lexer": "ipython3",
   "version": "3.9.13"
  },
  "toc": {
   "base_numbering": 1,
   "nav_menu": {},
   "number_sections": true,
   "sideBar": true,
   "skip_h1_title": false,
   "title_cell": "Table of Contents",
   "title_sidebar": "Contents",
   "toc_cell": false,
   "toc_position": {},
   "toc_section_display": true,
   "toc_window_display": false
  }
 },
 "nbformat": 4,
 "nbformat_minor": 4
}
