{
 "cells": [
  {
   "cell_type": "markdown",
   "id": "417f4911",
   "metadata": {},
   "source": [
    "# Case study: sync"
   ]
  },
  {
   "cell_type": "markdown",
   "id": "ea90ba86",
   "metadata": {},
   "source": [
    "Here, using XGI, we reproduce figures 1 and 2 of the paper  \n",
    "\"Higher-order interactions shape collective dynamics differently in hypergraphs and simplicial complexes\"  \n",
    "Yuanzhao Zhang *, Maxime Lucas *, Federico Battiston  \n",
    "Nature Communications 14.1 (2023): 1605  \n",
    "https://doi.org/10.1038/s41467-023-37190-9"
   ]
  },
  {
   "cell_type": "code",
   "execution_count": 1,
   "id": "8da1197d",
   "metadata": {},
   "outputs": [],
   "source": [
    "import matplotlib.pyplot as plt\n",
    "import numpy as np\n",
    "import seaborn as sb\n",
    "from mpl_toolkits.axes_grid1.inset_locator import inset_axes\n",
    "\n",
    "import xgi\n",
    "\n",
    "sb.set_context(\"paper\")\n",
    "sb.set_theme(style=\"ticks\")"
   ]
  },
  {
   "cell_type": "code",
   "execution_count": 2,
   "id": "af5bece2",
   "metadata": {},
   "outputs": [],
   "source": [
    "# utility functions to compute the Lyapunov exponents from the Laplacians\n",
    "def compute_eigenvalues(H, order, weight, rescale_per_node=True):\n",
    "    \"\"\"Returns the Lyapunov exponents of corresponding to the Laplacian of order d.\n",
    "\n",
    "    Parameters\n",
    "    ----------\n",
    "    HG : xgi.HyperGraph\n",
    "        Hypergraph\n",
    "    order : int\n",
    "        Order to consider.\n",
    "    weight: float\n",
    "        Weight, i.e coupling strenght gamma in [1]_.\n",
    "    rescale_per_node: bool, (default=True)\n",
    "        Whether to rescale each Laplacian of order d by d (per node).\n",
    "\n",
    "    Returns\n",
    "    -------\n",
    "    lyap : array\n",
    "        Array of dim (N,) with unsorted Lyapunov exponents\n",
    "    \"\"\"\n",
    "\n",
    "    # compute Laplacian\n",
    "    L = xgi.laplacian(H, order, rescale_per_node=rescale_per_node)\n",
    "    K = xgi.degree_matrix(H, order)\n",
    "\n",
    "    # compute eigenvalues\n",
    "    eivals, _ = np.linalg.eig(L)\n",
    "    lyap = -(weight / np.mean(K)) * eivals\n",
    "    return lyap\n",
    "\n",
    "\n",
    "def compute_eigenvalues_multi(H, orders, weights, rescale_per_node=True):\n",
    "    \"\"\"Returns the Lyapunov exponents of corresponding to the muliotder Laplacian.\n",
    "\n",
    "    Parameters\n",
    "    ----------\n",
    "    HG : xgi.HyperGraph\n",
    "        Hypergraph\n",
    "    orders : list of int\n",
    "        Orders of interactions to consider.\n",
    "    weights: list of float\n",
    "        Weight of each order, i.e coupling strenghts gamma_i in [1]_.\n",
    "    rescale_per_node: bool, (default=True)\n",
    "        Whether to rescale each Laplacian of order d by d (per node).\n",
    "\n",
    "    Returns\n",
    "    -------\n",
    "    lyap : array\n",
    "        Array of dim (N,) with unsorted Lyapunov exponents\n",
    "    \"\"\"\n",
    "\n",
    "    # compute multiorder Laplacian\n",
    "    L_multi = xgi.multiorder_laplacian(\n",
    "        H, orders, weights, rescale_per_node=rescale_per_node\n",
    "    )\n",
    "\n",
    "    # compute eigenvalues\n",
    "    eivals_multi, _ = np.linalg.eig(L_multi)\n",
    "    lyap_multi = -eivals_multi\n",
    "    return lyap_multi"
   ]
  },
  {
   "cell_type": "markdown",
   "id": "b70265e6",
   "metadata": {},
   "source": [
    "## Fig. 1"
   ]
  },
  {
   "cell_type": "markdown",
   "id": "dee920f0",
   "metadata": {},
   "source": [
    "### Generate random structures"
   ]
  },
  {
   "cell_type": "code",
   "execution_count": 3,
   "id": "f568cc20",
   "metadata": {},
   "outputs": [],
   "source": [
    "N = 50  # number of nodes\n",
    "ps = [\n",
    "    0.1,\n",
    "    0.1,\n",
    "]  # ps[i] is the wiring probability of any i+2 nodes (ps[0] is for edges, e.g.)\n",
    "alpha = 0.5  # ratio between coupling strength of 1st and 2nd order interaction (must be in [0,1])\n",
    "# rescale = True # whether to rescale\n",
    "\n",
    "n_repetitions = 3  # number of realisations of random structures\n",
    "\n",
    "# generate random hypergraphs\n",
    "HGs = [xgi.random_hypergraph(N, ps) for i in range(n_repetitions)]"
   ]
  },
  {
   "cell_type": "code",
   "execution_count": 4,
   "id": "8a6dcbc3",
   "metadata": {},
   "outputs": [],
   "source": [
    "# generate random simplicial complex\n",
    "MSCs = [xgi.random_flag_complex_d2(N, p=0.5) for i in range(n_repetitions)]"
   ]
  },
  {
   "cell_type": "markdown",
   "id": "326410db",
   "metadata": {},
   "source": [
    "### Compute Lyapunov exponents"
   ]
  },
  {
   "cell_type": "code",
   "execution_count": 5,
   "id": "84b71678",
   "metadata": {},
   "outputs": [],
   "source": [
    "alphas = np.arange(0, 1.01, 0.1)\n",
    "n_alpha = len(alphas)\n",
    "\n",
    "lyaps_HG = np.zeros((n_alpha, N, n_repetitions))\n",
    "\n",
    "# compute Lyapunov exponents for all alpha values\n",
    "for j, HG in enumerate(HGs):  # for all hypergraphs\n",
    "    for i, alpha in enumerate(alphas):\n",
    "        lyap_1 = compute_eigenvalues(HG, order=1, weight=1 - alpha)\n",
    "        lyap_2 = compute_eigenvalues(HG, order=2, weight=alpha)\n",
    "        lyap_multi = compute_eigenvalues_multi(\n",
    "            HG, orders=[1, 2], weights=[1 - alpha, alpha]\n",
    "        )\n",
    "\n",
    "        lyap_multi = np.sort(lyap_multi)[::-1]\n",
    "        lyaps_HG[i, :, j] = lyap_multi\n",
    "\n",
    "lyaps_MSC = np.zeros((n_alpha, N, n_repetitions))\n",
    "\n",
    "# compute Lyapunov exponents for all alpha values\n",
    "for j, MSC in enumerate(MSCs):  # for all simplicial complexes\n",
    "    for i, alpha in enumerate(alphas):\n",
    "        lyap_1 = compute_eigenvalues(MSC, order=1, weight=1 - alpha)\n",
    "        lyap_2 = compute_eigenvalues(MSC, order=2, weight=alpha)\n",
    "        lyap_multi = compute_eigenvalues_multi(\n",
    "            MSC, orders=[1, 2], weights=[1 - alpha, alpha]\n",
    "        )\n",
    "\n",
    "        lyap_multi = np.sort(lyap_multi)[::-1]\n",
    "        lyaps_MSC[i, :, j] = lyap_multi"
   ]
  },
  {
   "cell_type": "code",
   "execution_count": 6,
   "id": "4d4c0e17",
   "metadata": {},
   "outputs": [],
   "source": [
    "# average and std over the random realisations\n",
    "# consider the second largest exponents only\n",
    "means_HG = np.mean(lyaps_HG[:, 1, :], axis=1)\n",
    "std_HG = np.std(lyaps_HG[:, 1, :], axis=1)\n",
    "\n",
    "means_MSC = np.mean(lyaps_MSC[:, 1, :], axis=1)\n",
    "std_MSC = np.std(lyaps_MSC[:, 1, :], axis=1)"
   ]
  },
  {
   "cell_type": "markdown",
   "id": "dd87fef7",
   "metadata": {},
   "source": [
    "### Plot results"
   ]
  },
  {
   "cell_type": "code",
   "execution_count": 7,
   "id": "34c89003",
   "metadata": {},
   "outputs": [
    {
     "data": {
      "image/png": "[encoded data removed]",
      "text/plain": [
       "<Figure size 400x270 with 1 Axes>"
      ]
     },
     "metadata": {},
     "output_type": "display_data"
    }
   ],
   "source": [
    "fig, ax = plt.subplots(figsize=(4, 2.7))\n",
    "\n",
    "ax.errorbar(\n",
    "    alphas,\n",
    "    means_HG,\n",
    "    yerr=std_HG,\n",
    "    fmt=\"-o\",\n",
    "    color=\"C0\",\n",
    "    ecolor=\"gray\",\n",
    "    elinewidth=3,\n",
    "    capsize=0,\n",
    "    label=\"hypergraph\",\n",
    ")\n",
    "\n",
    "ax.errorbar(\n",
    "    alphas,\n",
    "    means_MSC,\n",
    "    yerr=std_MSC,\n",
    "    fmt=\"-o\",\n",
    "    color=\"C2\",\n",
    "    ecolor=\"gray\",\n",
    "    elinewidth=3,\n",
    "    capsize=0,\n",
    "    label=\"simplicial complex\",\n",
    ")\n",
    "\n",
    "ax.set_ylabel(r\"$\\lambda_2$\")\n",
    "ax.set_xlabel(r\"$\\alpha$\")\n",
    "\n",
    "ax.set_xticks([0, 0.5, 1])\n",
    "\n",
    "sb.despine()\n",
    "ax.legend(frameon=False)\n",
    "\n",
    "fig_name = f\"lambda2_HG_SC_N_{N}_ps_{ps}_nrep_{n_repetitions}\"\n",
    "# plt.savefig(f\"{fig_name}.pdf\", dpi=250, bbox_inches=\"tight\")\n",
    "\n",
    "plt.show()"
   ]
  },
  {
   "cell_type": "markdown",
   "id": "6532c771",
   "metadata": {},
   "source": [
    "## Fig. 2"
   ]
  },
  {
   "cell_type": "markdown",
   "id": "952fe950",
   "metadata": {},
   "source": [
    "### Generate random structures and compute exponents"
   ]
  },
  {
   "cell_type": "code",
   "execution_count": 8,
   "id": "6a10eb47",
   "metadata": {},
   "outputs": [],
   "source": [
    "N = 50  # number of nodes\n",
    "\n",
    "p_1s = [0.2, 0.4, 0.6, 0.8]  # wiring probability of 1-hyperedges\n",
    "p_2 = 0.05  # wiring probability of 2-hyperedges\n",
    "alphas = np.arange(0, 1.01, 0.05)\n",
    "\n",
    "HGs_2 = []\n",
    "lyaps_HG_2 = np.zeros((len(p_1s), len(alphas), N))\n",
    "\n",
    "for j, p_1 in enumerate(p_1s):\n",
    "    ps = [\n",
    "        p_1,\n",
    "        p_2,\n",
    "    ]  # ps[i] is the wiring probability of any i+2 nodes (ps[0] is for edges, e.g.)\n",
    "\n",
    "    # generate hyperedges\n",
    "    HG = xgi.random_hypergraph(N, ps, seed=0)\n",
    "    HGs_2.append(HG)\n",
    "\n",
    "    # compute exponents\n",
    "    for i, alpha in enumerate(alphas):\n",
    "        lyap_1 = compute_eigenvalues(HG, order=1, weight=1 - alpha)\n",
    "        lyap_2 = compute_eigenvalues(HG, order=2, weight=alpha)\n",
    "        lyap_multi = compute_eigenvalues_multi(\n",
    "            HG, orders=[1, 2], weights=[1 - alpha, alpha]\n",
    "        )\n",
    "\n",
    "        lyap_multi = np.sort(lyap_multi)[::-1]\n",
    "        lyaps_HG_2[j, i, :] = lyap_multi"
   ]
  },
  {
   "cell_type": "code",
   "execution_count": 9,
   "id": "22f40a59",
   "metadata": {},
   "outputs": [],
   "source": [
    "def bound_multi(H, alpha, rescale_per_node=True):\n",
    "    \"\"\"Returns the lower bound N/(N-1) k_min\n",
    "\n",
    "    Parameters\n",
    "    ----------\n",
    "    HG : xgi.HyperGraph\n",
    "        Hypergraph\n",
    "    orders : list of int\n",
    "        Orders of interactions to consider.\n",
    "    weights: list of float\n",
    "        Weight of each order, i.e coupling strenghts gamma_i in [1]_.\n",
    "    rescale_per_node: bool, (default=False)\n",
    "        Whether to rescale each Laplacian of order d by d (per node).\n",
    "\n",
    "    Returns\n",
    "    -------\n",
    "    float, bound of the Lyapunov exponent\n",
    "    \"\"\"\n",
    "    L_multi = xgi.multiorder_laplacian(\n",
    "        H, orders=[1, 2], weights=[1 - alpha, alpha], rescale_per_node=rescale_per_node\n",
    "    )\n",
    "    K_multi = np.diag(L_multi)\n",
    "    N = H.num_nodes\n",
    "    return -(N / (N - 1)) * np.min(K_multi)"
   ]
  },
  {
   "cell_type": "code",
   "execution_count": 10,
   "id": "c1c1df22",
   "metadata": {},
   "outputs": [],
   "source": [
    "# compute theoretical bound\n",
    "bound = np.array([bound_multi(HGs_2[-1], alpha) for alpha in alphas])"
   ]
  },
  {
   "cell_type": "markdown",
   "id": "c0446955",
   "metadata": {},
   "source": [
    "### Plot results"
   ]
  },
  {
   "cell_type": "code",
   "execution_count": 12,
   "id": "b04ab8c3",
   "metadata": {},
   "outputs": [
    {
     "data": {
      "image/png": "[encoded data removed]",
      "text/plain": [
       "<Figure size 288x194.4 with 2 Axes>"
      ]
     },
     "metadata": {},
     "output_type": "display_data"
    }
   ],
   "source": [
    "fig, ax = plt.subplots(figsize=(4, 2.7))\n",
    "\n",
    "# set gradient palette (might need to re-run to make it effective)\n",
    "palette = sb.dark_palette(\"#69d\", reverse=True)\n",
    "sb.set_palette(palette)\n",
    "\n",
    "# plot curves\n",
    "for i, p_1 in enumerate(p_1s):\n",
    "    ax.plot(alphas, lyaps_HG_2[i, :, 1], \"o-\", label=f\"$p={p_1:.1f}$\", ms=5)\n",
    "\n",
    "ax.set_ylabel(r\"$\\lambda_2$\")\n",
    "ax.set_xlabel(r\"$\\alpha$\")\n",
    "\n",
    "ax.set_yticks([-0.5, -0.7, -0.9])\n",
    "ax.set_xticks([0, 0.5, 1])\n",
    "\n",
    "ax.legend(frameon=False, loc=\"center left\", bbox_to_anchor=(1, 0.2))\n",
    "\n",
    "# add inset with bound\n",
    "# Create inset of width 30% and height 40% of the parent axes' bounding box\n",
    "# at the lower left corner (loc=3)\n",
    "axins = inset_axes(ax, width=\"40%\", height=\"40%\")\n",
    "k = 3\n",
    "axins.plot(\n",
    "    alphas, lyaps_HG_2[k, :, 1], \"o-\", c=f\"C{k}\", label=f\"$p={p_1s[k]:.1f}$\", ms=5\n",
    ")\n",
    "axins.plot(alphas, bound, \"--\", label=\"bound\", c=\"grey\")\n",
    "\n",
    "axins.set_ylabel(r\"$\\lambda_2$\")\n",
    "axins.set_xlabel(r\"$\\alpha$\")\n",
    "axins.set_yticklabels([])\n",
    "\n",
    "axins.legend(frameon=False, loc=\"center left\", bbox_to_anchor=(1, 0.5))\n",
    "\n",
    "sb.despine()\n",
    "\n",
    "ax.text(\n",
    "    0.99, 0.02, \"(a)\", transform=ax.transAxes, va=\"bottom\", ha=\"right\", weight=\"bold\"\n",
    ")\n",
    "axins.text(\n",
    "    0.015, 0.03, \"(b)\", transform=axins.transAxes, va=\"bottom\", ha=\"left\", weight=\"bold\"\n",
    ")\n",
    "\n",
    "fig_name = f\"phase_diagram_lines_p2_{p_2}\"\n",
    "# plt.savefig(f\"{fig_name}.pdf\", dpi=250, bbox_inches=\"tight\")\n",
    "\n",
    "plt.show()"
   ]
  },
  {
   "cell_type": "code",
   "execution_count": null,
   "id": "50cb0782",
   "metadata": {},
   "outputs": [],
   "source": []
  }
 ],
 "metadata": {
  "kernelspec": {
   "display_name": "venv_xgi",
   "language": "python",
   "name": "venv_xgi"
  },
  "language_info": {
   "codemirror_mode": {
    "name": "ipython",
    "version": 3
   },
   "file_extension": ".py",
   "mimetype": "text/x-python",
   "name": "python",
   "nbconvert_exporter": "python",
   "pygments_lexer": "ipython3",
   "version": "3.9.13"
  },
  "toc": {
   "base_numbering": 1,
   "nav_menu": {},
   "number_sections": true,
   "sideBar": true,
   "skip_h1_title": false,
   "title_cell": "Table of Contents",
   "title_sidebar": "Contents",
   "toc_cell": false,
   "toc_position": {},
   "toc_section_display": true,
   "toc_window_display": true
  },
  "vscode": {
   "interpreter": {
    "hash": "78db47bee367e3fae825d59af43d695909ce208402094df58551906768c6e91c"
   }
  }
 },
 "nbformat": 4,
 "nbformat_minor": 5
}
